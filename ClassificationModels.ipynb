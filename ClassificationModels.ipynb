{
  "nbformat": 4,
  "nbformat_minor": 0,
  "metadata": {
    "colab": {
      "name": "ClassificationModels.ipynb",
      "provenance": [],
      "collapsed_sections": [
        "zkWmPFzG8qoQ",
        "dr17CWr08qw8"
      ],
      "include_colab_link": true
    },
    "kernelspec": {
      "display_name": "Python 3",
      "language": "python",
      "name": "python3"
    },
    "language_info": {
      "codemirror_mode": {
        "name": "ipython",
        "version": 3
      },
      "file_extension": ".py",
      "mimetype": "text/x-python",
      "name": "python",
      "nbconvert_exporter": "python",
      "pygments_lexer": "ipython3",
      "version": "3.6.7"
    },
    "widgets": {
      "application/vnd.jupyter.widget-state+json": {
        "5714da6b1d4b453abbf3a90ad7efbca6": {
          "model_module": "@jupyter-widgets/controls",
          "model_name": "HBoxModel",
          "state": {
            "_view_name": "HBoxView",
            "_dom_classes": [],
            "_model_name": "HBoxModel",
            "_view_module": "@jupyter-widgets/controls",
            "_model_module_version": "1.5.0",
            "_view_count": null,
            "_view_module_version": "1.5.0",
            "box_style": "",
            "layout": "IPY_MODEL_7be72bda14114bf1ba1453bb38a27507",
            "_model_module": "@jupyter-widgets/controls",
            "children": [
              "IPY_MODEL_e721bd4d6163402196d4772515c75987",
              "IPY_MODEL_3de11f3441bc484799be532767765f4b"
            ]
          }
        },
        "7be72bda14114bf1ba1453bb38a27507": {
          "model_module": "@jupyter-widgets/base",
          "model_name": "LayoutModel",
          "state": {
            "_view_name": "LayoutView",
            "grid_template_rows": null,
            "right": null,
            "justify_content": null,
            "_view_module": "@jupyter-widgets/base",
            "overflow": null,
            "_model_module_version": "1.2.0",
            "_view_count": null,
            "flex_flow": null,
            "width": null,
            "min_width": null,
            "border": null,
            "align_items": null,
            "bottom": null,
            "_model_module": "@jupyter-widgets/base",
            "top": null,
            "grid_column": null,
            "overflow_y": null,
            "overflow_x": null,
            "grid_auto_flow": null,
            "grid_area": null,
            "grid_template_columns": null,
            "flex": null,
            "_model_name": "LayoutModel",
            "justify_items": null,
            "grid_row": null,
            "max_height": null,
            "align_content": null,
            "visibility": null,
            "align_self": null,
            "height": null,
            "min_height": null,
            "padding": null,
            "grid_auto_rows": null,
            "grid_gap": null,
            "max_width": null,
            "order": null,
            "_view_module_version": "1.2.0",
            "grid_template_areas": null,
            "object_position": null,
            "object_fit": null,
            "grid_auto_columns": null,
            "margin": null,
            "display": null,
            "left": null
          }
        },
        "e721bd4d6163402196d4772515c75987": {
          "model_module": "@jupyter-widgets/controls",
          "model_name": "FloatProgressModel",
          "state": {
            "_view_name": "ProgressView",
            "style": "IPY_MODEL_9544a52bec1f47c29a3ef55d9cf63eef",
            "_dom_classes": [],
            "description": "Summarize dataset: 100%",
            "_model_name": "FloatProgressModel",
            "bar_style": "success",
            "max": 29,
            "_view_module": "@jupyter-widgets/controls",
            "_model_module_version": "1.5.0",
            "value": 29,
            "_view_count": null,
            "_view_module_version": "1.5.0",
            "orientation": "horizontal",
            "min": 0,
            "description_tooltip": null,
            "_model_module": "@jupyter-widgets/controls",
            "layout": "IPY_MODEL_d7c2626a3662408a800a3d070802e8bb"
          }
        },
        "3de11f3441bc484799be532767765f4b": {
          "model_module": "@jupyter-widgets/controls",
          "model_name": "HTMLModel",
          "state": {
            "_view_name": "HTMLView",
            "style": "IPY_MODEL_c9d30094b5944687bbcdf11f025edda3",
            "_dom_classes": [],
            "description": "",
            "_model_name": "HTMLModel",
            "placeholder": "​",
            "_view_module": "@jupyter-widgets/controls",
            "_model_module_version": "1.5.0",
            "value": " 29/29 [00:11&lt;00:00,  2.46it/s, Completed]",
            "_view_count": null,
            "_view_module_version": "1.5.0",
            "description_tooltip": null,
            "_model_module": "@jupyter-widgets/controls",
            "layout": "IPY_MODEL_6a0b14dd29df499e9634c6183e72c508"
          }
        },
        "9544a52bec1f47c29a3ef55d9cf63eef": {
          "model_module": "@jupyter-widgets/controls",
          "model_name": "ProgressStyleModel",
          "state": {
            "_view_name": "StyleView",
            "_model_name": "ProgressStyleModel",
            "description_width": "initial",
            "_view_module": "@jupyter-widgets/base",
            "_model_module_version": "1.5.0",
            "_view_count": null,
            "_view_module_version": "1.2.0",
            "bar_color": null,
            "_model_module": "@jupyter-widgets/controls"
          }
        },
        "d7c2626a3662408a800a3d070802e8bb": {
          "model_module": "@jupyter-widgets/base",
          "model_name": "LayoutModel",
          "state": {
            "_view_name": "LayoutView",
            "grid_template_rows": null,
            "right": null,
            "justify_content": null,
            "_view_module": "@jupyter-widgets/base",
            "overflow": null,
            "_model_module_version": "1.2.0",
            "_view_count": null,
            "flex_flow": null,
            "width": null,
            "min_width": null,
            "border": null,
            "align_items": null,
            "bottom": null,
            "_model_module": "@jupyter-widgets/base",
            "top": null,
            "grid_column": null,
            "overflow_y": null,
            "overflow_x": null,
            "grid_auto_flow": null,
            "grid_area": null,
            "grid_template_columns": null,
            "flex": null,
            "_model_name": "LayoutModel",
            "justify_items": null,
            "grid_row": null,
            "max_height": null,
            "align_content": null,
            "visibility": null,
            "align_self": null,
            "height": null,
            "min_height": null,
            "padding": null,
            "grid_auto_rows": null,
            "grid_gap": null,
            "max_width": null,
            "order": null,
            "_view_module_version": "1.2.0",
            "grid_template_areas": null,
            "object_position": null,
            "object_fit": null,
            "grid_auto_columns": null,
            "margin": null,
            "display": null,
            "left": null
          }
        },
        "c9d30094b5944687bbcdf11f025edda3": {
          "model_module": "@jupyter-widgets/controls",
          "model_name": "DescriptionStyleModel",
          "state": {
            "_view_name": "StyleView",
            "_model_name": "DescriptionStyleModel",
            "description_width": "",
            "_view_module": "@jupyter-widgets/base",
            "_model_module_version": "1.5.0",
            "_view_count": null,
            "_view_module_version": "1.2.0",
            "_model_module": "@jupyter-widgets/controls"
          }
        },
        "6a0b14dd29df499e9634c6183e72c508": {
          "model_module": "@jupyter-widgets/base",
          "model_name": "LayoutModel",
          "state": {
            "_view_name": "LayoutView",
            "grid_template_rows": null,
            "right": null,
            "justify_content": null,
            "_view_module": "@jupyter-widgets/base",
            "overflow": null,
            "_model_module_version": "1.2.0",
            "_view_count": null,
            "flex_flow": null,
            "width": null,
            "min_width": null,
            "border": null,
            "align_items": null,
            "bottom": null,
            "_model_module": "@jupyter-widgets/base",
            "top": null,
            "grid_column": null,
            "overflow_y": null,
            "overflow_x": null,
            "grid_auto_flow": null,
            "grid_area": null,
            "grid_template_columns": null,
            "flex": null,
            "_model_name": "LayoutModel",
            "justify_items": null,
            "grid_row": null,
            "max_height": null,
            "align_content": null,
            "visibility": null,
            "align_self": null,
            "height": null,
            "min_height": null,
            "padding": null,
            "grid_auto_rows": null,
            "grid_gap": null,
            "max_width": null,
            "order": null,
            "_view_module_version": "1.2.0",
            "grid_template_areas": null,
            "object_position": null,
            "object_fit": null,
            "grid_auto_columns": null,
            "margin": null,
            "display": null,
            "left": null
          }
        },
        "743e3b9844da41aea7e41d0b432b99b6": {
          "model_module": "@jupyter-widgets/controls",
          "model_name": "HBoxModel",
          "state": {
            "_view_name": "HBoxView",
            "_dom_classes": [],
            "_model_name": "HBoxModel",
            "_view_module": "@jupyter-widgets/controls",
            "_model_module_version": "1.5.0",
            "_view_count": null,
            "_view_module_version": "1.5.0",
            "box_style": "",
            "layout": "IPY_MODEL_e5310070f6e441018b665ee8a715aff2",
            "_model_module": "@jupyter-widgets/controls",
            "children": [
              "IPY_MODEL_b310a4936c4144169e80ee8accc2e436",
              "IPY_MODEL_732f636833e94a41b88724c2c9470351"
            ]
          }
        },
        "e5310070f6e441018b665ee8a715aff2": {
          "model_module": "@jupyter-widgets/base",
          "model_name": "LayoutModel",
          "state": {
            "_view_name": "LayoutView",
            "grid_template_rows": null,
            "right": null,
            "justify_content": null,
            "_view_module": "@jupyter-widgets/base",
            "overflow": null,
            "_model_module_version": "1.2.0",
            "_view_count": null,
            "flex_flow": null,
            "width": null,
            "min_width": null,
            "border": null,
            "align_items": null,
            "bottom": null,
            "_model_module": "@jupyter-widgets/base",
            "top": null,
            "grid_column": null,
            "overflow_y": null,
            "overflow_x": null,
            "grid_auto_flow": null,
            "grid_area": null,
            "grid_template_columns": null,
            "flex": null,
            "_model_name": "LayoutModel",
            "justify_items": null,
            "grid_row": null,
            "max_height": null,
            "align_content": null,
            "visibility": null,
            "align_self": null,
            "height": null,
            "min_height": null,
            "padding": null,
            "grid_auto_rows": null,
            "grid_gap": null,
            "max_width": null,
            "order": null,
            "_view_module_version": "1.2.0",
            "grid_template_areas": null,
            "object_position": null,
            "object_fit": null,
            "grid_auto_columns": null,
            "margin": null,
            "display": null,
            "left": null
          }
        },
        "b310a4936c4144169e80ee8accc2e436": {
          "model_module": "@jupyter-widgets/controls",
          "model_name": "FloatProgressModel",
          "state": {
            "_view_name": "ProgressView",
            "style": "IPY_MODEL_3399d73dc3c148ae8c98cbd6dd321bdc",
            "_dom_classes": [],
            "description": "Generate report structure: 100%",
            "_model_name": "FloatProgressModel",
            "bar_style": "success",
            "max": 1,
            "_view_module": "@jupyter-widgets/controls",
            "_model_module_version": "1.5.0",
            "value": 1,
            "_view_count": null,
            "_view_module_version": "1.5.0",
            "orientation": "horizontal",
            "min": 0,
            "description_tooltip": null,
            "_model_module": "@jupyter-widgets/controls",
            "layout": "IPY_MODEL_87130326ac7c4809afabadf9ad24a507"
          }
        },
        "732f636833e94a41b88724c2c9470351": {
          "model_module": "@jupyter-widgets/controls",
          "model_name": "HTMLModel",
          "state": {
            "_view_name": "HTMLView",
            "style": "IPY_MODEL_a35720177aae4e5dad4ee9c6f8292838",
            "_dom_classes": [],
            "description": "",
            "_model_name": "HTMLModel",
            "placeholder": "​",
            "_view_module": "@jupyter-widgets/controls",
            "_model_module_version": "1.5.0",
            "value": " 1/1 [2:44:39&lt;00:00, 9879.27s/it]",
            "_view_count": null,
            "_view_module_version": "1.5.0",
            "description_tooltip": null,
            "_model_module": "@jupyter-widgets/controls",
            "layout": "IPY_MODEL_dde8fbbe08864c2380281228ba1ebb08"
          }
        },
        "3399d73dc3c148ae8c98cbd6dd321bdc": {
          "model_module": "@jupyter-widgets/controls",
          "model_name": "ProgressStyleModel",
          "state": {
            "_view_name": "StyleView",
            "_model_name": "ProgressStyleModel",
            "description_width": "initial",
            "_view_module": "@jupyter-widgets/base",
            "_model_module_version": "1.5.0",
            "_view_count": null,
            "_view_module_version": "1.2.0",
            "bar_color": null,
            "_model_module": "@jupyter-widgets/controls"
          }
        },
        "87130326ac7c4809afabadf9ad24a507": {
          "model_module": "@jupyter-widgets/base",
          "model_name": "LayoutModel",
          "state": {
            "_view_name": "LayoutView",
            "grid_template_rows": null,
            "right": null,
            "justify_content": null,
            "_view_module": "@jupyter-widgets/base",
            "overflow": null,
            "_model_module_version": "1.2.0",
            "_view_count": null,
            "flex_flow": null,
            "width": null,
            "min_width": null,
            "border": null,
            "align_items": null,
            "bottom": null,
            "_model_module": "@jupyter-widgets/base",
            "top": null,
            "grid_column": null,
            "overflow_y": null,
            "overflow_x": null,
            "grid_auto_flow": null,
            "grid_area": null,
            "grid_template_columns": null,
            "flex": null,
            "_model_name": "LayoutModel",
            "justify_items": null,
            "grid_row": null,
            "max_height": null,
            "align_content": null,
            "visibility": null,
            "align_self": null,
            "height": null,
            "min_height": null,
            "padding": null,
            "grid_auto_rows": null,
            "grid_gap": null,
            "max_width": null,
            "order": null,
            "_view_module_version": "1.2.0",
            "grid_template_areas": null,
            "object_position": null,
            "object_fit": null,
            "grid_auto_columns": null,
            "margin": null,
            "display": null,
            "left": null
          }
        },
        "a35720177aae4e5dad4ee9c6f8292838": {
          "model_module": "@jupyter-widgets/controls",
          "model_name": "DescriptionStyleModel",
          "state": {
            "_view_name": "StyleView",
            "_model_name": "DescriptionStyleModel",
            "description_width": "",
            "_view_module": "@jupyter-widgets/base",
            "_model_module_version": "1.5.0",
            "_view_count": null,
            "_view_module_version": "1.2.0",
            "_model_module": "@jupyter-widgets/controls"
          }
        },
        "dde8fbbe08864c2380281228ba1ebb08": {
          "model_module": "@jupyter-widgets/base",
          "model_name": "LayoutModel",
          "state": {
            "_view_name": "LayoutView",
            "grid_template_rows": null,
            "right": null,
            "justify_content": null,
            "_view_module": "@jupyter-widgets/base",
            "overflow": null,
            "_model_module_version": "1.2.0",
            "_view_count": null,
            "flex_flow": null,
            "width": null,
            "min_width": null,
            "border": null,
            "align_items": null,
            "bottom": null,
            "_model_module": "@jupyter-widgets/base",
            "top": null,
            "grid_column": null,
            "overflow_y": null,
            "overflow_x": null,
            "grid_auto_flow": null,
            "grid_area": null,
            "grid_template_columns": null,
            "flex": null,
            "_model_name": "LayoutModel",
            "justify_items": null,
            "grid_row": null,
            "max_height": null,
            "align_content": null,
            "visibility": null,
            "align_self": null,
            "height": null,
            "min_height": null,
            "padding": null,
            "grid_auto_rows": null,
            "grid_gap": null,
            "max_width": null,
            "order": null,
            "_view_module_version": "1.2.0",
            "grid_template_areas": null,
            "object_position": null,
            "object_fit": null,
            "grid_auto_columns": null,
            "margin": null,
            "display": null,
            "left": null
          }
        },
        "505b8fd9d0184d4b94f4982fce92974e": {
          "model_module": "@jupyter-widgets/controls",
          "model_name": "HBoxModel",
          "state": {
            "_view_name": "HBoxView",
            "_dom_classes": [],
            "_model_name": "HBoxModel",
            "_view_module": "@jupyter-widgets/controls",
            "_model_module_version": "1.5.0",
            "_view_count": null,
            "_view_module_version": "1.5.0",
            "box_style": "",
            "layout": "IPY_MODEL_dc7c51f943a34568a08c61918de1e1ee",
            "_model_module": "@jupyter-widgets/controls",
            "children": [
              "IPY_MODEL_19587dbc617b423a94f5048a5233f990",
              "IPY_MODEL_6ae0fb77ff6b4f6c81fd1a39c5e74134"
            ]
          }
        },
        "dc7c51f943a34568a08c61918de1e1ee": {
          "model_module": "@jupyter-widgets/base",
          "model_name": "LayoutModel",
          "state": {
            "_view_name": "LayoutView",
            "grid_template_rows": null,
            "right": null,
            "justify_content": null,
            "_view_module": "@jupyter-widgets/base",
            "overflow": null,
            "_model_module_version": "1.2.0",
            "_view_count": null,
            "flex_flow": null,
            "width": null,
            "min_width": null,
            "border": null,
            "align_items": null,
            "bottom": null,
            "_model_module": "@jupyter-widgets/base",
            "top": null,
            "grid_column": null,
            "overflow_y": null,
            "overflow_x": null,
            "grid_auto_flow": null,
            "grid_area": null,
            "grid_template_columns": null,
            "flex": null,
            "_model_name": "LayoutModel",
            "justify_items": null,
            "grid_row": null,
            "max_height": null,
            "align_content": null,
            "visibility": null,
            "align_self": null,
            "height": null,
            "min_height": null,
            "padding": null,
            "grid_auto_rows": null,
            "grid_gap": null,
            "max_width": null,
            "order": null,
            "_view_module_version": "1.2.0",
            "grid_template_areas": null,
            "object_position": null,
            "object_fit": null,
            "grid_auto_columns": null,
            "margin": null,
            "display": null,
            "left": null
          }
        },
        "19587dbc617b423a94f5048a5233f990": {
          "model_module": "@jupyter-widgets/controls",
          "model_name": "FloatProgressModel",
          "state": {
            "_view_name": "ProgressView",
            "style": "IPY_MODEL_dd3338c73ccc4dedafc8dbe281dd5142",
            "_dom_classes": [],
            "description": "Render HTML: 100%",
            "_model_name": "FloatProgressModel",
            "bar_style": "success",
            "max": 1,
            "_view_module": "@jupyter-widgets/controls",
            "_model_module_version": "1.5.0",
            "value": 1,
            "_view_count": null,
            "_view_module_version": "1.5.0",
            "orientation": "horizontal",
            "min": 0,
            "description_tooltip": null,
            "_model_module": "@jupyter-widgets/controls",
            "layout": "IPY_MODEL_31e756adcbcd4dc6a519b4120ada17e0"
          }
        },
        "6ae0fb77ff6b4f6c81fd1a39c5e74134": {
          "model_module": "@jupyter-widgets/controls",
          "model_name": "HTMLModel",
          "state": {
            "_view_name": "HTMLView",
            "style": "IPY_MODEL_6ecd376f8d4d4ec9bfa3758f2d74a797",
            "_dom_classes": [],
            "description": "",
            "_model_name": "HTMLModel",
            "placeholder": "​",
            "_view_module": "@jupyter-widgets/controls",
            "_model_module_version": "1.5.0",
            "value": " 1/1 [2:16:48&lt;00:00, 8208.44s/it]",
            "_view_count": null,
            "_view_module_version": "1.5.0",
            "description_tooltip": null,
            "_model_module": "@jupyter-widgets/controls",
            "layout": "IPY_MODEL_2ffda74c82004e58b65fcf83f0f874c9"
          }
        },
        "dd3338c73ccc4dedafc8dbe281dd5142": {
          "model_module": "@jupyter-widgets/controls",
          "model_name": "ProgressStyleModel",
          "state": {
            "_view_name": "StyleView",
            "_model_name": "ProgressStyleModel",
            "description_width": "initial",
            "_view_module": "@jupyter-widgets/base",
            "_model_module_version": "1.5.0",
            "_view_count": null,
            "_view_module_version": "1.2.0",
            "bar_color": null,
            "_model_module": "@jupyter-widgets/controls"
          }
        },
        "31e756adcbcd4dc6a519b4120ada17e0": {
          "model_module": "@jupyter-widgets/base",
          "model_name": "LayoutModel",
          "state": {
            "_view_name": "LayoutView",
            "grid_template_rows": null,
            "right": null,
            "justify_content": null,
            "_view_module": "@jupyter-widgets/base",
            "overflow": null,
            "_model_module_version": "1.2.0",
            "_view_count": null,
            "flex_flow": null,
            "width": null,
            "min_width": null,
            "border": null,
            "align_items": null,
            "bottom": null,
            "_model_module": "@jupyter-widgets/base",
            "top": null,
            "grid_column": null,
            "overflow_y": null,
            "overflow_x": null,
            "grid_auto_flow": null,
            "grid_area": null,
            "grid_template_columns": null,
            "flex": null,
            "_model_name": "LayoutModel",
            "justify_items": null,
            "grid_row": null,
            "max_height": null,
            "align_content": null,
            "visibility": null,
            "align_self": null,
            "height": null,
            "min_height": null,
            "padding": null,
            "grid_auto_rows": null,
            "grid_gap": null,
            "max_width": null,
            "order": null,
            "_view_module_version": "1.2.0",
            "grid_template_areas": null,
            "object_position": null,
            "object_fit": null,
            "grid_auto_columns": null,
            "margin": null,
            "display": null,
            "left": null
          }
        },
        "6ecd376f8d4d4ec9bfa3758f2d74a797": {
          "model_module": "@jupyter-widgets/controls",
          "model_name": "DescriptionStyleModel",
          "state": {
            "_view_name": "StyleView",
            "_model_name": "DescriptionStyleModel",
            "description_width": "",
            "_view_module": "@jupyter-widgets/base",
            "_model_module_version": "1.5.0",
            "_view_count": null,
            "_view_module_version": "1.2.0",
            "_model_module": "@jupyter-widgets/controls"
          }
        },
        "2ffda74c82004e58b65fcf83f0f874c9": {
          "model_module": "@jupyter-widgets/base",
          "model_name": "LayoutModel",
          "state": {
            "_view_name": "LayoutView",
            "grid_template_rows": null,
            "right": null,
            "justify_content": null,
            "_view_module": "@jupyter-widgets/base",
            "overflow": null,
            "_model_module_version": "1.2.0",
            "_view_count": null,
            "flex_flow": null,
            "width": null,
            "min_width": null,
            "border": null,
            "align_items": null,
            "bottom": null,
            "_model_module": "@jupyter-widgets/base",
            "top": null,
            "grid_column": null,
            "overflow_y": null,
            "overflow_x": null,
            "grid_auto_flow": null,
            "grid_area": null,
            "grid_template_columns": null,
            "flex": null,
            "_model_name": "LayoutModel",
            "justify_items": null,
            "grid_row": null,
            "max_height": null,
            "align_content": null,
            "visibility": null,
            "align_self": null,
            "height": null,
            "min_height": null,
            "padding": null,
            "grid_auto_rows": null,
            "grid_gap": null,
            "max_width": null,
            "order": null,
            "_view_module_version": "1.2.0",
            "grid_template_areas": null,
            "object_position": null,
            "object_fit": null,
            "grid_auto_columns": null,
            "margin": null,
            "display": null,
            "left": null
          }
        },
        "262b3e86f3014b47b1281b426e363181": {
          "model_module": "@jupyter-widgets/controls",
          "model_name": "HBoxModel",
          "state": {
            "_view_name": "HBoxView",
            "_dom_classes": [],
            "_model_name": "HBoxModel",
            "_view_module": "@jupyter-widgets/controls",
            "_model_module_version": "1.5.0",
            "_view_count": null,
            "_view_module_version": "1.5.0",
            "box_style": "",
            "layout": "IPY_MODEL_e823e6dd40f74a71b1bdfb09d10cbe79",
            "_model_module": "@jupyter-widgets/controls",
            "children": [
              "IPY_MODEL_20565e8246af46e9885ea4950be7cc13",
              "IPY_MODEL_d79e5fe9b2bf40d89f67fe4789c7eb18"
            ]
          }
        },
        "e823e6dd40f74a71b1bdfb09d10cbe79": {
          "model_module": "@jupyter-widgets/base",
          "model_name": "LayoutModel",
          "state": {
            "_view_name": "LayoutView",
            "grid_template_rows": null,
            "right": null,
            "justify_content": null,
            "_view_module": "@jupyter-widgets/base",
            "overflow": null,
            "_model_module_version": "1.2.0",
            "_view_count": null,
            "flex_flow": null,
            "width": null,
            "min_width": null,
            "border": null,
            "align_items": null,
            "bottom": null,
            "_model_module": "@jupyter-widgets/base",
            "top": null,
            "grid_column": null,
            "overflow_y": null,
            "overflow_x": null,
            "grid_auto_flow": null,
            "grid_area": null,
            "grid_template_columns": null,
            "flex": null,
            "_model_name": "LayoutModel",
            "justify_items": null,
            "grid_row": null,
            "max_height": null,
            "align_content": null,
            "visibility": null,
            "align_self": null,
            "height": null,
            "min_height": null,
            "padding": null,
            "grid_auto_rows": null,
            "grid_gap": null,
            "max_width": null,
            "order": null,
            "_view_module_version": "1.2.0",
            "grid_template_areas": null,
            "object_position": null,
            "object_fit": null,
            "grid_auto_columns": null,
            "margin": null,
            "display": null,
            "left": null
          }
        },
        "20565e8246af46e9885ea4950be7cc13": {
          "model_module": "@jupyter-widgets/controls",
          "model_name": "FloatProgressModel",
          "state": {
            "_view_name": "ProgressView",
            "style": "IPY_MODEL_8da2d72276f6460984b3c276e7a7c4cb",
            "_dom_classes": [],
            "description": "Export report to file: 100%",
            "_model_name": "FloatProgressModel",
            "bar_style": "success",
            "max": 1,
            "_view_module": "@jupyter-widgets/controls",
            "_model_module_version": "1.5.0",
            "value": 1,
            "_view_count": null,
            "_view_module_version": "1.5.0",
            "orientation": "horizontal",
            "min": 0,
            "description_tooltip": null,
            "_model_module": "@jupyter-widgets/controls",
            "layout": "IPY_MODEL_ab7134dccf51449ebc1fe08af8171ac6"
          }
        },
        "d79e5fe9b2bf40d89f67fe4789c7eb18": {
          "model_module": "@jupyter-widgets/controls",
          "model_name": "HTMLModel",
          "state": {
            "_view_name": "HTMLView",
            "style": "IPY_MODEL_c0c0a193130e44138df724cfcaccc5bc",
            "_dom_classes": [],
            "description": "",
            "_model_name": "HTMLModel",
            "placeholder": "​",
            "_view_module": "@jupyter-widgets/controls",
            "_model_module_version": "1.5.0",
            "value": " 1/1 [34:46&lt;00:00, 2086.71s/it]",
            "_view_count": null,
            "_view_module_version": "1.5.0",
            "description_tooltip": null,
            "_model_module": "@jupyter-widgets/controls",
            "layout": "IPY_MODEL_5a7317308d2045a0867f0d8982003e69"
          }
        },
        "8da2d72276f6460984b3c276e7a7c4cb": {
          "model_module": "@jupyter-widgets/controls",
          "model_name": "ProgressStyleModel",
          "state": {
            "_view_name": "StyleView",
            "_model_name": "ProgressStyleModel",
            "description_width": "initial",
            "_view_module": "@jupyter-widgets/base",
            "_model_module_version": "1.5.0",
            "_view_count": null,
            "_view_module_version": "1.2.0",
            "bar_color": null,
            "_model_module": "@jupyter-widgets/controls"
          }
        },
        "ab7134dccf51449ebc1fe08af8171ac6": {
          "model_module": "@jupyter-widgets/base",
          "model_name": "LayoutModel",
          "state": {
            "_view_name": "LayoutView",
            "grid_template_rows": null,
            "right": null,
            "justify_content": null,
            "_view_module": "@jupyter-widgets/base",
            "overflow": null,
            "_model_module_version": "1.2.0",
            "_view_count": null,
            "flex_flow": null,
            "width": null,
            "min_width": null,
            "border": null,
            "align_items": null,
            "bottom": null,
            "_model_module": "@jupyter-widgets/base",
            "top": null,
            "grid_column": null,
            "overflow_y": null,
            "overflow_x": null,
            "grid_auto_flow": null,
            "grid_area": null,
            "grid_template_columns": null,
            "flex": null,
            "_model_name": "LayoutModel",
            "justify_items": null,
            "grid_row": null,
            "max_height": null,
            "align_content": null,
            "visibility": null,
            "align_self": null,
            "height": null,
            "min_height": null,
            "padding": null,
            "grid_auto_rows": null,
            "grid_gap": null,
            "max_width": null,
            "order": null,
            "_view_module_version": "1.2.0",
            "grid_template_areas": null,
            "object_position": null,
            "object_fit": null,
            "grid_auto_columns": null,
            "margin": null,
            "display": null,
            "left": null
          }
        },
        "c0c0a193130e44138df724cfcaccc5bc": {
          "model_module": "@jupyter-widgets/controls",
          "model_name": "DescriptionStyleModel",
          "state": {
            "_view_name": "StyleView",
            "_model_name": "DescriptionStyleModel",
            "description_width": "",
            "_view_module": "@jupyter-widgets/base",
            "_model_module_version": "1.5.0",
            "_view_count": null,
            "_view_module_version": "1.2.0",
            "_model_module": "@jupyter-widgets/controls"
          }
        },
        "5a7317308d2045a0867f0d8982003e69": {
          "model_module": "@jupyter-widgets/base",
          "model_name": "LayoutModel",
          "state": {
            "_view_name": "LayoutView",
            "grid_template_rows": null,
            "right": null,
            "justify_content": null,
            "_view_module": "@jupyter-widgets/base",
            "overflow": null,
            "_model_module_version": "1.2.0",
            "_view_count": null,
            "flex_flow": null,
            "width": null,
            "min_width": null,
            "border": null,
            "align_items": null,
            "bottom": null,
            "_model_module": "@jupyter-widgets/base",
            "top": null,
            "grid_column": null,
            "overflow_y": null,
            "overflow_x": null,
            "grid_auto_flow": null,
            "grid_area": null,
            "grid_template_columns": null,
            "flex": null,
            "_model_name": "LayoutModel",
            "justify_items": null,
            "grid_row": null,
            "max_height": null,
            "align_content": null,
            "visibility": null,
            "align_self": null,
            "height": null,
            "min_height": null,
            "padding": null,
            "grid_auto_rows": null,
            "grid_gap": null,
            "max_width": null,
            "order": null,
            "_view_module_version": "1.2.0",
            "grid_template_areas": null,
            "object_position": null,
            "object_fit": null,
            "grid_auto_columns": null,
            "margin": null,
            "display": null,
            "left": null
          }
        },
        "71a40f2a809243ab97d91d7158b1bb38": {
          "model_module": "@jupyter-widgets/controls",
          "model_name": "HBoxModel",
          "state": {
            "_view_name": "HBoxView",
            "_dom_classes": [],
            "_model_name": "HBoxModel",
            "_view_module": "@jupyter-widgets/controls",
            "_model_module_version": "1.5.0",
            "_view_count": null,
            "_view_module_version": "1.5.0",
            "box_style": "",
            "layout": "IPY_MODEL_4a1e7138c0fc42768940ba0fd6c8d543",
            "_model_module": "@jupyter-widgets/controls",
            "children": [
              "IPY_MODEL_df1c10ca1ac5488d898352cc3ef8f1b0",
              "IPY_MODEL_475c818903a540fca1a99c0cc76abed4"
            ]
          }
        },
        "4a1e7138c0fc42768940ba0fd6c8d543": {
          "model_module": "@jupyter-widgets/base",
          "model_name": "LayoutModel",
          "state": {
            "_view_name": "LayoutView",
            "grid_template_rows": null,
            "right": null,
            "justify_content": null,
            "_view_module": "@jupyter-widgets/base",
            "overflow": null,
            "_model_module_version": "1.2.0",
            "_view_count": null,
            "flex_flow": null,
            "width": null,
            "min_width": null,
            "border": null,
            "align_items": null,
            "bottom": null,
            "_model_module": "@jupyter-widgets/base",
            "top": null,
            "grid_column": null,
            "overflow_y": null,
            "overflow_x": null,
            "grid_auto_flow": null,
            "grid_area": null,
            "grid_template_columns": null,
            "flex": null,
            "_model_name": "LayoutModel",
            "justify_items": null,
            "grid_row": null,
            "max_height": null,
            "align_content": null,
            "visibility": null,
            "align_self": null,
            "height": null,
            "min_height": null,
            "padding": null,
            "grid_auto_rows": null,
            "grid_gap": null,
            "max_width": null,
            "order": null,
            "_view_module_version": "1.2.0",
            "grid_template_areas": null,
            "object_position": null,
            "object_fit": null,
            "grid_auto_columns": null,
            "margin": null,
            "display": null,
            "left": null
          }
        },
        "df1c10ca1ac5488d898352cc3ef8f1b0": {
          "model_module": "@jupyter-widgets/controls",
          "model_name": "FloatProgressModel",
          "state": {
            "_view_name": "ProgressView",
            "style": "IPY_MODEL_f36f04fae1244863b61fc4a49cc0e57e",
            "_dom_classes": [],
            "description": "Summarize dataset: 100%",
            "_model_name": "FloatProgressModel",
            "bar_style": "success",
            "max": 31,
            "_view_module": "@jupyter-widgets/controls",
            "_model_module_version": "1.5.0",
            "value": 31,
            "_view_count": null,
            "_view_module_version": "1.5.0",
            "orientation": "horizontal",
            "min": 0,
            "description_tooltip": null,
            "_model_module": "@jupyter-widgets/controls",
            "layout": "IPY_MODEL_142a8b3034fd429a8263a70e17bc6bd6"
          }
        },
        "475c818903a540fca1a99c0cc76abed4": {
          "model_module": "@jupyter-widgets/controls",
          "model_name": "HTMLModel",
          "state": {
            "_view_name": "HTMLView",
            "style": "IPY_MODEL_cc9657f235e14133954813da273c7afe",
            "_dom_classes": [],
            "description": "",
            "_model_name": "HTMLModel",
            "placeholder": "​",
            "_view_module": "@jupyter-widgets/controls",
            "_model_module_version": "1.5.0",
            "value": " 31/31 [00:20&lt;00:00,  1.51it/s, Completed]",
            "_view_count": null,
            "_view_module_version": "1.5.0",
            "description_tooltip": null,
            "_model_module": "@jupyter-widgets/controls",
            "layout": "IPY_MODEL_f15d721445fb4ff182e6499e5e5fc6d8"
          }
        },
        "f36f04fae1244863b61fc4a49cc0e57e": {
          "model_module": "@jupyter-widgets/controls",
          "model_name": "ProgressStyleModel",
          "state": {
            "_view_name": "StyleView",
            "_model_name": "ProgressStyleModel",
            "description_width": "initial",
            "_view_module": "@jupyter-widgets/base",
            "_model_module_version": "1.5.0",
            "_view_count": null,
            "_view_module_version": "1.2.0",
            "bar_color": null,
            "_model_module": "@jupyter-widgets/controls"
          }
        },
        "142a8b3034fd429a8263a70e17bc6bd6": {
          "model_module": "@jupyter-widgets/base",
          "model_name": "LayoutModel",
          "state": {
            "_view_name": "LayoutView",
            "grid_template_rows": null,
            "right": null,
            "justify_content": null,
            "_view_module": "@jupyter-widgets/base",
            "overflow": null,
            "_model_module_version": "1.2.0",
            "_view_count": null,
            "flex_flow": null,
            "width": null,
            "min_width": null,
            "border": null,
            "align_items": null,
            "bottom": null,
            "_model_module": "@jupyter-widgets/base",
            "top": null,
            "grid_column": null,
            "overflow_y": null,
            "overflow_x": null,
            "grid_auto_flow": null,
            "grid_area": null,
            "grid_template_columns": null,
            "flex": null,
            "_model_name": "LayoutModel",
            "justify_items": null,
            "grid_row": null,
            "max_height": null,
            "align_content": null,
            "visibility": null,
            "align_self": null,
            "height": null,
            "min_height": null,
            "padding": null,
            "grid_auto_rows": null,
            "grid_gap": null,
            "max_width": null,
            "order": null,
            "_view_module_version": "1.2.0",
            "grid_template_areas": null,
            "object_position": null,
            "object_fit": null,
            "grid_auto_columns": null,
            "margin": null,
            "display": null,
            "left": null
          }
        },
        "cc9657f235e14133954813da273c7afe": {
          "model_module": "@jupyter-widgets/controls",
          "model_name": "DescriptionStyleModel",
          "state": {
            "_view_name": "StyleView",
            "_model_name": "DescriptionStyleModel",
            "description_width": "",
            "_view_module": "@jupyter-widgets/base",
            "_model_module_version": "1.5.0",
            "_view_count": null,
            "_view_module_version": "1.2.0",
            "_model_module": "@jupyter-widgets/controls"
          }
        },
        "f15d721445fb4ff182e6499e5e5fc6d8": {
          "model_module": "@jupyter-widgets/base",
          "model_name": "LayoutModel",
          "state": {
            "_view_name": "LayoutView",
            "grid_template_rows": null,
            "right": null,
            "justify_content": null,
            "_view_module": "@jupyter-widgets/base",
            "overflow": null,
            "_model_module_version": "1.2.0",
            "_view_count": null,
            "flex_flow": null,
            "width": null,
            "min_width": null,
            "border": null,
            "align_items": null,
            "bottom": null,
            "_model_module": "@jupyter-widgets/base",
            "top": null,
            "grid_column": null,
            "overflow_y": null,
            "overflow_x": null,
            "grid_auto_flow": null,
            "grid_area": null,
            "grid_template_columns": null,
            "flex": null,
            "_model_name": "LayoutModel",
            "justify_items": null,
            "grid_row": null,
            "max_height": null,
            "align_content": null,
            "visibility": null,
            "align_self": null,
            "height": null,
            "min_height": null,
            "padding": null,
            "grid_auto_rows": null,
            "grid_gap": null,
            "max_width": null,
            "order": null,
            "_view_module_version": "1.2.0",
            "grid_template_areas": null,
            "object_position": null,
            "object_fit": null,
            "grid_auto_columns": null,
            "margin": null,
            "display": null,
            "left": null
          }
        },
        "17ee4c8e472f4a45812f0ec1ae270024": {
          "model_module": "@jupyter-widgets/controls",
          "model_name": "HBoxModel",
          "state": {
            "_view_name": "HBoxView",
            "_dom_classes": [],
            "_model_name": "HBoxModel",
            "_view_module": "@jupyter-widgets/controls",
            "_model_module_version": "1.5.0",
            "_view_count": null,
            "_view_module_version": "1.5.0",
            "box_style": "",
            "layout": "IPY_MODEL_71349304acf6457e9f2439d4ae10bd56",
            "_model_module": "@jupyter-widgets/controls",
            "children": [
              "IPY_MODEL_1b311c4267e6470eaa1f166a40f70c3a",
              "IPY_MODEL_d12886cb7c1343c48d2080447332d9e1"
            ]
          }
        },
        "71349304acf6457e9f2439d4ae10bd56": {
          "model_module": "@jupyter-widgets/base",
          "model_name": "LayoutModel",
          "state": {
            "_view_name": "LayoutView",
            "grid_template_rows": null,
            "right": null,
            "justify_content": null,
            "_view_module": "@jupyter-widgets/base",
            "overflow": null,
            "_model_module_version": "1.2.0",
            "_view_count": null,
            "flex_flow": null,
            "width": null,
            "min_width": null,
            "border": null,
            "align_items": null,
            "bottom": null,
            "_model_module": "@jupyter-widgets/base",
            "top": null,
            "grid_column": null,
            "overflow_y": null,
            "overflow_x": null,
            "grid_auto_flow": null,
            "grid_area": null,
            "grid_template_columns": null,
            "flex": null,
            "_model_name": "LayoutModel",
            "justify_items": null,
            "grid_row": null,
            "max_height": null,
            "align_content": null,
            "visibility": null,
            "align_self": null,
            "height": null,
            "min_height": null,
            "padding": null,
            "grid_auto_rows": null,
            "grid_gap": null,
            "max_width": null,
            "order": null,
            "_view_module_version": "1.2.0",
            "grid_template_areas": null,
            "object_position": null,
            "object_fit": null,
            "grid_auto_columns": null,
            "margin": null,
            "display": null,
            "left": null
          }
        },
        "1b311c4267e6470eaa1f166a40f70c3a": {
          "model_module": "@jupyter-widgets/controls",
          "model_name": "FloatProgressModel",
          "state": {
            "_view_name": "ProgressView",
            "style": "IPY_MODEL_a661f3e0300e449091e6e43b6fe87452",
            "_dom_classes": [],
            "description": "Generate report structure: 100%",
            "_model_name": "FloatProgressModel",
            "bar_style": "success",
            "max": 1,
            "_view_module": "@jupyter-widgets/controls",
            "_model_module_version": "1.5.0",
            "value": 1,
            "_view_count": null,
            "_view_module_version": "1.5.0",
            "orientation": "horizontal",
            "min": 0,
            "description_tooltip": null,
            "_model_module": "@jupyter-widgets/controls",
            "layout": "IPY_MODEL_4a8f9981e00e45bab6f156fc8b93539d"
          }
        },
        "d12886cb7c1343c48d2080447332d9e1": {
          "model_module": "@jupyter-widgets/controls",
          "model_name": "HTMLModel",
          "state": {
            "_view_name": "HTMLView",
            "style": "IPY_MODEL_96e4996aa7b94669b00ade8cf12f189e",
            "_dom_classes": [],
            "description": "",
            "_model_name": "HTMLModel",
            "placeholder": "​",
            "_view_module": "@jupyter-widgets/controls",
            "_model_module_version": "1.5.0",
            "value": " 1/1 [00:04&lt;00:00,  4.91s/it]",
            "_view_count": null,
            "_view_module_version": "1.5.0",
            "description_tooltip": null,
            "_model_module": "@jupyter-widgets/controls",
            "layout": "IPY_MODEL_cec2f3ee008e4d0c8d44378808646c07"
          }
        },
        "a661f3e0300e449091e6e43b6fe87452": {
          "model_module": "@jupyter-widgets/controls",
          "model_name": "ProgressStyleModel",
          "state": {
            "_view_name": "StyleView",
            "_model_name": "ProgressStyleModel",
            "description_width": "initial",
            "_view_module": "@jupyter-widgets/base",
            "_model_module_version": "1.5.0",
            "_view_count": null,
            "_view_module_version": "1.2.0",
            "bar_color": null,
            "_model_module": "@jupyter-widgets/controls"
          }
        },
        "4a8f9981e00e45bab6f156fc8b93539d": {
          "model_module": "@jupyter-widgets/base",
          "model_name": "LayoutModel",
          "state": {
            "_view_name": "LayoutView",
            "grid_template_rows": null,
            "right": null,
            "justify_content": null,
            "_view_module": "@jupyter-widgets/base",
            "overflow": null,
            "_model_module_version": "1.2.0",
            "_view_count": null,
            "flex_flow": null,
            "width": null,
            "min_width": null,
            "border": null,
            "align_items": null,
            "bottom": null,
            "_model_module": "@jupyter-widgets/base",
            "top": null,
            "grid_column": null,
            "overflow_y": null,
            "overflow_x": null,
            "grid_auto_flow": null,
            "grid_area": null,
            "grid_template_columns": null,
            "flex": null,
            "_model_name": "LayoutModel",
            "justify_items": null,
            "grid_row": null,
            "max_height": null,
            "align_content": null,
            "visibility": null,
            "align_self": null,
            "height": null,
            "min_height": null,
            "padding": null,
            "grid_auto_rows": null,
            "grid_gap": null,
            "max_width": null,
            "order": null,
            "_view_module_version": "1.2.0",
            "grid_template_areas": null,
            "object_position": null,
            "object_fit": null,
            "grid_auto_columns": null,
            "margin": null,
            "display": null,
            "left": null
          }
        },
        "96e4996aa7b94669b00ade8cf12f189e": {
          "model_module": "@jupyter-widgets/controls",
          "model_name": "DescriptionStyleModel",
          "state": {
            "_view_name": "StyleView",
            "_model_name": "DescriptionStyleModel",
            "description_width": "",
            "_view_module": "@jupyter-widgets/base",
            "_model_module_version": "1.5.0",
            "_view_count": null,
            "_view_module_version": "1.2.0",
            "_model_module": "@jupyter-widgets/controls"
          }
        },
        "cec2f3ee008e4d0c8d44378808646c07": {
          "model_module": "@jupyter-widgets/base",
          "model_name": "LayoutModel",
          "state": {
            "_view_name": "LayoutView",
            "grid_template_rows": null,
            "right": null,
            "justify_content": null,
            "_view_module": "@jupyter-widgets/base",
            "overflow": null,
            "_model_module_version": "1.2.0",
            "_view_count": null,
            "flex_flow": null,
            "width": null,
            "min_width": null,
            "border": null,
            "align_items": null,
            "bottom": null,
            "_model_module": "@jupyter-widgets/base",
            "top": null,
            "grid_column": null,
            "overflow_y": null,
            "overflow_x": null,
            "grid_auto_flow": null,
            "grid_area": null,
            "grid_template_columns": null,
            "flex": null,
            "_model_name": "LayoutModel",
            "justify_items": null,
            "grid_row": null,
            "max_height": null,
            "align_content": null,
            "visibility": null,
            "align_self": null,
            "height": null,
            "min_height": null,
            "padding": null,
            "grid_auto_rows": null,
            "grid_gap": null,
            "max_width": null,
            "order": null,
            "_view_module_version": "1.2.0",
            "grid_template_areas": null,
            "object_position": null,
            "object_fit": null,
            "grid_auto_columns": null,
            "margin": null,
            "display": null,
            "left": null
          }
        },
        "2d21de33924e48eaa1070bfd715428e3": {
          "model_module": "@jupyter-widgets/controls",
          "model_name": "HBoxModel",
          "state": {
            "_view_name": "HBoxView",
            "_dom_classes": [],
            "_model_name": "HBoxModel",
            "_view_module": "@jupyter-widgets/controls",
            "_model_module_version": "1.5.0",
            "_view_count": null,
            "_view_module_version": "1.5.0",
            "box_style": "",
            "layout": "IPY_MODEL_f627654436b14a56b6241e1cd211dfcc",
            "_model_module": "@jupyter-widgets/controls",
            "children": [
              "IPY_MODEL_907151a2df3b4c0d82ceb1437a5ef1b8",
              "IPY_MODEL_e27a132b4e8d49598771c10d3e83e266"
            ]
          }
        },
        "f627654436b14a56b6241e1cd211dfcc": {
          "model_module": "@jupyter-widgets/base",
          "model_name": "LayoutModel",
          "state": {
            "_view_name": "LayoutView",
            "grid_template_rows": null,
            "right": null,
            "justify_content": null,
            "_view_module": "@jupyter-widgets/base",
            "overflow": null,
            "_model_module_version": "1.2.0",
            "_view_count": null,
            "flex_flow": null,
            "width": null,
            "min_width": null,
            "border": null,
            "align_items": null,
            "bottom": null,
            "_model_module": "@jupyter-widgets/base",
            "top": null,
            "grid_column": null,
            "overflow_y": null,
            "overflow_x": null,
            "grid_auto_flow": null,
            "grid_area": null,
            "grid_template_columns": null,
            "flex": null,
            "_model_name": "LayoutModel",
            "justify_items": null,
            "grid_row": null,
            "max_height": null,
            "align_content": null,
            "visibility": null,
            "align_self": null,
            "height": null,
            "min_height": null,
            "padding": null,
            "grid_auto_rows": null,
            "grid_gap": null,
            "max_width": null,
            "order": null,
            "_view_module_version": "1.2.0",
            "grid_template_areas": null,
            "object_position": null,
            "object_fit": null,
            "grid_auto_columns": null,
            "margin": null,
            "display": null,
            "left": null
          }
        },
        "907151a2df3b4c0d82ceb1437a5ef1b8": {
          "model_module": "@jupyter-widgets/controls",
          "model_name": "FloatProgressModel",
          "state": {
            "_view_name": "ProgressView",
            "style": "IPY_MODEL_80dc7bffe28c4b4f8c49b8f6a3f76d31",
            "_dom_classes": [],
            "description": "Render HTML: 100%",
            "_model_name": "FloatProgressModel",
            "bar_style": "success",
            "max": 1,
            "_view_module": "@jupyter-widgets/controls",
            "_model_module_version": "1.5.0",
            "value": 1,
            "_view_count": null,
            "_view_module_version": "1.5.0",
            "orientation": "horizontal",
            "min": 0,
            "description_tooltip": null,
            "_model_module": "@jupyter-widgets/controls",
            "layout": "IPY_MODEL_0fac079bd2284fc9a6a227a6201f61d4"
          }
        },
        "e27a132b4e8d49598771c10d3e83e266": {
          "model_module": "@jupyter-widgets/controls",
          "model_name": "HTMLModel",
          "state": {
            "_view_name": "HTMLView",
            "style": "IPY_MODEL_6a634eb05e8343fd844c818d6b3498a4",
            "_dom_classes": [],
            "description": "",
            "_model_name": "HTMLModel",
            "placeholder": "​",
            "_view_module": "@jupyter-widgets/controls",
            "_model_module_version": "1.5.0",
            "value": " 1/1 [06:05&lt;00:00, 365.14s/it]",
            "_view_count": null,
            "_view_module_version": "1.5.0",
            "description_tooltip": null,
            "_model_module": "@jupyter-widgets/controls",
            "layout": "IPY_MODEL_9ed3a08bf299446682105aa41729fc11"
          }
        },
        "80dc7bffe28c4b4f8c49b8f6a3f76d31": {
          "model_module": "@jupyter-widgets/controls",
          "model_name": "ProgressStyleModel",
          "state": {
            "_view_name": "StyleView",
            "_model_name": "ProgressStyleModel",
            "description_width": "initial",
            "_view_module": "@jupyter-widgets/base",
            "_model_module_version": "1.5.0",
            "_view_count": null,
            "_view_module_version": "1.2.0",
            "bar_color": null,
            "_model_module": "@jupyter-widgets/controls"
          }
        },
        "0fac079bd2284fc9a6a227a6201f61d4": {
          "model_module": "@jupyter-widgets/base",
          "model_name": "LayoutModel",
          "state": {
            "_view_name": "LayoutView",
            "grid_template_rows": null,
            "right": null,
            "justify_content": null,
            "_view_module": "@jupyter-widgets/base",
            "overflow": null,
            "_model_module_version": "1.2.0",
            "_view_count": null,
            "flex_flow": null,
            "width": null,
            "min_width": null,
            "border": null,
            "align_items": null,
            "bottom": null,
            "_model_module": "@jupyter-widgets/base",
            "top": null,
            "grid_column": null,
            "overflow_y": null,
            "overflow_x": null,
            "grid_auto_flow": null,
            "grid_area": null,
            "grid_template_columns": null,
            "flex": null,
            "_model_name": "LayoutModel",
            "justify_items": null,
            "grid_row": null,
            "max_height": null,
            "align_content": null,
            "visibility": null,
            "align_self": null,
            "height": null,
            "min_height": null,
            "padding": null,
            "grid_auto_rows": null,
            "grid_gap": null,
            "max_width": null,
            "order": null,
            "_view_module_version": "1.2.0",
            "grid_template_areas": null,
            "object_position": null,
            "object_fit": null,
            "grid_auto_columns": null,
            "margin": null,
            "display": null,
            "left": null
          }
        },
        "6a634eb05e8343fd844c818d6b3498a4": {
          "model_module": "@jupyter-widgets/controls",
          "model_name": "DescriptionStyleModel",
          "state": {
            "_view_name": "StyleView",
            "_model_name": "DescriptionStyleModel",
            "description_width": "",
            "_view_module": "@jupyter-widgets/base",
            "_model_module_version": "1.5.0",
            "_view_count": null,
            "_view_module_version": "1.2.0",
            "_model_module": "@jupyter-widgets/controls"
          }
        },
        "9ed3a08bf299446682105aa41729fc11": {
          "model_module": "@jupyter-widgets/base",
          "model_name": "LayoutModel",
          "state": {
            "_view_name": "LayoutView",
            "grid_template_rows": null,
            "right": null,
            "justify_content": null,
            "_view_module": "@jupyter-widgets/base",
            "overflow": null,
            "_model_module_version": "1.2.0",
            "_view_count": null,
            "flex_flow": null,
            "width": null,
            "min_width": null,
            "border": null,
            "align_items": null,
            "bottom": null,
            "_model_module": "@jupyter-widgets/base",
            "top": null,
            "grid_column": null,
            "overflow_y": null,
            "overflow_x": null,
            "grid_auto_flow": null,
            "grid_area": null,
            "grid_template_columns": null,
            "flex": null,
            "_model_name": "LayoutModel",
            "justify_items": null,
            "grid_row": null,
            "max_height": null,
            "align_content": null,
            "visibility": null,
            "align_self": null,
            "height": null,
            "min_height": null,
            "padding": null,
            "grid_auto_rows": null,
            "grid_gap": null,
            "max_width": null,
            "order": null,
            "_view_module_version": "1.2.0",
            "grid_template_areas": null,
            "object_position": null,
            "object_fit": null,
            "grid_auto_columns": null,
            "margin": null,
            "display": null,
            "left": null
          }
        },
        "da6f9a2c214f4564ab4fea6ae76d1f08": {
          "model_module": "@jupyter-widgets/controls",
          "model_name": "HBoxModel",
          "state": {
            "_view_name": "HBoxView",
            "_dom_classes": [],
            "_model_name": "HBoxModel",
            "_view_module": "@jupyter-widgets/controls",
            "_model_module_version": "1.5.0",
            "_view_count": null,
            "_view_module_version": "1.5.0",
            "box_style": "",
            "layout": "IPY_MODEL_eb75e9ba130a43b2b4b05c14a146a364",
            "_model_module": "@jupyter-widgets/controls",
            "children": [
              "IPY_MODEL_e64acbd3acba4e969c9f801c92cc6549",
              "IPY_MODEL_a16b5d83c11d4c3ba7fac3881df28304"
            ]
          }
        },
        "eb75e9ba130a43b2b4b05c14a146a364": {
          "model_module": "@jupyter-widgets/base",
          "model_name": "LayoutModel",
          "state": {
            "_view_name": "LayoutView",
            "grid_template_rows": null,
            "right": null,
            "justify_content": null,
            "_view_module": "@jupyter-widgets/base",
            "overflow": null,
            "_model_module_version": "1.2.0",
            "_view_count": null,
            "flex_flow": null,
            "width": null,
            "min_width": null,
            "border": null,
            "align_items": null,
            "bottom": null,
            "_model_module": "@jupyter-widgets/base",
            "top": null,
            "grid_column": null,
            "overflow_y": null,
            "overflow_x": null,
            "grid_auto_flow": null,
            "grid_area": null,
            "grid_template_columns": null,
            "flex": null,
            "_model_name": "LayoutModel",
            "justify_items": null,
            "grid_row": null,
            "max_height": null,
            "align_content": null,
            "visibility": null,
            "align_self": null,
            "height": null,
            "min_height": null,
            "padding": null,
            "grid_auto_rows": null,
            "grid_gap": null,
            "max_width": null,
            "order": null,
            "_view_module_version": "1.2.0",
            "grid_template_areas": null,
            "object_position": null,
            "object_fit": null,
            "grid_auto_columns": null,
            "margin": null,
            "display": null,
            "left": null
          }
        },
        "e64acbd3acba4e969c9f801c92cc6549": {
          "model_module": "@jupyter-widgets/controls",
          "model_name": "FloatProgressModel",
          "state": {
            "_view_name": "ProgressView",
            "style": "IPY_MODEL_efa57fce38e1432bbe37ba1b19597cb7",
            "_dom_classes": [],
            "description": "Export report to file: 100%",
            "_model_name": "FloatProgressModel",
            "bar_style": "success",
            "max": 1,
            "_view_module": "@jupyter-widgets/controls",
            "_model_module_version": "1.5.0",
            "value": 1,
            "_view_count": null,
            "_view_module_version": "1.5.0",
            "orientation": "horizontal",
            "min": 0,
            "description_tooltip": null,
            "_model_module": "@jupyter-widgets/controls",
            "layout": "IPY_MODEL_458e8fdafd8543d5883d6e9ab6c94581"
          }
        },
        "a16b5d83c11d4c3ba7fac3881df28304": {
          "model_module": "@jupyter-widgets/controls",
          "model_name": "HTMLModel",
          "state": {
            "_view_name": "HTMLView",
            "style": "IPY_MODEL_5fbb79f064174690a5313a68d2ee53e7",
            "_dom_classes": [],
            "description": "",
            "_model_name": "HTMLModel",
            "placeholder": "​",
            "_view_module": "@jupyter-widgets/controls",
            "_model_module_version": "1.5.0",
            "value": " 1/1 [06:01&lt;00:00, 361.54s/it]",
            "_view_count": null,
            "_view_module_version": "1.5.0",
            "description_tooltip": null,
            "_model_module": "@jupyter-widgets/controls",
            "layout": "IPY_MODEL_0bd938ea3c0e4b19a9c0e2b1886f572a"
          }
        },
        "efa57fce38e1432bbe37ba1b19597cb7": {
          "model_module": "@jupyter-widgets/controls",
          "model_name": "ProgressStyleModel",
          "state": {
            "_view_name": "StyleView",
            "_model_name": "ProgressStyleModel",
            "description_width": "initial",
            "_view_module": "@jupyter-widgets/base",
            "_model_module_version": "1.5.0",
            "_view_count": null,
            "_view_module_version": "1.2.0",
            "bar_color": null,
            "_model_module": "@jupyter-widgets/controls"
          }
        },
        "458e8fdafd8543d5883d6e9ab6c94581": {
          "model_module": "@jupyter-widgets/base",
          "model_name": "LayoutModel",
          "state": {
            "_view_name": "LayoutView",
            "grid_template_rows": null,
            "right": null,
            "justify_content": null,
            "_view_module": "@jupyter-widgets/base",
            "overflow": null,
            "_model_module_version": "1.2.0",
            "_view_count": null,
            "flex_flow": null,
            "width": null,
            "min_width": null,
            "border": null,
            "align_items": null,
            "bottom": null,
            "_model_module": "@jupyter-widgets/base",
            "top": null,
            "grid_column": null,
            "overflow_y": null,
            "overflow_x": null,
            "grid_auto_flow": null,
            "grid_area": null,
            "grid_template_columns": null,
            "flex": null,
            "_model_name": "LayoutModel",
            "justify_items": null,
            "grid_row": null,
            "max_height": null,
            "align_content": null,
            "visibility": null,
            "align_self": null,
            "height": null,
            "min_height": null,
            "padding": null,
            "grid_auto_rows": null,
            "grid_gap": null,
            "max_width": null,
            "order": null,
            "_view_module_version": "1.2.0",
            "grid_template_areas": null,
            "object_position": null,
            "object_fit": null,
            "grid_auto_columns": null,
            "margin": null,
            "display": null,
            "left": null
          }
        },
        "5fbb79f064174690a5313a68d2ee53e7": {
          "model_module": "@jupyter-widgets/controls",
          "model_name": "DescriptionStyleModel",
          "state": {
            "_view_name": "StyleView",
            "_model_name": "DescriptionStyleModel",
            "description_width": "",
            "_view_module": "@jupyter-widgets/base",
            "_model_module_version": "1.5.0",
            "_view_count": null,
            "_view_module_version": "1.2.0",
            "_model_module": "@jupyter-widgets/controls"
          }
        },
        "0bd938ea3c0e4b19a9c0e2b1886f572a": {
          "model_module": "@jupyter-widgets/base",
          "model_name": "LayoutModel",
          "state": {
            "_view_name": "LayoutView",
            "grid_template_rows": null,
            "right": null,
            "justify_content": null,
            "_view_module": "@jupyter-widgets/base",
            "overflow": null,
            "_model_module_version": "1.2.0",
            "_view_count": null,
            "flex_flow": null,
            "width": null,
            "min_width": null,
            "border": null,
            "align_items": null,
            "bottom": null,
            "_model_module": "@jupyter-widgets/base",
            "top": null,
            "grid_column": null,
            "overflow_y": null,
            "overflow_x": null,
            "grid_auto_flow": null,
            "grid_area": null,
            "grid_template_columns": null,
            "flex": null,
            "_model_name": "LayoutModel",
            "justify_items": null,
            "grid_row": null,
            "max_height": null,
            "align_content": null,
            "visibility": null,
            "align_self": null,
            "height": null,
            "min_height": null,
            "padding": null,
            "grid_auto_rows": null,
            "grid_gap": null,
            "max_width": null,
            "order": null,
            "_view_module_version": "1.2.0",
            "grid_template_areas": null,
            "object_position": null,
            "object_fit": null,
            "grid_auto_columns": null,
            "margin": null,
            "display": null,
            "left": null
          }
        }
      }
    }
  },
  "cells": [
    {
      "cell_type": "markdown",
      "metadata": {
        "id": "view-in-github",
        "colab_type": "text"
      },
      "source": [
        "<a href=\"https://colab.research.google.com/github/raghavajoijode/term3/blob/master/ClassificationModels.ipynb\" target=\"_parent\"><img src=\"https://colab.research.google.com/assets/colab-badge.svg\" alt=\"Open In Colab\"/></a>"
      ]
    },
    {
      "cell_type": "markdown",
      "metadata": {
        "colab_type": "text",
        "id": "kHGoxL_z8qoN"
      },
      "source": [
        "<center>\n",
        "<img src=\"https://github.com/insaid2018/Term-1/blob/master/Images/INSAID_Full%20Logo.png?raw=true\" width=\"240\" height=\"100\" />\n",
        "</center>\n",
        "\n",
        "# Classification Models"
      ]
    },
    {
      "cell_type": "markdown",
      "metadata": {
        "colab_type": "text",
        "id": "t9MMcJPQ8qoP"
      },
      "source": [
        "## Table of Contents\n",
        "\n",
        "1. [Problem Statement](#section1)<br>\n",
        "2. [Importing Packages](#section2)<br>\n",
        "3. [Data Loading and Description](#section3)<br>\n",
        "   - 3.1 [Description of the dataset](#section301)<br>\n",
        "   - 3.2 [Pandas Profiling before Data Preprocessing](#section302)<br>\n",
        "4. [Data Exploration](#section4)<br>\n",
        "   - 4.1 [Data Preprocessing](#section401)<br>\n",
        "     - 4.1.1 [Converting Columns to Numeric Datatype](#section40101)<br>\n",
        "     - 4.1.2 [Dealing with Missing Values.](#section40103)<br>\n",
        "   - 4.2 [Exploratory Data Analysis](#section402)<br>\n",
        "     - 4.2.1 [Removing Outliers](#section40201)<br>\n",
        "     - 4.2.2 [Pandas Profiling after Data Preprocessing](#section40202)<br>\n",
        "5. [Data train/test split](#section6)<br>\n",
        "6. [Modelling using scikit learn](#section7)<br>\n",
        "   - 6.1 [Linear Regression in Scikit-Learn](#section701)<br>\n",
        "   - 6.2 [Decision tree Regressor in Scikit-Learn](#section702)<br>\n",
        "   - 6.3 [Random Forest Regressor in Scikit-Learn](#section703)<br>\n",
        "\n",
        "7. [Conclusion](#section9)<br>"
      ]
    },
    {
      "cell_type": "markdown",
      "metadata": {
        "colab_type": "text",
        "id": "zkWmPFzG8qoQ"
      },
      "source": [
        "<a id=section1></a>\n",
        "## 1. Problem Statement\n",
        "\n",
        "A little background on the case study. This data belongs to a **loan aggregator agency** which connects loan applications to different financial institutions in an attempt to get the **best interest rate**. \n",
        "\n",
        "They want to now utilise the past data to **predict interest rate** given by any financial institute just by looking at loan application characteristics.\n",
        "<center>\n",
        "<img src=\"https://raw.githubusercontent.com/insaid2018/Term-2/master/images/interest%20rate.jpg\" width=\"300\" height=\"300\" />\n",
        "</center>\n",
        "\n",
        "Some companies which perform something similar in the industry:\n",
        "- __BankBazaar__\n",
        "- __Credit Nation__\n",
        "- __Rupeelend.com__\n",
        "\n",
        "To achieve that, we have decided to use the data from a particular financial institution. The data is given in the file **loans data.csv**."
      ]
    },
    {
      "cell_type": "markdown",
      "metadata": {
        "colab_type": "text",
        "id": "njmJ9ic28qoS"
      },
      "source": [
        "<a id=section2></a>\n",
        "## 2. Importing Packages"
      ]
    },
    {
      "cell_type": "code",
      "metadata": {
        "colab_type": "code",
        "id": "74rUVII88qoT",
        "colab": {
          "base_uri": "https://localhost:8080/",
          "height": 70
        },
        "outputId": "4b44d021-a271-4064-853c-13f6734376c1"
      },
      "source": [
        "import numpy as np\n",
        "np.set_printoptions(precision=4)      # To display values upto Four decimal places. \n",
        "\n",
        "import pandas as pd\n",
        "pd.set_option('mode.chained_assignment', None)      # To suppress pandas warnings.\n",
        "\n",
        "import pandas_profiling\n",
        "\n",
        "import matplotlib.pyplot as plt\n",
        "plt.style.use('seaborn-whitegrid')    # To apply seaborn whitegrid style to the plots.\n",
        "plt.rc('figure', figsize=(10, 8))     # Set the default figure size of plots.\n",
        "%matplotlib inline\n",
        "\n",
        "import warnings\n",
        "warnings.filterwarnings(\"ignore\")     # To suppress all the warnings in the notebook.\n",
        "\n",
        "import seaborn as sns"
      ],
      "execution_count": null,
      "outputs": [
        {
          "output_type": "stream",
          "text": [
            "/usr/local/lib/python3.6/dist-packages/statsmodels/tools/_testing.py:19: FutureWarning: pandas.util.testing is deprecated. Use the functions in the public API at pandas.testing instead.\n",
            "  import pandas.util.testing as tm\n"
          ],
          "name": "stderr"
        }
      ]
    },
    {
      "cell_type": "markdown",
      "metadata": {
        "colab_type": "text",
        "id": "nio470PU8qoX"
      },
      "source": [
        "<a id=section3></a>\n",
        "## 3. Data Loading and Description"
      ]
    },
    {
      "cell_type": "code",
      "metadata": {
        "colab_type": "code",
        "id": "OAMvDtk-8qoY",
        "colab": {}
      },
      "source": [
        "# Importing the dataset\n",
        "\n",
        "ld = pd.read_csv('https://raw.githubusercontent.com/insaid2018/Term-2/master/Data/loans%20data.csv')"
      ],
      "execution_count": null,
      "outputs": []
    },
    {
      "cell_type": "code",
      "metadata": {
        "colab_type": "code",
        "id": "K74FZ36M8qoa",
        "colab": {
          "base_uri": "https://localhost:8080/",
          "height": 215
        },
        "outputId": "a617caef-4282-428f-c7f7-8d3a0c044dce"
      },
      "source": [
        "ld.head()"
      ],
      "execution_count": null,
      "outputs": [
        {
          "output_type": "execute_result",
          "data": {
            "text/html": [
              "<div>\n",
              "<style scoped>\n",
              "    .dataframe tbody tr th:only-of-type {\n",
              "        vertical-align: middle;\n",
              "    }\n",
              "\n",
              "    .dataframe tbody tr th {\n",
              "        vertical-align: top;\n",
              "    }\n",
              "\n",
              "    .dataframe thead th {\n",
              "        text-align: right;\n",
              "    }\n",
              "</style>\n",
              "<table border=\"1\" class=\"dataframe\">\n",
              "  <thead>\n",
              "    <tr style=\"text-align: right;\">\n",
              "      <th></th>\n",
              "      <th>ID</th>\n",
              "      <th>Amount.Requested</th>\n",
              "      <th>Amount.Funded.By.Investors</th>\n",
              "      <th>Interest.Rate</th>\n",
              "      <th>Loan.Length</th>\n",
              "      <th>Loan.Purpose</th>\n",
              "      <th>Debt.To.Income.Ratio</th>\n",
              "      <th>State</th>\n",
              "      <th>Home.Ownership</th>\n",
              "      <th>Monthly.Income</th>\n",
              "      <th>FICO.Range</th>\n",
              "      <th>Open.CREDIT.Lines</th>\n",
              "      <th>Revolving.CREDIT.Balance</th>\n",
              "      <th>Inquiries.in.the.Last.6.Months</th>\n",
              "      <th>Employment.Length</th>\n",
              "    </tr>\n",
              "  </thead>\n",
              "  <tbody>\n",
              "    <tr>\n",
              "      <th>0</th>\n",
              "      <td>81174.0</td>\n",
              "      <td>20000</td>\n",
              "      <td>20000</td>\n",
              "      <td>8.90%</td>\n",
              "      <td>36 months</td>\n",
              "      <td>debt_consolidation</td>\n",
              "      <td>14.90%</td>\n",
              "      <td>SC</td>\n",
              "      <td>MORTGAGE</td>\n",
              "      <td>6541.67</td>\n",
              "      <td>735-739</td>\n",
              "      <td>14</td>\n",
              "      <td>14272</td>\n",
              "      <td>2.0</td>\n",
              "      <td>&lt; 1 year</td>\n",
              "    </tr>\n",
              "    <tr>\n",
              "      <th>1</th>\n",
              "      <td>99592.0</td>\n",
              "      <td>19200</td>\n",
              "      <td>19200</td>\n",
              "      <td>12.12%</td>\n",
              "      <td>36 months</td>\n",
              "      <td>debt_consolidation</td>\n",
              "      <td>28.36%</td>\n",
              "      <td>TX</td>\n",
              "      <td>MORTGAGE</td>\n",
              "      <td>4583.33</td>\n",
              "      <td>715-719</td>\n",
              "      <td>12</td>\n",
              "      <td>11140</td>\n",
              "      <td>1.0</td>\n",
              "      <td>2 years</td>\n",
              "    </tr>\n",
              "    <tr>\n",
              "      <th>2</th>\n",
              "      <td>80059.0</td>\n",
              "      <td>35000</td>\n",
              "      <td>35000</td>\n",
              "      <td>21.98%</td>\n",
              "      <td>60 months</td>\n",
              "      <td>debt_consolidation</td>\n",
              "      <td>23.81%</td>\n",
              "      <td>CA</td>\n",
              "      <td>MORTGAGE</td>\n",
              "      <td>11500.00</td>\n",
              "      <td>690-694</td>\n",
              "      <td>14</td>\n",
              "      <td>21977</td>\n",
              "      <td>1.0</td>\n",
              "      <td>2 years</td>\n",
              "    </tr>\n",
              "    <tr>\n",
              "      <th>3</th>\n",
              "      <td>15825.0</td>\n",
              "      <td>10000</td>\n",
              "      <td>9975</td>\n",
              "      <td>9.99%</td>\n",
              "      <td>36 months</td>\n",
              "      <td>debt_consolidation</td>\n",
              "      <td>14.30%</td>\n",
              "      <td>KS</td>\n",
              "      <td>MORTGAGE</td>\n",
              "      <td>3833.33</td>\n",
              "      <td>695-699</td>\n",
              "      <td>10</td>\n",
              "      <td>9346</td>\n",
              "      <td>0.0</td>\n",
              "      <td>5 years</td>\n",
              "    </tr>\n",
              "    <tr>\n",
              "      <th>4</th>\n",
              "      <td>33182.0</td>\n",
              "      <td>12000</td>\n",
              "      <td>12000</td>\n",
              "      <td>11.71%</td>\n",
              "      <td>36 months</td>\n",
              "      <td>credit_card</td>\n",
              "      <td>18.78%</td>\n",
              "      <td>NJ</td>\n",
              "      <td>RENT</td>\n",
              "      <td>3195.00</td>\n",
              "      <td>695-699</td>\n",
              "      <td>11</td>\n",
              "      <td>14469</td>\n",
              "      <td>0.0</td>\n",
              "      <td>9 years</td>\n",
              "    </tr>\n",
              "  </tbody>\n",
              "</table>\n",
              "</div>"
            ],
            "text/plain": [
              "        ID Amount.Requested  ... Inquiries.in.the.Last.6.Months Employment.Length\n",
              "0  81174.0            20000  ...                            2.0          < 1 year\n",
              "1  99592.0            19200  ...                            1.0           2 years\n",
              "2  80059.0            35000  ...                            1.0           2 years\n",
              "3  15825.0            10000  ...                            0.0           5 years\n",
              "4  33182.0            12000  ...                            0.0           9 years\n",
              "\n",
              "[5 rows x 15 columns]"
            ]
          },
          "metadata": {
            "tags": []
          },
          "execution_count": 3
        }
      ]
    },
    {
      "cell_type": "code",
      "metadata": {
        "id": "91wbgYsyIwjO",
        "colab_type": "code",
        "colab": {
          "base_uri": "https://localhost:8080/",
          "height": 34
        },
        "outputId": "a093e899-12fa-4535-e0af-3a11dd5df824"
      },
      "source": [
        "ld.shape"
      ],
      "execution_count": null,
      "outputs": [
        {
          "output_type": "execute_result",
          "data": {
            "text/plain": [
              "(2500, 15)"
            ]
          },
          "metadata": {
            "tags": []
          },
          "execution_count": 4
        }
      ]
    },
    {
      "cell_type": "markdown",
      "metadata": {
        "colab_type": "text",
        "id": "2Xm7AEMP8qof"
      },
      "source": [
        "<a id=section301></a>\n",
        "### 3.1 Description of the Dataset"
      ]
    },
    {
      "cell_type": "markdown",
      "metadata": {
        "colab_type": "text",
        "id": "VrGTMKQ58qog"
      },
      "source": [
        "- The dataset contains all the necessary information about the previous loan applicant like the **amount requested, loan length, loan purpose, state, monthly income** etc.\n",
        "\n",
        "\n",
        "- Also included in the dataset is the **Interest rate** provided by the bank to the applicants when they applied for the loan. This is the data that we have to predict for the future applicants. <br> "
      ]
    },
    {
      "cell_type": "markdown",
      "metadata": {
        "colab_type": "text",
        "id": "GQMCetAw8qoh"
      },
      "source": [
        "| Column Name                     | Description                                                                               |\n",
        "| ------------------------------- |:-----------------------------------------------------------------------------------------:| \n",
        "| ID                              | ID of the applicant.                                                                      | \n",
        "| Amount.Requested                | The amount (in dollars) requested in the loan application.                                |\n",
        "| Amount.Funded.By.Investors      | The amount (in dollars) loaned to the individual.                                         | \n",
        "| Interest.Rate                   | The lending interest rate.                                                                |\n",
        "| Loan.Length                     | The length of time (in months) of the loan.                                               |\n",
        "| Loan.Purpose                    | The purpose of the loan as stated by the applicant.                                       |\n",
        "| Debt.to.Income.Ratio            | The percentage of consumer’s gross income that goes toward paying debts.                  |\n",
        "| State                           | The abbreviation for the U.S. state of residence of the loan applicant.                   |\n",
        "| Home.Ownsership                 | A variable indicating whether the applicant owns, rents, or has a mortgage on their home. |\n",
        "| Monthly.Income                  | The monthly income of the applicant (in dollars).                                         |\n",
        "| FICO.Range                      | A range indicating the applicants FICO score. This is a measure of the creditworthiness of the applicant.                                                                                                                |\n",
        "| Open.CREDIT.Lines               | The number of open lines of credit the applicant had at the time of application.          |\n",
        "| Revolving.CREDIT.Balance        | The total amount outstanding all lines of credit.                                         |\n",
        "| Inquiries.in.the.Last.6.Months  | When a person applies for credit, they authorize the lender to “inquire” about their creditworthiness. This is the number of such authorized queries in the 6 months before the loan was issued.                   |\n",
        "| Employment.Length               | Length of time employed at current job.                                                   |"
      ]
    },
    {
      "cell_type": "code",
      "metadata": {
        "colab_type": "code",
        "id": "UrDo_yZU8qoi",
        "scrolled": true,
        "colab": {
          "base_uri": "https://localhost:8080/",
          "height": 386
        },
        "outputId": "bfff4377-c43d-43b6-9b61-7e83f2416fd9"
      },
      "source": [
        "ld.info()"
      ],
      "execution_count": null,
      "outputs": [
        {
          "output_type": "stream",
          "text": [
            "<class 'pandas.core.frame.DataFrame'>\n",
            "RangeIndex: 2500 entries, 0 to 2499\n",
            "Data columns (total 15 columns):\n",
            " #   Column                          Non-Null Count  Dtype  \n",
            "---  ------                          --------------  -----  \n",
            " 0   ID                              2499 non-null   float64\n",
            " 1   Amount.Requested                2499 non-null   object \n",
            " 2   Amount.Funded.By.Investors      2499 non-null   object \n",
            " 3   Interest.Rate                   2500 non-null   object \n",
            " 4   Loan.Length                     2499 non-null   object \n",
            " 5   Loan.Purpose                    2499 non-null   object \n",
            " 6   Debt.To.Income.Ratio            2499 non-null   object \n",
            " 7   State                           2499 non-null   object \n",
            " 8   Home.Ownership                  2499 non-null   object \n",
            " 9   Monthly.Income                  2497 non-null   float64\n",
            " 10  FICO.Range                      2500 non-null   object \n",
            " 11  Open.CREDIT.Lines               2496 non-null   object \n",
            " 12  Revolving.CREDIT.Balance        2497 non-null   object \n",
            " 13  Inquiries.in.the.Last.6.Months  2497 non-null   float64\n",
            " 14  Employment.Length               2422 non-null   object \n",
            "dtypes: float64(3), object(12)\n",
            "memory usage: 293.1+ KB\n"
          ],
          "name": "stdout"
        }
      ]
    },
    {
      "cell_type": "markdown",
      "metadata": {
        "colab_type": "text",
        "id": "uW4r2yRi8qol"
      },
      "source": [
        "- ```info``` function gives us the following insights into the data:\n",
        "\n",
        "  - There are a total of **2500 samples (rows)** and **15 columns** in the dataset.\n",
        "  \n",
        "  - There are **3 columns** with a **numeric** datatype and **12 columns** with an **object** datatype."
      ]
    },
    {
      "cell_type": "code",
      "metadata": {
        "colab_type": "code",
        "id": "ci2sFMrg8qom",
        "colab": {
          "base_uri": "https://localhost:8080/",
          "height": 284
        },
        "outputId": "a23a0129-7af6-4986-d4cd-42fcbffd661d"
      },
      "source": [
        "ld.describe()"
      ],
      "execution_count": null,
      "outputs": [
        {
          "output_type": "execute_result",
          "data": {
            "text/html": [
              "<div>\n",
              "<style scoped>\n",
              "    .dataframe tbody tr th:only-of-type {\n",
              "        vertical-align: middle;\n",
              "    }\n",
              "\n",
              "    .dataframe tbody tr th {\n",
              "        vertical-align: top;\n",
              "    }\n",
              "\n",
              "    .dataframe thead th {\n",
              "        text-align: right;\n",
              "    }\n",
              "</style>\n",
              "<table border=\"1\" class=\"dataframe\">\n",
              "  <thead>\n",
              "    <tr style=\"text-align: right;\">\n",
              "      <th></th>\n",
              "      <th>ID</th>\n",
              "      <th>Monthly.Income</th>\n",
              "      <th>Inquiries.in.the.Last.6.Months</th>\n",
              "    </tr>\n",
              "  </thead>\n",
              "  <tbody>\n",
              "    <tr>\n",
              "      <th>count</th>\n",
              "      <td>2499.000000</td>\n",
              "      <td>2497.000000</td>\n",
              "      <td>2497.000000</td>\n",
              "    </tr>\n",
              "    <tr>\n",
              "      <th>mean</th>\n",
              "      <td>51643.325330</td>\n",
              "      <td>5689.716608</td>\n",
              "      <td>0.906688</td>\n",
              "    </tr>\n",
              "    <tr>\n",
              "      <th>std</th>\n",
              "      <td>30053.637661</td>\n",
              "      <td>3963.568002</td>\n",
              "      <td>1.231149</td>\n",
              "    </tr>\n",
              "    <tr>\n",
              "      <th>min</th>\n",
              "      <td>10.000000</td>\n",
              "      <td>588.500000</td>\n",
              "      <td>0.000000</td>\n",
              "    </tr>\n",
              "    <tr>\n",
              "      <th>25%</th>\n",
              "      <td>26570.500000</td>\n",
              "      <td>3500.000000</td>\n",
              "      <td>0.000000</td>\n",
              "    </tr>\n",
              "    <tr>\n",
              "      <th>50%</th>\n",
              "      <td>50673.000000</td>\n",
              "      <td>5000.000000</td>\n",
              "      <td>0.000000</td>\n",
              "    </tr>\n",
              "    <tr>\n",
              "      <th>75%</th>\n",
              "      <td>77583.000000</td>\n",
              "      <td>6800.000000</td>\n",
              "      <td>1.000000</td>\n",
              "    </tr>\n",
              "    <tr>\n",
              "      <th>max</th>\n",
              "      <td>104202.000000</td>\n",
              "      <td>102750.000000</td>\n",
              "      <td>9.000000</td>\n",
              "    </tr>\n",
              "  </tbody>\n",
              "</table>\n",
              "</div>"
            ],
            "text/plain": [
              "                  ID  Monthly.Income  Inquiries.in.the.Last.6.Months\n",
              "count    2499.000000     2497.000000                     2497.000000\n",
              "mean    51643.325330     5689.716608                        0.906688\n",
              "std     30053.637661     3963.568002                        1.231149\n",
              "min        10.000000      588.500000                        0.000000\n",
              "25%     26570.500000     3500.000000                        0.000000\n",
              "50%     50673.000000     5000.000000                        0.000000\n",
              "75%     77583.000000     6800.000000                        1.000000\n",
              "max    104202.000000   102750.000000                        9.000000"
            ]
          },
          "metadata": {
            "tags": []
          },
          "execution_count": 6
        }
      ]
    },
    {
      "cell_type": "markdown",
      "metadata": {
        "colab_type": "text",
        "id": "yPng1N4X8qop"
      },
      "source": [
        "- ```describe``` function gives us the following insights into the data:\n",
        "  - The distribution of **Monthly.Income** is **positive (right) skewed** because the **mean** of **Monthly.Income (5689.7)** lies to the **right** of the **median(50%)** value **(5000)**, on a **distribution plot**. \n",
        "  \n",
        "  - Majority of the values of **Monthly.Income** lie at monthly income **less than 10000** as shown by our **75%** value.\n",
        "  \n",
        "  - The **maximum** value of **Monthly.Income** is **102750**, which is clearly an **outlier** because its value is very distant from the **75%** value. \n",
        "  \n",
        "  - Majority of the values of **Inquiries.in.the.Last.6.Months** lie between the range of **0 to 1**."
      ]
    },
    {
      "cell_type": "markdown",
      "metadata": {
        "colab_type": "text",
        "id": "DbLpqOCV8qoq"
      },
      "source": [
        "---"
      ]
    },
    {
      "cell_type": "markdown",
      "metadata": {
        "colab_type": "text",
        "id": "Gc1OdcDQ8qoq"
      },
      "source": [
        "<a id=section302></a>\n",
        "### 3.2 Pandas Profiling before Data Preprocessing\n",
        "\n",
        "<center>\n",
        "<img src=\"https://raw.githubusercontent.com/insaid2018/Term-2/master/images/Pandas%20profiling.png\" height=\"400\" width=\"500\"/>\n",
        "</center>"
      ]
    },
    {
      "cell_type": "markdown",
      "metadata": {
        "colab_type": "text",
        "id": "wZJKeb4a8qor"
      },
      "source": [
        "- Here, we will perform **Pandas Profiling before preprocessing** our dataset, so we will name the **output file** as __ld_before_preprocessing.html__. \n",
        "\n",
        "\n",
        "- The file will be stored in the directory of your notebook. Open it using the jupyter notebook file explorer and take a look at it and see what insights you can develop from it. \n",
        "\n",
        "\n",
        "- Or you can **output the profiling report** in the **current jupyter notebook** as well as shown in the code below. "
      ]
    },
    {
      "cell_type": "code",
      "metadata": {
        "colab_type": "code",
        "id": "Hfxq3Me78qos",
        "colab": {
          "base_uri": "https://localhost:8080/",
          "height": 1000
        },
        "outputId": "5afd3c22-0650-42cc-e1c9-2cf87de1d152"
      },
      "source": [
        "# If pandas profiling gives an error, please update pandas-profiling by running this command in the comments below.\n",
        "\n",
        "!pip install pandas-profiling --upgrade"
      ],
      "execution_count": null,
      "outputs": [
        {
          "output_type": "stream",
          "text": [
            "Requirement already up-to-date: pandas-profiling in /usr/local/lib/python3.6/dist-packages (2.8.0)\n",
            "Requirement already satisfied, skipping upgrade: numpy>=1.16.0 in /usr/local/lib/python3.6/dist-packages (from pandas-profiling) (1.18.5)\n",
            "Requirement already satisfied, skipping upgrade: tqdm>=4.43.0 in /usr/local/lib/python3.6/dist-packages (from pandas-profiling) (4.48.2)\n",
            "Requirement already satisfied, skipping upgrade: ipywidgets>=7.5.1 in /usr/local/lib/python3.6/dist-packages (from pandas-profiling) (7.5.1)\n",
            "Requirement already satisfied, skipping upgrade: joblib in /usr/local/lib/python3.6/dist-packages (from pandas-profiling) (0.16.0)\n",
            "Requirement already satisfied, skipping upgrade: missingno>=0.4.2 in /usr/local/lib/python3.6/dist-packages (from pandas-profiling) (0.4.2)\n",
            "Requirement already satisfied, skipping upgrade: astropy>=4.0 in /usr/local/lib/python3.6/dist-packages (from pandas-profiling) (4.0.1.post1)\n",
            "Requirement already satisfied, skipping upgrade: jinja2>=2.11.1 in /usr/local/lib/python3.6/dist-packages (from pandas-profiling) (2.11.2)\n",
            "Requirement already satisfied, skipping upgrade: htmlmin>=0.1.12 in /usr/local/lib/python3.6/dist-packages (from pandas-profiling) (0.1.12)\n",
            "Requirement already satisfied, skipping upgrade: pandas!=1.0.0,!=1.0.1,!=1.0.2,>=0.25.3 in /usr/local/lib/python3.6/dist-packages (from pandas-profiling) (1.0.5)\n",
            "Requirement already satisfied, skipping upgrade: tangled-up-in-unicode>=0.0.6 in /usr/local/lib/python3.6/dist-packages (from pandas-profiling) (0.0.6)\n",
            "Requirement already satisfied, skipping upgrade: requests>=2.23.0 in /usr/local/lib/python3.6/dist-packages (from pandas-profiling) (2.23.0)\n",
            "Requirement already satisfied, skipping upgrade: scipy>=1.4.1 in /usr/local/lib/python3.6/dist-packages (from pandas-profiling) (1.4.1)\n",
            "Requirement already satisfied, skipping upgrade: phik>=0.9.10 in /usr/local/lib/python3.6/dist-packages (from pandas-profiling) (0.10.0)\n",
            "Requirement already satisfied, skipping upgrade: visions[type_image_path]==0.4.4 in /usr/local/lib/python3.6/dist-packages (from pandas-profiling) (0.4.4)\n",
            "Requirement already satisfied, skipping upgrade: confuse>=1.0.0 in /usr/local/lib/python3.6/dist-packages (from pandas-profiling) (1.3.0)\n",
            "Requirement already satisfied, skipping upgrade: matplotlib>=3.2.0 in /usr/local/lib/python3.6/dist-packages (from pandas-profiling) (3.2.2)\n",
            "Requirement already satisfied, skipping upgrade: traitlets>=4.3.1 in /usr/local/lib/python3.6/dist-packages (from ipywidgets>=7.5.1->pandas-profiling) (4.3.3)\n",
            "Requirement already satisfied, skipping upgrade: nbformat>=4.2.0 in /usr/local/lib/python3.6/dist-packages (from ipywidgets>=7.5.1->pandas-profiling) (5.0.7)\n",
            "Requirement already satisfied, skipping upgrade: ipykernel>=4.5.1 in /usr/local/lib/python3.6/dist-packages (from ipywidgets>=7.5.1->pandas-profiling) (4.10.1)\n",
            "Requirement already satisfied, skipping upgrade: ipython>=4.0.0; python_version >= \"3.3\" in /usr/local/lib/python3.6/dist-packages (from ipywidgets>=7.5.1->pandas-profiling) (5.5.0)\n",
            "Requirement already satisfied, skipping upgrade: widgetsnbextension~=3.5.0 in /usr/local/lib/python3.6/dist-packages (from ipywidgets>=7.5.1->pandas-profiling) (3.5.1)\n",
            "Requirement already satisfied, skipping upgrade: seaborn in /usr/local/lib/python3.6/dist-packages (from missingno>=0.4.2->pandas-profiling) (0.10.1)\n",
            "Requirement already satisfied, skipping upgrade: MarkupSafe>=0.23 in /usr/local/lib/python3.6/dist-packages (from jinja2>=2.11.1->pandas-profiling) (1.1.1)\n",
            "Requirement already satisfied, skipping upgrade: python-dateutil>=2.6.1 in /usr/local/lib/python3.6/dist-packages (from pandas!=1.0.0,!=1.0.1,!=1.0.2,>=0.25.3->pandas-profiling) (2.8.1)\n",
            "Requirement already satisfied, skipping upgrade: pytz>=2017.2 in /usr/local/lib/python3.6/dist-packages (from pandas!=1.0.0,!=1.0.1,!=1.0.2,>=0.25.3->pandas-profiling) (2018.9)\n",
            "Requirement already satisfied, skipping upgrade: idna<3,>=2.5 in /usr/local/lib/python3.6/dist-packages (from requests>=2.23.0->pandas-profiling) (2.10)\n",
            "Requirement already satisfied, skipping upgrade: urllib3!=1.25.0,!=1.25.1,<1.26,>=1.21.1 in /usr/local/lib/python3.6/dist-packages (from requests>=2.23.0->pandas-profiling) (1.24.3)\n",
            "Requirement already satisfied, skipping upgrade: chardet<4,>=3.0.2 in /usr/local/lib/python3.6/dist-packages (from requests>=2.23.0->pandas-profiling) (3.0.4)\n",
            "Requirement already satisfied, skipping upgrade: certifi>=2017.4.17 in /usr/local/lib/python3.6/dist-packages (from requests>=2.23.0->pandas-profiling) (2020.6.20)\n",
            "Requirement already satisfied, skipping upgrade: numba>=0.38.1 in /usr/local/lib/python3.6/dist-packages (from phik>=0.9.10->pandas-profiling) (0.48.0)\n",
            "Requirement already satisfied, skipping upgrade: attrs>=19.3.0 in /usr/local/lib/python3.6/dist-packages (from visions[type_image_path]==0.4.4->pandas-profiling) (20.1.0)\n",
            "Requirement already satisfied, skipping upgrade: networkx>=2.4 in /usr/local/lib/python3.6/dist-packages (from visions[type_image_path]==0.4.4->pandas-profiling) (2.5)\n",
            "Requirement already satisfied, skipping upgrade: imagehash; extra == \"type_image_path\" in /usr/local/lib/python3.6/dist-packages (from visions[type_image_path]==0.4.4->pandas-profiling) (4.1.0)\n",
            "Requirement already satisfied, skipping upgrade: Pillow; extra == \"type_image_path\" in /usr/local/lib/python3.6/dist-packages (from visions[type_image_path]==0.4.4->pandas-profiling) (7.0.0)\n",
            "Requirement already satisfied, skipping upgrade: pyyaml in /usr/local/lib/python3.6/dist-packages (from confuse>=1.0.0->pandas-profiling) (3.13)\n",
            "Requirement already satisfied, skipping upgrade: pyparsing!=2.0.4,!=2.1.2,!=2.1.6,>=2.0.1 in /usr/local/lib/python3.6/dist-packages (from matplotlib>=3.2.0->pandas-profiling) (2.4.7)\n",
            "Requirement already satisfied, skipping upgrade: kiwisolver>=1.0.1 in /usr/local/lib/python3.6/dist-packages (from matplotlib>=3.2.0->pandas-profiling) (1.2.0)\n",
            "Requirement already satisfied, skipping upgrade: cycler>=0.10 in /usr/local/lib/python3.6/dist-packages (from matplotlib>=3.2.0->pandas-profiling) (0.10.0)\n",
            "Requirement already satisfied, skipping upgrade: ipython-genutils in /usr/local/lib/python3.6/dist-packages (from traitlets>=4.3.1->ipywidgets>=7.5.1->pandas-profiling) (0.2.0)\n",
            "Requirement already satisfied, skipping upgrade: six in /usr/local/lib/python3.6/dist-packages (from traitlets>=4.3.1->ipywidgets>=7.5.1->pandas-profiling) (1.15.0)\n",
            "Requirement already satisfied, skipping upgrade: decorator in /usr/local/lib/python3.6/dist-packages (from traitlets>=4.3.1->ipywidgets>=7.5.1->pandas-profiling) (4.4.2)\n",
            "Requirement already satisfied, skipping upgrade: jupyter-core in /usr/local/lib/python3.6/dist-packages (from nbformat>=4.2.0->ipywidgets>=7.5.1->pandas-profiling) (4.6.3)\n",
            "Requirement already satisfied, skipping upgrade: jsonschema!=2.5.0,>=2.4 in /usr/local/lib/python3.6/dist-packages (from nbformat>=4.2.0->ipywidgets>=7.5.1->pandas-profiling) (2.6.0)\n",
            "Requirement already satisfied, skipping upgrade: tornado>=4.0 in /usr/local/lib/python3.6/dist-packages (from ipykernel>=4.5.1->ipywidgets>=7.5.1->pandas-profiling) (5.1.1)\n",
            "Requirement already satisfied, skipping upgrade: jupyter-client in /usr/local/lib/python3.6/dist-packages (from ipykernel>=4.5.1->ipywidgets>=7.5.1->pandas-profiling) (5.3.5)\n",
            "Requirement already satisfied, skipping upgrade: prompt-toolkit<2.0.0,>=1.0.4 in /usr/local/lib/python3.6/dist-packages (from ipython>=4.0.0; python_version >= \"3.3\"->ipywidgets>=7.5.1->pandas-profiling) (1.0.18)\n",
            "Requirement already satisfied, skipping upgrade: pexpect; sys_platform != \"win32\" in /usr/local/lib/python3.6/dist-packages (from ipython>=4.0.0; python_version >= \"3.3\"->ipywidgets>=7.5.1->pandas-profiling) (4.8.0)\n",
            "Requirement already satisfied, skipping upgrade: setuptools>=18.5 in /usr/local/lib/python3.6/dist-packages (from ipython>=4.0.0; python_version >= \"3.3\"->ipywidgets>=7.5.1->pandas-profiling) (49.6.0)\n",
            "Requirement already satisfied, skipping upgrade: simplegeneric>0.8 in /usr/local/lib/python3.6/dist-packages (from ipython>=4.0.0; python_version >= \"3.3\"->ipywidgets>=7.5.1->pandas-profiling) (0.8.1)\n",
            "Requirement already satisfied, skipping upgrade: pickleshare in /usr/local/lib/python3.6/dist-packages (from ipython>=4.0.0; python_version >= \"3.3\"->ipywidgets>=7.5.1->pandas-profiling) (0.7.5)\n",
            "Requirement already satisfied, skipping upgrade: pygments in /usr/local/lib/python3.6/dist-packages (from ipython>=4.0.0; python_version >= \"3.3\"->ipywidgets>=7.5.1->pandas-profiling) (2.1.3)\n",
            "Requirement already satisfied, skipping upgrade: notebook>=4.4.1 in /usr/local/lib/python3.6/dist-packages (from widgetsnbextension~=3.5.0->ipywidgets>=7.5.1->pandas-profiling) (5.3.1)\n",
            "Requirement already satisfied, skipping upgrade: llvmlite<0.32.0,>=0.31.0dev0 in /usr/local/lib/python3.6/dist-packages (from numba>=0.38.1->phik>=0.9.10->pandas-profiling) (0.31.0)\n",
            "Requirement already satisfied, skipping upgrade: PyWavelets in /usr/local/lib/python3.6/dist-packages (from imagehash; extra == \"type_image_path\"->visions[type_image_path]==0.4.4->pandas-profiling) (1.1.1)\n",
            "Requirement already satisfied, skipping upgrade: pyzmq>=13 in /usr/local/lib/python3.6/dist-packages (from jupyter-client->ipykernel>=4.5.1->ipywidgets>=7.5.1->pandas-profiling) (19.0.2)\n",
            "Requirement already satisfied, skipping upgrade: wcwidth in /usr/local/lib/python3.6/dist-packages (from prompt-toolkit<2.0.0,>=1.0.4->ipython>=4.0.0; python_version >= \"3.3\"->ipywidgets>=7.5.1->pandas-profiling) (0.2.5)\n",
            "Requirement already satisfied, skipping upgrade: ptyprocess>=0.5 in /usr/local/lib/python3.6/dist-packages (from pexpect; sys_platform != \"win32\"->ipython>=4.0.0; python_version >= \"3.3\"->ipywidgets>=7.5.1->pandas-profiling) (0.6.0)\n",
            "Requirement already satisfied, skipping upgrade: Send2Trash in /usr/local/lib/python3.6/dist-packages (from notebook>=4.4.1->widgetsnbextension~=3.5.0->ipywidgets>=7.5.1->pandas-profiling) (1.5.0)\n",
            "Requirement already satisfied, skipping upgrade: nbconvert in /usr/local/lib/python3.6/dist-packages (from notebook>=4.4.1->widgetsnbextension~=3.5.0->ipywidgets>=7.5.1->pandas-profiling) (5.6.1)\n",
            "Requirement already satisfied, skipping upgrade: terminado>=0.8.1 in /usr/local/lib/python3.6/dist-packages (from notebook>=4.4.1->widgetsnbextension~=3.5.0->ipywidgets>=7.5.1->pandas-profiling) (0.8.3)\n",
            "Requirement already satisfied, skipping upgrade: entrypoints>=0.2.2 in /usr/local/lib/python3.6/dist-packages (from nbconvert->notebook>=4.4.1->widgetsnbextension~=3.5.0->ipywidgets>=7.5.1->pandas-profiling) (0.3)\n",
            "Requirement already satisfied, skipping upgrade: bleach in /usr/local/lib/python3.6/dist-packages (from nbconvert->notebook>=4.4.1->widgetsnbextension~=3.5.0->ipywidgets>=7.5.1->pandas-profiling) (3.1.5)\n",
            "Requirement already satisfied, skipping upgrade: defusedxml in /usr/local/lib/python3.6/dist-packages (from nbconvert->notebook>=4.4.1->widgetsnbextension~=3.5.0->ipywidgets>=7.5.1->pandas-profiling) (0.6.0)\n",
            "Requirement already satisfied, skipping upgrade: testpath in /usr/local/lib/python3.6/dist-packages (from nbconvert->notebook>=4.4.1->widgetsnbextension~=3.5.0->ipywidgets>=7.5.1->pandas-profiling) (0.4.4)\n",
            "Requirement already satisfied, skipping upgrade: pandocfilters>=1.4.1 in /usr/local/lib/python3.6/dist-packages (from nbconvert->notebook>=4.4.1->widgetsnbextension~=3.5.0->ipywidgets>=7.5.1->pandas-profiling) (1.4.2)\n",
            "Requirement already satisfied, skipping upgrade: mistune<2,>=0.8.1 in /usr/local/lib/python3.6/dist-packages (from nbconvert->notebook>=4.4.1->widgetsnbextension~=3.5.0->ipywidgets>=7.5.1->pandas-profiling) (0.8.4)\n",
            "Requirement already satisfied, skipping upgrade: packaging in /usr/local/lib/python3.6/dist-packages (from bleach->nbconvert->notebook>=4.4.1->widgetsnbextension~=3.5.0->ipywidgets>=7.5.1->pandas-profiling) (20.4)\n",
            "Requirement already satisfied, skipping upgrade: webencodings in /usr/local/lib/python3.6/dist-packages (from bleach->nbconvert->notebook>=4.4.1->widgetsnbextension~=3.5.0->ipywidgets>=7.5.1->pandas-profiling) (0.5.1)\n"
          ],
          "name": "stdout"
        }
      ]
    },
    {
      "cell_type": "code",
      "metadata": {
        "id": "_VfSbZUeOW3e",
        "colab_type": "code",
        "colab": {}
      },
      "source": [
        "import pandas_profiling"
      ],
      "execution_count": null,
      "outputs": []
    },
    {
      "cell_type": "code",
      "metadata": {
        "colab_type": "code",
        "id": "UrGPYJlq8qow",
        "colab": {
          "base_uri": "https://localhost:8080/",
          "height": 212,
          "referenced_widgets": [
            "5714da6b1d4b453abbf3a90ad7efbca6",
            "7be72bda14114bf1ba1453bb38a27507",
            "e721bd4d6163402196d4772515c75987",
            "3de11f3441bc484799be532767765f4b",
            "9544a52bec1f47c29a3ef55d9cf63eef",
            "d7c2626a3662408a800a3d070802e8bb",
            "c9d30094b5944687bbcdf11f025edda3",
            "6a0b14dd29df499e9634c6183e72c508",
            "743e3b9844da41aea7e41d0b432b99b6",
            "e5310070f6e441018b665ee8a715aff2",
            "b310a4936c4144169e80ee8accc2e436",
            "732f636833e94a41b88724c2c9470351",
            "3399d73dc3c148ae8c98cbd6dd321bdc",
            "87130326ac7c4809afabadf9ad24a507",
            "a35720177aae4e5dad4ee9c6f8292838",
            "dde8fbbe08864c2380281228ba1ebb08",
            "505b8fd9d0184d4b94f4982fce92974e",
            "dc7c51f943a34568a08c61918de1e1ee",
            "19587dbc617b423a94f5048a5233f990",
            "6ae0fb77ff6b4f6c81fd1a39c5e74134",
            "dd3338c73ccc4dedafc8dbe281dd5142",
            "31e756adcbcd4dc6a519b4120ada17e0",
            "6ecd376f8d4d4ec9bfa3758f2d74a797",
            "2ffda74c82004e58b65fcf83f0f874c9",
            "262b3e86f3014b47b1281b426e363181",
            "e823e6dd40f74a71b1bdfb09d10cbe79",
            "20565e8246af46e9885ea4950be7cc13",
            "d79e5fe9b2bf40d89f67fe4789c7eb18",
            "8da2d72276f6460984b3c276e7a7c4cb",
            "ab7134dccf51449ebc1fe08af8171ac6",
            "c0c0a193130e44138df724cfcaccc5bc",
            "5a7317308d2045a0867f0d8982003e69"
          ]
        },
        "outputId": "333640e3-dd4a-48f6-e87e-412b0106f846"
      },
      "source": [
        "# Performing pandas profiling before data preparation.\n",
        "# Saving the output as ld_before_preprocessing.html\n",
        "\n",
        "# To output pandas profiling report to an external html file.\n",
        "\n",
        "profile = ld.profile_report(title='Pandas Profiling before Data Preprocessing')\n",
        "profile.to_file(output_file=\"ld_before_preprocessing.html\")\n",
        "\n",
        "# To output the pandas profiling report on the notebook.\n",
        "\n",
        "#ld.profile_report(title='Pandas Profiling before Data Preprocessing', style={'full_width':True})"
      ],
      "execution_count": null,
      "outputs": [
        {
          "output_type": "display_data",
          "data": {
            "application/vnd.jupyter.widget-view+json": {
              "model_id": "5714da6b1d4b453abbf3a90ad7efbca6",
              "version_minor": 0,
              "version_major": 2
            },
            "text/plain": [
              "HBox(children=(FloatProgress(value=0.0, description='Summarize dataset', max=29.0, style=ProgressStyle(descrip…"
            ]
          },
          "metadata": {
            "tags": []
          }
        },
        {
          "output_type": "stream",
          "text": [
            "\n"
          ],
          "name": "stdout"
        },
        {
          "output_type": "display_data",
          "data": {
            "application/vnd.jupyter.widget-view+json": {
              "model_id": "743e3b9844da41aea7e41d0b432b99b6",
              "version_minor": 0,
              "version_major": 2
            },
            "text/plain": [
              "HBox(children=(FloatProgress(value=0.0, description='Generate report structure', max=1.0, style=ProgressStyle(…"
            ]
          },
          "metadata": {
            "tags": []
          }
        },
        {
          "output_type": "stream",
          "text": [
            "\n"
          ],
          "name": "stdout"
        },
        {
          "output_type": "display_data",
          "data": {
            "application/vnd.jupyter.widget-view+json": {
              "model_id": "505b8fd9d0184d4b94f4982fce92974e",
              "version_minor": 0,
              "version_major": 2
            },
            "text/plain": [
              "HBox(children=(FloatProgress(value=0.0, description='Render HTML', max=1.0, style=ProgressStyle(description_wi…"
            ]
          },
          "metadata": {
            "tags": []
          }
        },
        {
          "output_type": "stream",
          "text": [
            "\n"
          ],
          "name": "stdout"
        },
        {
          "output_type": "display_data",
          "data": {
            "application/vnd.jupyter.widget-view+json": {
              "model_id": "262b3e86f3014b47b1281b426e363181",
              "version_minor": 0,
              "version_major": 2
            },
            "text/plain": [
              "HBox(children=(FloatProgress(value=0.0, description='Export report to file', max=1.0, style=ProgressStyle(desc…"
            ]
          },
          "metadata": {
            "tags": []
          }
        },
        {
          "output_type": "stream",
          "text": [
            "\n"
          ],
          "name": "stdout"
        }
      ]
    },
    {
      "cell_type": "markdown",
      "metadata": {
        "colab_type": "text",
        "id": "dm3lSGC68qo1"
      },
      "source": [
        "**Observations from Pandas Profiling before Data Processing** <br><br>\n",
        "__Dataset info__:\n",
        "- Number of variables: 15\n",
        "- Number of observations: 2500\n",
        "- Missing cells: 99 (< 0.1%)\n",
        "\n",
        "\n",
        "__Variables types__: \n",
        "- Numeric = 3 \n",
        "- Categorical = 12\n",
        "\n",
        "<br>\n",
        "\n",
        "- **Employment.Length** has **78 (3.1%) missing** values.\n",
        "\n",
        "\n",
        "- **Home.Ownership** has **99.7%** samples belonging to **3** categories:\n",
        " \n",
        "  - MORTGAGE: 1147 samples (45.9% share)\t \n",
        " \n",
        "  - RENT: 1146 samples (45.8% share)\t \n",
        "  \n",
        "  - OWN: 200 samples (8.0% share)\n",
        "\n",
        "\n",
        "- **Inquiries.in.the.Last.6.Months** has data divided into **10** distinct values.\n",
        "\n",
        "  - The distribution is positive (right) skewed with **skewness** value **2.0421**.\n",
        "  \n",
        "  - **95%** values lie in the range between **0 to 3**.\n",
        "  \n",
        "  - __0__ is the most common value with a frequency of **50%**.\n",
        "\n",
        "\n",
        "- **Loan.Length** has **99.9%** samples belonging to **2** categories:\n",
        " \n",
        "  - 36 months: 1950 samples (78.0% share)\t \n",
        " \n",
        "  - 60 months: 548 samples (21.9% share)\t\n",
        "  \n",
        "    \n",
        "- **Loan.Purpose** has data divided into **14** distinct categories.\n",
        "\n",
        "  - The category **debt_consolidation** has the highest share with **1307** samples **(52.3% share)**.\n",
        "  \n",
        "  - Then categories **credit_card**\thas **444** samples **(17.8% share)**, **other** has **200** samples **(8.0% share)**, **home_improvement** has **152** samples **(6.1% share)**.\n",
        "\n",
        "\n",
        "- **Monthly.Income** has a **skewness** of **8.4714** and **kurtosis** of **167.49**.\n",
        "\n",
        "  - The distribution is positive (right) skewed.\n",
        "  \n",
        "  - The high value of **kurtosis** implies that the tail is very long and there is a presence of outliers in the data.\n",
        "  \n",
        "  - **95%** samples have a **Monthly.Income** less than **11667**.\n",
        "  \n",
        "  - **Interquartile range (IQR)** is **3300** and **mean** is **5689.7**, so extreme outliers will be after ```mean + (3 * IQR)``` ie. **15589.7**\n",
        "  \n",
        "\n",
        "- **State** has very **high cardinality** as there are **47 distinct** values in the dataset."
      ]
    },
    {
      "cell_type": "markdown",
      "metadata": {
        "colab_type": "text",
        "id": "ARJKRFPV8qo2"
      },
      "source": [
        "---"
      ]
    },
    {
      "cell_type": "markdown",
      "metadata": {
        "colab_type": "text",
        "id": "ntD7EJLe8qo3"
      },
      "source": [
        "<a id=section4></a>\n",
        "## 4. Data Exploration"
      ]
    },
    {
      "cell_type": "markdown",
      "metadata": {
        "colab_type": "text",
        "id": "qpRQEWpb8qo4"
      },
      "source": [
        "<a id=section401></a>\n",
        "### 4.1 Data Preprocessing"
      ]
    },
    {
      "cell_type": "markdown",
      "metadata": {
        "colab_type": "text",
        "id": "VfKif2-68qo5"
      },
      "source": [
        "Since most of the columns in the dataset have **missing values** and contain data with textual values in them, they can't be used for **Statistical Analysis** and **Data Visualization** without performing **Data Preprocessing** on them. <br>"
      ]
    },
    {
      "cell_type": "markdown",
      "metadata": {
        "colab_type": "text",
        "id": "2JA892xb8qo5"
      },
      "source": [
        "<a id=section40101></a>\n",
        "#### 4.1.1 Converting Columns to Numeric Datatype"
      ]
    },
    {
      "cell_type": "code",
      "metadata": {
        "colab_type": "code",
        "id": "ucPui7Xm8qo6",
        "colab": {}
      },
      "source": [
        "# ID column has a distinct value for each sample, and it won't help our model in any way.\n",
        "# Dropping ID column from the dataset.\n",
        "\n",
        "ld.drop(['ID'], 1, inplace=True)"
      ],
      "execution_count": null,
      "outputs": []
    },
    {
      "cell_type": "code",
      "metadata": {
        "colab_type": "code",
        "id": "BwwXmBCA8qo8",
        "colab": {
          "base_uri": "https://localhost:8080/",
          "height": 215
        },
        "outputId": "5530060a-e73d-4981-939c-7d6387c474ca"
      },
      "source": [
        "ld.head()"
      ],
      "execution_count": null,
      "outputs": [
        {
          "output_type": "execute_result",
          "data": {
            "text/html": [
              "<div>\n",
              "<style scoped>\n",
              "    .dataframe tbody tr th:only-of-type {\n",
              "        vertical-align: middle;\n",
              "    }\n",
              "\n",
              "    .dataframe tbody tr th {\n",
              "        vertical-align: top;\n",
              "    }\n",
              "\n",
              "    .dataframe thead th {\n",
              "        text-align: right;\n",
              "    }\n",
              "</style>\n",
              "<table border=\"1\" class=\"dataframe\">\n",
              "  <thead>\n",
              "    <tr style=\"text-align: right;\">\n",
              "      <th></th>\n",
              "      <th>Amount.Requested</th>\n",
              "      <th>Amount.Funded.By.Investors</th>\n",
              "      <th>Interest.Rate</th>\n",
              "      <th>Loan.Length</th>\n",
              "      <th>Loan.Purpose</th>\n",
              "      <th>Debt.To.Income.Ratio</th>\n",
              "      <th>State</th>\n",
              "      <th>Home.Ownership</th>\n",
              "      <th>Monthly.Income</th>\n",
              "      <th>FICO.Range</th>\n",
              "      <th>Open.CREDIT.Lines</th>\n",
              "      <th>Revolving.CREDIT.Balance</th>\n",
              "      <th>Inquiries.in.the.Last.6.Months</th>\n",
              "      <th>Employment.Length</th>\n",
              "    </tr>\n",
              "  </thead>\n",
              "  <tbody>\n",
              "    <tr>\n",
              "      <th>0</th>\n",
              "      <td>20000</td>\n",
              "      <td>20000</td>\n",
              "      <td>8.90%</td>\n",
              "      <td>36 months</td>\n",
              "      <td>debt_consolidation</td>\n",
              "      <td>14.90%</td>\n",
              "      <td>SC</td>\n",
              "      <td>MORTGAGE</td>\n",
              "      <td>6541.67</td>\n",
              "      <td>735-739</td>\n",
              "      <td>14</td>\n",
              "      <td>14272</td>\n",
              "      <td>2.0</td>\n",
              "      <td>&lt; 1 year</td>\n",
              "    </tr>\n",
              "    <tr>\n",
              "      <th>1</th>\n",
              "      <td>19200</td>\n",
              "      <td>19200</td>\n",
              "      <td>12.12%</td>\n",
              "      <td>36 months</td>\n",
              "      <td>debt_consolidation</td>\n",
              "      <td>28.36%</td>\n",
              "      <td>TX</td>\n",
              "      <td>MORTGAGE</td>\n",
              "      <td>4583.33</td>\n",
              "      <td>715-719</td>\n",
              "      <td>12</td>\n",
              "      <td>11140</td>\n",
              "      <td>1.0</td>\n",
              "      <td>2 years</td>\n",
              "    </tr>\n",
              "    <tr>\n",
              "      <th>2</th>\n",
              "      <td>35000</td>\n",
              "      <td>35000</td>\n",
              "      <td>21.98%</td>\n",
              "      <td>60 months</td>\n",
              "      <td>debt_consolidation</td>\n",
              "      <td>23.81%</td>\n",
              "      <td>CA</td>\n",
              "      <td>MORTGAGE</td>\n",
              "      <td>11500.00</td>\n",
              "      <td>690-694</td>\n",
              "      <td>14</td>\n",
              "      <td>21977</td>\n",
              "      <td>1.0</td>\n",
              "      <td>2 years</td>\n",
              "    </tr>\n",
              "    <tr>\n",
              "      <th>3</th>\n",
              "      <td>10000</td>\n",
              "      <td>9975</td>\n",
              "      <td>9.99%</td>\n",
              "      <td>36 months</td>\n",
              "      <td>debt_consolidation</td>\n",
              "      <td>14.30%</td>\n",
              "      <td>KS</td>\n",
              "      <td>MORTGAGE</td>\n",
              "      <td>3833.33</td>\n",
              "      <td>695-699</td>\n",
              "      <td>10</td>\n",
              "      <td>9346</td>\n",
              "      <td>0.0</td>\n",
              "      <td>5 years</td>\n",
              "    </tr>\n",
              "    <tr>\n",
              "      <th>4</th>\n",
              "      <td>12000</td>\n",
              "      <td>12000</td>\n",
              "      <td>11.71%</td>\n",
              "      <td>36 months</td>\n",
              "      <td>credit_card</td>\n",
              "      <td>18.78%</td>\n",
              "      <td>NJ</td>\n",
              "      <td>RENT</td>\n",
              "      <td>3195.00</td>\n",
              "      <td>695-699</td>\n",
              "      <td>11</td>\n",
              "      <td>14469</td>\n",
              "      <td>0.0</td>\n",
              "      <td>9 years</td>\n",
              "    </tr>\n",
              "  </tbody>\n",
              "</table>\n",
              "</div>"
            ],
            "text/plain": [
              "  Amount.Requested  ... Employment.Length\n",
              "0            20000  ...          < 1 year\n",
              "1            19200  ...           2 years\n",
              "2            35000  ...           2 years\n",
              "3            10000  ...           5 years\n",
              "4            12000  ...           9 years\n",
              "\n",
              "[5 rows x 14 columns]"
            ]
          },
          "metadata": {
            "tags": []
          },
          "execution_count": 13
        }
      ]
    },
    {
      "cell_type": "markdown",
      "metadata": {
        "colab_type": "text",
        "id": "x7__tfIX8qpA"
      },
      "source": [
        "- You can see that variable **Interest.Rate** and **Debt.To.Income.Ratio** contain **%** sign in their values and as a result they have an __object__ datatype in the dataset. Lets __remove__ these __%__ signs first."
      ]
    },
    {
      "cell_type": "code",
      "metadata": {
        "colab_type": "code",
        "id": "6XNY6dqt8qpA",
        "colab": {}
      },
      "source": [
        "# Using str class methods to perform data cleaning.\n",
        "# Removing the % sign from the Interest.Rate column and converting to float datatype.\n",
        "\n",
        "ld['Interest.Rate'] = ld['Interest.Rate'].str.replace('%', '').astype(float)"
      ],
      "execution_count": null,
      "outputs": []
    },
    {
      "cell_type": "code",
      "metadata": {
        "colab_type": "code",
        "id": "KwZuztL08qpD",
        "colab": {}
      },
      "source": [
        "# Removing the % sign from the Debt.To.Income.Ratio column and converting to float datatype.\n",
        "\n",
        "ld['Debt.To.Income.Ratio'] = ld['Debt.To.Income.Ratio'].str.replace('%', '').astype(float)"
      ],
      "execution_count": null,
      "outputs": []
    },
    {
      "cell_type": "code",
      "metadata": {
        "colab_type": "code",
        "id": "pMGJdvZF8qpI",
        "colab": {
          "base_uri": "https://localhost:8080/",
          "height": 215
        },
        "outputId": "2a2d32ff-3c63-4db9-b811-31eb37621c89"
      },
      "source": [
        "ld.head()"
      ],
      "execution_count": null,
      "outputs": [
        {
          "output_type": "execute_result",
          "data": {
            "text/html": [
              "<div>\n",
              "<style scoped>\n",
              "    .dataframe tbody tr th:only-of-type {\n",
              "        vertical-align: middle;\n",
              "    }\n",
              "\n",
              "    .dataframe tbody tr th {\n",
              "        vertical-align: top;\n",
              "    }\n",
              "\n",
              "    .dataframe thead th {\n",
              "        text-align: right;\n",
              "    }\n",
              "</style>\n",
              "<table border=\"1\" class=\"dataframe\">\n",
              "  <thead>\n",
              "    <tr style=\"text-align: right;\">\n",
              "      <th></th>\n",
              "      <th>Amount.Requested</th>\n",
              "      <th>Amount.Funded.By.Investors</th>\n",
              "      <th>Interest.Rate</th>\n",
              "      <th>Loan.Length</th>\n",
              "      <th>Loan.Purpose</th>\n",
              "      <th>Debt.To.Income.Ratio</th>\n",
              "      <th>State</th>\n",
              "      <th>Home.Ownership</th>\n",
              "      <th>Monthly.Income</th>\n",
              "      <th>FICO.Range</th>\n",
              "      <th>Open.CREDIT.Lines</th>\n",
              "      <th>Revolving.CREDIT.Balance</th>\n",
              "      <th>Inquiries.in.the.Last.6.Months</th>\n",
              "      <th>Employment.Length</th>\n",
              "    </tr>\n",
              "  </thead>\n",
              "  <tbody>\n",
              "    <tr>\n",
              "      <th>0</th>\n",
              "      <td>20000</td>\n",
              "      <td>20000</td>\n",
              "      <td>8.90</td>\n",
              "      <td>36 months</td>\n",
              "      <td>debt_consolidation</td>\n",
              "      <td>14.90</td>\n",
              "      <td>SC</td>\n",
              "      <td>MORTGAGE</td>\n",
              "      <td>6541.67</td>\n",
              "      <td>735-739</td>\n",
              "      <td>14</td>\n",
              "      <td>14272</td>\n",
              "      <td>2.0</td>\n",
              "      <td>&lt; 1 year</td>\n",
              "    </tr>\n",
              "    <tr>\n",
              "      <th>1</th>\n",
              "      <td>19200</td>\n",
              "      <td>19200</td>\n",
              "      <td>12.12</td>\n",
              "      <td>36 months</td>\n",
              "      <td>debt_consolidation</td>\n",
              "      <td>28.36</td>\n",
              "      <td>TX</td>\n",
              "      <td>MORTGAGE</td>\n",
              "      <td>4583.33</td>\n",
              "      <td>715-719</td>\n",
              "      <td>12</td>\n",
              "      <td>11140</td>\n",
              "      <td>1.0</td>\n",
              "      <td>2 years</td>\n",
              "    </tr>\n",
              "    <tr>\n",
              "      <th>2</th>\n",
              "      <td>35000</td>\n",
              "      <td>35000</td>\n",
              "      <td>21.98</td>\n",
              "      <td>60 months</td>\n",
              "      <td>debt_consolidation</td>\n",
              "      <td>23.81</td>\n",
              "      <td>CA</td>\n",
              "      <td>MORTGAGE</td>\n",
              "      <td>11500.00</td>\n",
              "      <td>690-694</td>\n",
              "      <td>14</td>\n",
              "      <td>21977</td>\n",
              "      <td>1.0</td>\n",
              "      <td>2 years</td>\n",
              "    </tr>\n",
              "    <tr>\n",
              "      <th>3</th>\n",
              "      <td>10000</td>\n",
              "      <td>9975</td>\n",
              "      <td>9.99</td>\n",
              "      <td>36 months</td>\n",
              "      <td>debt_consolidation</td>\n",
              "      <td>14.30</td>\n",
              "      <td>KS</td>\n",
              "      <td>MORTGAGE</td>\n",
              "      <td>3833.33</td>\n",
              "      <td>695-699</td>\n",
              "      <td>10</td>\n",
              "      <td>9346</td>\n",
              "      <td>0.0</td>\n",
              "      <td>5 years</td>\n",
              "    </tr>\n",
              "    <tr>\n",
              "      <th>4</th>\n",
              "      <td>12000</td>\n",
              "      <td>12000</td>\n",
              "      <td>11.71</td>\n",
              "      <td>36 months</td>\n",
              "      <td>credit_card</td>\n",
              "      <td>18.78</td>\n",
              "      <td>NJ</td>\n",
              "      <td>RENT</td>\n",
              "      <td>3195.00</td>\n",
              "      <td>695-699</td>\n",
              "      <td>11</td>\n",
              "      <td>14469</td>\n",
              "      <td>0.0</td>\n",
              "      <td>9 years</td>\n",
              "    </tr>\n",
              "  </tbody>\n",
              "</table>\n",
              "</div>"
            ],
            "text/plain": [
              "  Amount.Requested  ... Employment.Length\n",
              "0            20000  ...          < 1 year\n",
              "1            19200  ...           2 years\n",
              "2            35000  ...           2 years\n",
              "3            10000  ...           5 years\n",
              "4            12000  ...           9 years\n",
              "\n",
              "[5 rows x 14 columns]"
            ]
          },
          "metadata": {
            "tags": []
          },
          "execution_count": 16
        }
      ]
    },
    {
      "cell_type": "code",
      "metadata": {
        "colab_type": "code",
        "id": "eit3KuyU8qpQ",
        "colab": {
          "base_uri": "https://localhost:8080/",
          "height": 269
        },
        "outputId": "e83541d9-1102-4373-e126-ec9df86b2634"
      },
      "source": [
        "ld.dtypes"
      ],
      "execution_count": null,
      "outputs": [
        {
          "output_type": "execute_result",
          "data": {
            "text/plain": [
              "Amount.Requested                   object\n",
              "Amount.Funded.By.Investors         object\n",
              "Interest.Rate                     float64\n",
              "Loan.Length                        object\n",
              "Loan.Purpose                       object\n",
              "Debt.To.Income.Ratio              float64\n",
              "State                              object\n",
              "Home.Ownership                     object\n",
              "Monthly.Income                    float64\n",
              "FICO.Range                         object\n",
              "Open.CREDIT.Lines                  object\n",
              "Revolving.CREDIT.Balance           object\n",
              "Inquiries.in.the.Last.6.Months    float64\n",
              "Employment.Length                  object\n",
              "dtype: object"
            ]
          },
          "metadata": {
            "tags": []
          },
          "execution_count": 17
        }
      ]
    },
    {
      "cell_type": "markdown",
      "metadata": {
        "colab_type": "text",
        "id": "8ddSuqxR8qpV"
      },
      "source": [
        "- Here we can see that the columns which should have had a **numeric** datatype, have an **object** datatype, because of the presence of character values in those columns of the dataset. \n",
        "  - We'll convert all such columns to have a **numeric** datatype."
      ]
    },
    {
      "cell_type": "code",
      "metadata": {
        "colab_type": "code",
        "id": "3FxRMU228qpW",
        "colab": {}
      },
      "source": [
        "for col in ['Amount.Requested','Amount.Funded.By.Investors','Open.CREDIT.Lines','Revolving.CREDIT.Balance',\n",
        "           'Inquiries.in.the.Last.6.Months','Interest.Rate']:\n",
        "           ld[col] = pd.to_numeric(ld[col], errors = 'coerce')"
      ],
      "execution_count": null,
      "outputs": []
    },
    {
      "cell_type": "code",
      "metadata": {
        "colab_type": "code",
        "id": "byqzcbHC8qpY",
        "colab": {
          "base_uri": "https://localhost:8080/",
          "height": 269
        },
        "outputId": "0fa27472-4d46-46c9-dad2-7d21393715f4"
      },
      "source": [
        "ld.dtypes"
      ],
      "execution_count": null,
      "outputs": [
        {
          "output_type": "execute_result",
          "data": {
            "text/plain": [
              "Amount.Requested                  float64\n",
              "Amount.Funded.By.Investors        float64\n",
              "Interest.Rate                     float64\n",
              "Loan.Length                        object\n",
              "Loan.Purpose                       object\n",
              "Debt.To.Income.Ratio              float64\n",
              "State                              object\n",
              "Home.Ownership                     object\n",
              "Monthly.Income                    float64\n",
              "FICO.Range                         object\n",
              "Open.CREDIT.Lines                 float64\n",
              "Revolving.CREDIT.Balance          float64\n",
              "Inquiries.in.the.Last.6.Months    float64\n",
              "Employment.Length                  object\n",
              "dtype: object"
            ]
          },
          "metadata": {
            "tags": []
          },
          "execution_count": 19
        }
      ]
    },
    {
      "cell_type": "markdown",
      "metadata": {
        "colab_type": "text",
        "id": "7QXmJq_D8qpn"
      },
      "source": [
        "<a id=section40103></a>\n",
        "#### 4.1.2 Dealing with Missing Values. <br>"
      ]
    },
    {
      "cell_type": "code",
      "metadata": {
        "colab_type": "code",
        "id": "08YSySAI8qpn",
        "colab": {
          "base_uri": "https://localhost:8080/",
          "height": 269
        },
        "outputId": "2f66793c-b8a7-4882-dd11-afa17686e93d"
      },
      "source": [
        "# Checking for missing values in each column.\n",
        "\n",
        "ld.isnull().sum()"
      ],
      "execution_count": null,
      "outputs": [
        {
          "output_type": "execute_result",
          "data": {
            "text/plain": [
              "Amount.Requested                   5\n",
              "Amount.Funded.By.Investors         5\n",
              "Interest.Rate                      0\n",
              "Loan.Length                        1\n",
              "Loan.Purpose                       1\n",
              "Debt.To.Income.Ratio               1\n",
              "State                              1\n",
              "Home.Ownership                     1\n",
              "Monthly.Income                     3\n",
              "FICO.Range                         0\n",
              "Open.CREDIT.Lines                  9\n",
              "Revolving.CREDIT.Balance           5\n",
              "Inquiries.in.the.Last.6.Months     3\n",
              "Employment.Length                 78\n",
              "dtype: int64"
            ]
          },
          "metadata": {
            "tags": []
          },
          "execution_count": 20
        }
      ]
    },
    {
      "cell_type": "markdown",
      "metadata": {
        "colab_type": "text",
        "id": "eDl5icaT8qpr"
      },
      "source": [
        "**What to do with Missing values** \n",
        "\n",
        "  While dealing with missing values we have two options, either we:\n",
        "\n",
        "\n",
        "  1. __Drop the missing values__\n",
        "\n",
        "  2. __Impute the missing values__\n",
        "\n"
      ]
    },
    {
      "cell_type": "markdown",
      "metadata": {
        "colab_type": "text",
        "id": "D5phCJix8qps"
      },
      "source": [
        "Dropping the **missing values** "
      ]
    },
    {
      "cell_type": "code",
      "metadata": {
        "id": "fKIV_vX5dzCg",
        "colab_type": "code",
        "colab": {}
      },
      "source": [
        "ld.dropna(inplace=True)\n",
        "ld.reset_index(drop=True,inplace=True)"
      ],
      "execution_count": null,
      "outputs": []
    },
    {
      "cell_type": "code",
      "metadata": {
        "id": "CBQnDYC4eOwo",
        "colab_type": "code",
        "colab": {
          "base_uri": "https://localhost:8080/",
          "height": 269
        },
        "outputId": "56d509bc-09a5-4af9-f5cb-46836f64d7b8"
      },
      "source": [
        "ld.isnull().sum()"
      ],
      "execution_count": null,
      "outputs": [
        {
          "output_type": "execute_result",
          "data": {
            "text/plain": [
              "Amount.Requested                  0\n",
              "Amount.Funded.By.Investors        0\n",
              "Interest.Rate                     0\n",
              "Loan.Length                       0\n",
              "Loan.Purpose                      0\n",
              "Debt.To.Income.Ratio              0\n",
              "State                             0\n",
              "Home.Ownership                    0\n",
              "Monthly.Income                    0\n",
              "FICO.Range                        0\n",
              "Open.CREDIT.Lines                 0\n",
              "Revolving.CREDIT.Balance          0\n",
              "Inquiries.in.the.Last.6.Months    0\n",
              "Employment.Length                 0\n",
              "dtype: int64"
            ]
          },
          "metadata": {
            "tags": []
          },
          "execution_count": 22
        }
      ]
    },
    {
      "cell_type": "code",
      "metadata": {
        "colab_type": "code",
        "id": "S_KYv3-s8qsQ",
        "colab": {
          "base_uri": "https://localhost:8080/",
          "height": 235
        },
        "outputId": "a50aed6a-85cb-45f4-aff6-5f31a7e8d75c"
      },
      "source": [
        "# Checking Employment.Length column\n",
        "\n",
        "ld['Employment.Length'].value_counts(dropna=False)"
      ],
      "execution_count": null,
      "outputs": [
        {
          "output_type": "execute_result",
          "data": {
            "text/plain": [
              "10+ years    648\n",
              "< 1 year     245\n",
              "2 years      241\n",
              "3 years      234\n",
              "5 years      198\n",
              "4 years      189\n",
              "1 year       176\n",
              "6 years      160\n",
              "7 years      124\n",
              "8 years      107\n",
              "9 years       71\n",
              ".              2\n",
              "Name: Employment.Length, dtype: int64"
            ]
          },
          "metadata": {
            "tags": []
          },
          "execution_count": 23
        }
      ]
    },
    {
      "cell_type": "code",
      "metadata": {
        "colab_type": "code",
        "id": "784qFM9k8qsV",
        "colab": {}
      },
      "source": [
        "# Removing 'year' and 'years' from Employment.Length.\n",
        "\n",
        "ld['Employment.Length'] = ld['Employment.Length'].astype('str')\n",
        "ld['Employment.Length'] = ld['Employment.Length'].str.replace(' years', '').str.replace(' year', '')\n",
        "ld['Employment.Length'] = ld['Employment.Length'].str.replace('< 1', '0').str.replace('.', '1').str.replace('+', '')"
      ],
      "execution_count": null,
      "outputs": []
    },
    {
      "cell_type": "code",
      "metadata": {
        "id": "uY8yN0VEfZHg",
        "colab_type": "code",
        "colab": {}
      },
      "source": [
        "ld['Employment.Length'] = pd.to_numeric(ld['Employment.Length'], errors='coerce')"
      ],
      "execution_count": null,
      "outputs": []
    },
    {
      "cell_type": "code",
      "metadata": {
        "colab_type": "code",
        "id": "xFgjC0ne8qsZ",
        "colab": {
          "base_uri": "https://localhost:8080/",
          "height": 218
        },
        "outputId": "5153c6d6-0b62-4105-f19a-6163136264fb"
      },
      "source": [
        "ld['Employment.Length'].value_counts()"
      ],
      "execution_count": null,
      "outputs": [
        {
          "output_type": "execute_result",
          "data": {
            "text/plain": [
              "10    648\n",
              "0     245\n",
              "2     241\n",
              "3     234\n",
              "5     198\n",
              "4     189\n",
              "1     178\n",
              "6     160\n",
              "7     124\n",
              "8     107\n",
              "9      71\n",
              "Name: Employment.Length, dtype: int64"
            ]
          },
          "metadata": {
            "tags": []
          },
          "execution_count": 26
        }
      ]
    },
    {
      "cell_type": "code",
      "metadata": {
        "id": "sbHDrDaUaK8M",
        "colab_type": "code",
        "colab": {
          "base_uri": "https://localhost:8080/",
          "height": 235
        },
        "outputId": "ca91e238-b037-4a6b-dafa-60a3b2ae7d81"
      },
      "source": [
        "round(ld.groupby('Employment.Length')['Interest.Rate'].mean(), 2)"
      ],
      "execution_count": null,
      "outputs": [
        {
          "output_type": "execute_result",
          "data": {
            "text/plain": [
              "Employment.Length\n",
              "0     12.92\n",
              "1     12.50\n",
              "2     12.86\n",
              "3     12.79\n",
              "4     13.13\n",
              "5     13.43\n",
              "6     13.23\n",
              "7     13.09\n",
              "8     12.97\n",
              "9     13.25\n",
              "10    13.35\n",
              "Name: Interest.Rate, dtype: float64"
            ]
          },
          "metadata": {
            "tags": []
          },
          "execution_count": 33
        }
      ]
    },
    {
      "cell_type": "code",
      "metadata": {
        "colab_type": "code",
        "id": "m2kMmp6z8qsz",
        "colab": {
          "base_uri": "https://localhost:8080/",
          "height": 34
        },
        "outputId": "7e94db27-e015-4aee-9a27-c3a8c3e6e797"
      },
      "source": [
        "# Calculating the number of unique values in the State column.\n",
        "\n",
        "ld['State'].nunique()"
      ],
      "execution_count": null,
      "outputs": [
        {
          "output_type": "execute_result",
          "data": {
            "text/plain": [
              "46"
            ]
          },
          "metadata": {
            "tags": []
          },
          "execution_count": 34
        }
      ]
    },
    {
      "cell_type": "markdown",
      "metadata": {
        "colab_type": "text",
        "id": "NS5v-vac8qs4"
      },
      "source": [
        "__Cardinality__: Cardinality refers to the uniqueness of data values contained in a column. High cardinality means that the column contains a large percentage of totally unique values. Low cardinality means that the column contains a lot of “repeats” in its data range: \n",
        "\n",
        "  - **High Cardinality** in state column (too many unique values).\n",
        "\n",
        "  - Although, its not a legit reason to drop a variable. But, we'll ignore this in this discussion anyway in order to reduce amount of data preparation that we are doing here. \n",
        "\n",
        "You can try including it in your model and see if the performance improves."
      ]
    },
    {
      "cell_type": "code",
      "metadata": {
        "colab_type": "code",
        "id": "ndzOCXsC8qs7",
        "colab": {}
      },
      "source": [
        "# Dropping State column.\n",
        "\n",
        "ld.drop(['State'], 1, inplace=True)"
      ],
      "execution_count": null,
      "outputs": []
    },
    {
      "cell_type": "code",
      "metadata": {
        "colab_type": "code",
        "id": "y9oiQ2O68qs_",
        "colab": {}
      },
      "source": [
        "# Also dropping Amount.Funded.By.Investors column because it has a very strong correlation with Amount.Requested column.\n",
        "# If we keep both these columns, it will lead to multicollinearity in our dataset.\n",
        "\n",
        "ld.drop(['Amount.Funded.By.Investors'], 1, inplace=True)"
      ],
      "execution_count": null,
      "outputs": []
    },
    {
      "cell_type": "code",
      "metadata": {
        "id": "c4O-evPic0IP",
        "colab_type": "code",
        "colab": {
          "base_uri": "https://localhost:8080/",
          "height": 235
        },
        "outputId": "f38909c7-50f1-43f6-eecc-0e204ad12ca0"
      },
      "source": [
        "ld.dtypes"
      ],
      "execution_count": null,
      "outputs": [
        {
          "output_type": "execute_result",
          "data": {
            "text/plain": [
              "Amount.Requested                  float64\n",
              "Interest.Rate                     float64\n",
              "Loan.Length                        object\n",
              "Loan.Purpose                       object\n",
              "Debt.To.Income.Ratio              float64\n",
              "Home.Ownership                     object\n",
              "Monthly.Income                    float64\n",
              "FICO.Range                         object\n",
              "Open.CREDIT.Lines                 float64\n",
              "Revolving.CREDIT.Balance          float64\n",
              "Inquiries.in.the.Last.6.Months    float64\n",
              "Employment.Length                   int64\n",
              "dtype: object"
            ]
          },
          "metadata": {
            "tags": []
          },
          "execution_count": 37
        }
      ]
    },
    {
      "cell_type": "markdown",
      "metadata": {
        "colab_type": "text",
        "id": "XxbWmDQF8quO"
      },
      "source": [
        "- Next we will preprocess **Loan.Length** column to have **numerical** values instead of **string** values."
      ]
    },
    {
      "cell_type": "code",
      "metadata": {
        "colab_type": "code",
        "id": "JwNbfGOY8quP",
        "colab": {
          "base_uri": "https://localhost:8080/",
          "height": 84
        },
        "outputId": "2dec7e03-fb50-4acb-f7f9-83035d78fc99"
      },
      "source": [
        "# Checking the different unique values in the Loan.Length column.\n",
        "\n",
        "ld['Loan.Length'].value_counts()"
      ],
      "execution_count": null,
      "outputs": [
        {
          "output_type": "execute_result",
          "data": {
            "text/plain": [
              "36 months    1859\n",
              "60 months     535\n",
              ".               1\n",
              "Name: Loan.Length, dtype: int64"
            ]
          },
          "metadata": {
            "tags": []
          },
          "execution_count": 38
        }
      ]
    },
    {
      "cell_type": "code",
      "metadata": {
        "colab_type": "code",
        "id": "LU8A-sQc8quT",
        "colab": {
          "base_uri": "https://localhost:8080/",
          "height": 97
        },
        "outputId": "0a8eb11c-e72a-4418-d633-9a391391dce4"
      },
      "source": [
        "ld[ld['Loan.Length'] == '.']"
      ],
      "execution_count": null,
      "outputs": [
        {
          "output_type": "execute_result",
          "data": {
            "text/html": [
              "<div>\n",
              "<style scoped>\n",
              "    .dataframe tbody tr th:only-of-type {\n",
              "        vertical-align: middle;\n",
              "    }\n",
              "\n",
              "    .dataframe tbody tr th {\n",
              "        vertical-align: top;\n",
              "    }\n",
              "\n",
              "    .dataframe thead th {\n",
              "        text-align: right;\n",
              "    }\n",
              "</style>\n",
              "<table border=\"1\" class=\"dataframe\">\n",
              "  <thead>\n",
              "    <tr style=\"text-align: right;\">\n",
              "      <th></th>\n",
              "      <th>Amount.Requested</th>\n",
              "      <th>Interest.Rate</th>\n",
              "      <th>Loan.Length</th>\n",
              "      <th>Loan.Purpose</th>\n",
              "      <th>Debt.To.Income.Ratio</th>\n",
              "      <th>Home.Ownership</th>\n",
              "      <th>Monthly.Income</th>\n",
              "      <th>FICO.Range</th>\n",
              "      <th>Open.CREDIT.Lines</th>\n",
              "      <th>Revolving.CREDIT.Balance</th>\n",
              "      <th>Inquiries.in.the.Last.6.Months</th>\n",
              "      <th>Employment.Length</th>\n",
              "    </tr>\n",
              "  </thead>\n",
              "  <tbody>\n",
              "    <tr>\n",
              "      <th>57</th>\n",
              "      <td>13500.0</td>\n",
              "      <td>14.33</td>\n",
              "      <td>.</td>\n",
              "      <td>debt_consolidation</td>\n",
              "      <td>31.7</td>\n",
              "      <td>RENT</td>\n",
              "      <td>4166.67</td>\n",
              "      <td>680-684</td>\n",
              "      <td>11.0</td>\n",
              "      <td>31168.0</td>\n",
              "      <td>0.0</td>\n",
              "      <td>1</td>\n",
              "    </tr>\n",
              "  </tbody>\n",
              "</table>\n",
              "</div>"
            ],
            "text/plain": [
              "    Amount.Requested  ...  Employment.Length\n",
              "57           13500.0  ...                  1\n",
              "\n",
              "[1 rows x 12 columns]"
            ]
          },
          "metadata": {
            "tags": []
          },
          "execution_count": 39
        }
      ]
    },
    {
      "cell_type": "code",
      "metadata": {
        "colab_type": "code",
        "id": "AhoXnjIe8quc",
        "colab": {}
      },
      "source": [
        "# Replacing the '.' value from the Loan.Length column with the mode value of '36 months'.\n",
        " \n",
        "ld.iloc[57,2] = '36 months'"
      ],
      "execution_count": null,
      "outputs": []
    },
    {
      "cell_type": "code",
      "metadata": {
        "colab_type": "code",
        "id": "G8UJju3_8quj",
        "colab": {
          "base_uri": "https://localhost:8080/",
          "height": 67
        },
        "outputId": "144bfd23-0a7a-4f71-8fce-75490e9bdf91"
      },
      "source": [
        "ld['Loan.Length'].value_counts()"
      ],
      "execution_count": null,
      "outputs": [
        {
          "output_type": "execute_result",
          "data": {
            "text/plain": [
              "36 months    1860\n",
              "60 months     535\n",
              "Name: Loan.Length, dtype: int64"
            ]
          },
          "metadata": {
            "tags": []
          },
          "execution_count": 41
        }
      ]
    },
    {
      "cell_type": "code",
      "metadata": {
        "colab_type": "code",
        "id": "7TSPUpAZ8qum",
        "colab": {}
      },
      "source": [
        "# Removing the 'months' word from the Loan.Length column and converting to float datatype.\n",
        "\n",
        "ld['Loan.Length'] = ld['Loan.Length'].str.replace(' months', '').astype(int)"
      ],
      "execution_count": null,
      "outputs": []
    },
    {
      "cell_type": "code",
      "metadata": {
        "colab_type": "code",
        "id": "ctZlnRRL8qun",
        "colab": {
          "base_uri": "https://localhost:8080/",
          "height": 215
        },
        "outputId": "35286d74-aafe-4b3d-fb2d-0f751620f65c"
      },
      "source": [
        "ld.head()"
      ],
      "execution_count": null,
      "outputs": [
        {
          "output_type": "execute_result",
          "data": {
            "text/html": [
              "<div>\n",
              "<style scoped>\n",
              "    .dataframe tbody tr th:only-of-type {\n",
              "        vertical-align: middle;\n",
              "    }\n",
              "\n",
              "    .dataframe tbody tr th {\n",
              "        vertical-align: top;\n",
              "    }\n",
              "\n",
              "    .dataframe thead th {\n",
              "        text-align: right;\n",
              "    }\n",
              "</style>\n",
              "<table border=\"1\" class=\"dataframe\">\n",
              "  <thead>\n",
              "    <tr style=\"text-align: right;\">\n",
              "      <th></th>\n",
              "      <th>Amount.Requested</th>\n",
              "      <th>Interest.Rate</th>\n",
              "      <th>Loan.Length</th>\n",
              "      <th>Loan.Purpose</th>\n",
              "      <th>Debt.To.Income.Ratio</th>\n",
              "      <th>Home.Ownership</th>\n",
              "      <th>Monthly.Income</th>\n",
              "      <th>FICO.Range</th>\n",
              "      <th>Open.CREDIT.Lines</th>\n",
              "      <th>Revolving.CREDIT.Balance</th>\n",
              "      <th>Inquiries.in.the.Last.6.Months</th>\n",
              "      <th>Employment.Length</th>\n",
              "    </tr>\n",
              "  </thead>\n",
              "  <tbody>\n",
              "    <tr>\n",
              "      <th>0</th>\n",
              "      <td>20000.0</td>\n",
              "      <td>8.90</td>\n",
              "      <td>36</td>\n",
              "      <td>debt_consolidation</td>\n",
              "      <td>14.90</td>\n",
              "      <td>MORTGAGE</td>\n",
              "      <td>6541.67</td>\n",
              "      <td>735-739</td>\n",
              "      <td>14.0</td>\n",
              "      <td>14272.0</td>\n",
              "      <td>2.0</td>\n",
              "      <td>0</td>\n",
              "    </tr>\n",
              "    <tr>\n",
              "      <th>1</th>\n",
              "      <td>19200.0</td>\n",
              "      <td>12.12</td>\n",
              "      <td>36</td>\n",
              "      <td>debt_consolidation</td>\n",
              "      <td>28.36</td>\n",
              "      <td>MORTGAGE</td>\n",
              "      <td>4583.33</td>\n",
              "      <td>715-719</td>\n",
              "      <td>12.0</td>\n",
              "      <td>11140.0</td>\n",
              "      <td>1.0</td>\n",
              "      <td>2</td>\n",
              "    </tr>\n",
              "    <tr>\n",
              "      <th>2</th>\n",
              "      <td>35000.0</td>\n",
              "      <td>21.98</td>\n",
              "      <td>60</td>\n",
              "      <td>debt_consolidation</td>\n",
              "      <td>23.81</td>\n",
              "      <td>MORTGAGE</td>\n",
              "      <td>11500.00</td>\n",
              "      <td>690-694</td>\n",
              "      <td>14.0</td>\n",
              "      <td>21977.0</td>\n",
              "      <td>1.0</td>\n",
              "      <td>2</td>\n",
              "    </tr>\n",
              "    <tr>\n",
              "      <th>3</th>\n",
              "      <td>10000.0</td>\n",
              "      <td>9.99</td>\n",
              "      <td>36</td>\n",
              "      <td>debt_consolidation</td>\n",
              "      <td>14.30</td>\n",
              "      <td>MORTGAGE</td>\n",
              "      <td>3833.33</td>\n",
              "      <td>695-699</td>\n",
              "      <td>10.0</td>\n",
              "      <td>9346.0</td>\n",
              "      <td>0.0</td>\n",
              "      <td>5</td>\n",
              "    </tr>\n",
              "    <tr>\n",
              "      <th>4</th>\n",
              "      <td>12000.0</td>\n",
              "      <td>11.71</td>\n",
              "      <td>36</td>\n",
              "      <td>credit_card</td>\n",
              "      <td>18.78</td>\n",
              "      <td>RENT</td>\n",
              "      <td>3195.00</td>\n",
              "      <td>695-699</td>\n",
              "      <td>11.0</td>\n",
              "      <td>14469.0</td>\n",
              "      <td>0.0</td>\n",
              "      <td>9</td>\n",
              "    </tr>\n",
              "  </tbody>\n",
              "</table>\n",
              "</div>"
            ],
            "text/plain": [
              "   Amount.Requested  ...  Employment.Length\n",
              "0           20000.0  ...                  0\n",
              "1           19200.0  ...                  2\n",
              "2           35000.0  ...                  2\n",
              "3           10000.0  ...                  5\n",
              "4           12000.0  ...                  9\n",
              "\n",
              "[5 rows x 12 columns]"
            ]
          },
          "metadata": {
            "tags": []
          },
          "execution_count": 43
        }
      ]
    },
    {
      "cell_type": "code",
      "metadata": {
        "id": "yldsgrMgaoRw",
        "colab_type": "code",
        "colab": {
          "base_uri": "https://localhost:8080/",
          "height": 235
        },
        "outputId": "c5928bca-18ac-4db4-c2a5-f11255b66b00"
      },
      "source": [
        "ld.dtypes"
      ],
      "execution_count": null,
      "outputs": [
        {
          "output_type": "execute_result",
          "data": {
            "text/plain": [
              "Amount.Requested                  float64\n",
              "Interest.Rate                     float64\n",
              "Loan.Length                         int64\n",
              "Loan.Purpose                       object\n",
              "Debt.To.Income.Ratio              float64\n",
              "Home.Ownership                     object\n",
              "Monthly.Income                    float64\n",
              "FICO.Range                         object\n",
              "Open.CREDIT.Lines                 float64\n",
              "Revolving.CREDIT.Balance          float64\n",
              "Inquiries.in.the.Last.6.Months    float64\n",
              "Employment.Length                   int64\n",
              "dtype: object"
            ]
          },
          "metadata": {
            "tags": []
          },
          "execution_count": 44
        }
      ]
    },
    {
      "cell_type": "markdown",
      "metadata": {
        "colab_type": "text",
        "id": "Ij5GPPn-8qup"
      },
      "source": [
        "- Next we examine variable **Loan.Purpose**."
      ]
    },
    {
      "cell_type": "code",
      "metadata": {
        "colab_type": "code",
        "id": "bmPGq_9R8quq",
        "colab": {
          "base_uri": "https://localhost:8080/",
          "height": 269
        },
        "outputId": "d8bf55ce-53b6-4b88-d67a-702afccb56fa"
      },
      "source": [
        "ld['Loan.Purpose'].value_counts()"
      ],
      "execution_count": null,
      "outputs": [
        {
          "output_type": "execute_result",
          "data": {
            "text/plain": [
              "debt_consolidation    1263\n",
              "credit_card            426\n",
              "other                  182\n",
              "home_improvement       143\n",
              "major_purchase          98\n",
              "small_business          82\n",
              "car                     49\n",
              "wedding                 38\n",
              "medical                 28\n",
              "moving                  28\n",
              "vacation                20\n",
              "house                   20\n",
              "educational             14\n",
              "renewable_energy         4\n",
              "Name: Loan.Purpose, dtype: int64"
            ]
          },
          "metadata": {
            "tags": []
          },
          "execution_count": 45
        }
      ]
    },
    {
      "cell_type": "markdown",
      "metadata": {
        "colab_type": "text",
        "id": "X-QB8c3w8qut"
      },
      "source": [
        "- There are **14 categories** in that variable, we can either make 13 dummies or we can club these categories together and reduce the number of effective categories and then make dummy variables for those.\n",
        "\n",
        "\n",
        "- It makes sense to **club those categories** which behave similarly in terms of their effect on response or in other words, we can **club those categories** for which **average interest rates** are **similar** in the data."
      ]
    },
    {
      "cell_type": "code",
      "metadata": {
        "id": "Ljs9rJ-TRp1U",
        "colab_type": "code",
        "colab": {
          "base_uri": "https://localhost:8080/",
          "height": 286
        },
        "outputId": "b648cdb5-c4bb-45bf-b8fa-63083901dfbc"
      },
      "source": [
        "round(ld.groupby('Loan.Purpose')['Interest.Rate'].mean())"
      ],
      "execution_count": null,
      "outputs": [
        {
          "output_type": "execute_result",
          "data": {
            "text/plain": [
              "Loan.Purpose\n",
              "car                   11.0\n",
              "credit_card           13.0\n",
              "debt_consolidation    14.0\n",
              "educational           11.0\n",
              "home_improvement      12.0\n",
              "house                 13.0\n",
              "major_purchase        11.0\n",
              "medical               12.0\n",
              "moving                14.0\n",
              "other                 13.0\n",
              "renewable_energy      10.0\n",
              "small_business        13.0\n",
              "vacation              12.0\n",
              "wedding               12.0\n",
              "Name: Interest.Rate, dtype: float64"
            ]
          },
          "metadata": {
            "tags": []
          },
          "execution_count": 46
        }
      ]
    },
    {
      "cell_type": "code",
      "metadata": {
        "id": "woQ8QSQBjKuR",
        "colab_type": "code",
        "colab": {}
      },
      "source": [
        "# Creating a dictionary to encode all the different values in Loan.Purpose column to numerical values.\n",
        "\n",
        "lp_encoding = {'renewable_energy':0,\n",
        "               'car':1, 'educational':1, 'major_purchase':1, \n",
        "               'home_improvement':2, 'medical':2, 'vacation':2, 'wedding':2,\n",
        "               'credit_card':3, 'house':3, 'other':3, 'small_business':3,\n",
        "               'debt_consolidation':4, 'moving':4}"
      ],
      "execution_count": null,
      "outputs": []
    },
    {
      "cell_type": "code",
      "metadata": {
        "id": "FBCHCmUwjN-C",
        "colab_type": "code",
        "colab": {
          "base_uri": "https://localhost:8080/",
          "height": 215
        },
        "outputId": "77a283b5-d8e2-4ddf-e7d9-160e5024c351"
      },
      "source": [
        "# Using the map function to apply the numerical values to the Loan.Purpose column.\n",
        "\n",
        "ld['Loan.Purpose'] = ld['Loan.Purpose'].map(lp_encoding)\n",
        "ld.head()"
      ],
      "execution_count": null,
      "outputs": [
        {
          "output_type": "execute_result",
          "data": {
            "text/html": [
              "<div>\n",
              "<style scoped>\n",
              "    .dataframe tbody tr th:only-of-type {\n",
              "        vertical-align: middle;\n",
              "    }\n",
              "\n",
              "    .dataframe tbody tr th {\n",
              "        vertical-align: top;\n",
              "    }\n",
              "\n",
              "    .dataframe thead th {\n",
              "        text-align: right;\n",
              "    }\n",
              "</style>\n",
              "<table border=\"1\" class=\"dataframe\">\n",
              "  <thead>\n",
              "    <tr style=\"text-align: right;\">\n",
              "      <th></th>\n",
              "      <th>Amount.Requested</th>\n",
              "      <th>Interest.Rate</th>\n",
              "      <th>Loan.Length</th>\n",
              "      <th>Loan.Purpose</th>\n",
              "      <th>Debt.To.Income.Ratio</th>\n",
              "      <th>Home.Ownership</th>\n",
              "      <th>Monthly.Income</th>\n",
              "      <th>FICO.Range</th>\n",
              "      <th>Open.CREDIT.Lines</th>\n",
              "      <th>Revolving.CREDIT.Balance</th>\n",
              "      <th>Inquiries.in.the.Last.6.Months</th>\n",
              "      <th>Employment.Length</th>\n",
              "    </tr>\n",
              "  </thead>\n",
              "  <tbody>\n",
              "    <tr>\n",
              "      <th>0</th>\n",
              "      <td>20000.0</td>\n",
              "      <td>8.90</td>\n",
              "      <td>36</td>\n",
              "      <td>4</td>\n",
              "      <td>14.90</td>\n",
              "      <td>MORTGAGE</td>\n",
              "      <td>6541.67</td>\n",
              "      <td>735-739</td>\n",
              "      <td>14.0</td>\n",
              "      <td>14272.0</td>\n",
              "      <td>2.0</td>\n",
              "      <td>0</td>\n",
              "    </tr>\n",
              "    <tr>\n",
              "      <th>1</th>\n",
              "      <td>19200.0</td>\n",
              "      <td>12.12</td>\n",
              "      <td>36</td>\n",
              "      <td>4</td>\n",
              "      <td>28.36</td>\n",
              "      <td>MORTGAGE</td>\n",
              "      <td>4583.33</td>\n",
              "      <td>715-719</td>\n",
              "      <td>12.0</td>\n",
              "      <td>11140.0</td>\n",
              "      <td>1.0</td>\n",
              "      <td>2</td>\n",
              "    </tr>\n",
              "    <tr>\n",
              "      <th>2</th>\n",
              "      <td>35000.0</td>\n",
              "      <td>21.98</td>\n",
              "      <td>60</td>\n",
              "      <td>4</td>\n",
              "      <td>23.81</td>\n",
              "      <td>MORTGAGE</td>\n",
              "      <td>11500.00</td>\n",
              "      <td>690-694</td>\n",
              "      <td>14.0</td>\n",
              "      <td>21977.0</td>\n",
              "      <td>1.0</td>\n",
              "      <td>2</td>\n",
              "    </tr>\n",
              "    <tr>\n",
              "      <th>3</th>\n",
              "      <td>10000.0</td>\n",
              "      <td>9.99</td>\n",
              "      <td>36</td>\n",
              "      <td>4</td>\n",
              "      <td>14.30</td>\n",
              "      <td>MORTGAGE</td>\n",
              "      <td>3833.33</td>\n",
              "      <td>695-699</td>\n",
              "      <td>10.0</td>\n",
              "      <td>9346.0</td>\n",
              "      <td>0.0</td>\n",
              "      <td>5</td>\n",
              "    </tr>\n",
              "    <tr>\n",
              "      <th>4</th>\n",
              "      <td>12000.0</td>\n",
              "      <td>11.71</td>\n",
              "      <td>36</td>\n",
              "      <td>3</td>\n",
              "      <td>18.78</td>\n",
              "      <td>RENT</td>\n",
              "      <td>3195.00</td>\n",
              "      <td>695-699</td>\n",
              "      <td>11.0</td>\n",
              "      <td>14469.0</td>\n",
              "      <td>0.0</td>\n",
              "      <td>9</td>\n",
              "    </tr>\n",
              "  </tbody>\n",
              "</table>\n",
              "</div>"
            ],
            "text/plain": [
              "   Amount.Requested  ...  Employment.Length\n",
              "0           20000.0  ...                  0\n",
              "1           19200.0  ...                  2\n",
              "2           35000.0  ...                  2\n",
              "3           10000.0  ...                  5\n",
              "4           12000.0  ...                  9\n",
              "\n",
              "[5 rows x 12 columns]"
            ]
          },
          "metadata": {
            "tags": []
          },
          "execution_count": 48
        }
      ]
    },
    {
      "cell_type": "code",
      "metadata": {
        "id": "VebrZ4-QjuUQ",
        "colab_type": "code",
        "colab": {}
      },
      "source": [
        "# Using pandas get_dummies function to create dummy variables for the 5 different categories of Loan.Purpose column.\n",
        "# Using drop_first=True will automatically drop the first column of the dummy variables dataframe. (We'll get only 4 columns)\n",
        "# We drop one column from the dummy variables in order to avoid multicollinearity.\n",
        "\n",
        "lp_dummies = pd.get_dummies(ld['Loan.Purpose'], prefix = 'LP', drop_first=True)"
      ],
      "execution_count": null,
      "outputs": []
    },
    {
      "cell_type": "code",
      "metadata": {
        "id": "IO4j7_NXurae",
        "colab_type": "code",
        "colab": {
          "base_uri": "https://localhost:8080/",
          "height": 195
        },
        "outputId": "d2388ed5-91db-4578-c81e-1047e6953073"
      },
      "source": [
        "lp_dummies.head()"
      ],
      "execution_count": null,
      "outputs": [
        {
          "output_type": "execute_result",
          "data": {
            "text/html": [
              "<div>\n",
              "<style scoped>\n",
              "    .dataframe tbody tr th:only-of-type {\n",
              "        vertical-align: middle;\n",
              "    }\n",
              "\n",
              "    .dataframe tbody tr th {\n",
              "        vertical-align: top;\n",
              "    }\n",
              "\n",
              "    .dataframe thead th {\n",
              "        text-align: right;\n",
              "    }\n",
              "</style>\n",
              "<table border=\"1\" class=\"dataframe\">\n",
              "  <thead>\n",
              "    <tr style=\"text-align: right;\">\n",
              "      <th></th>\n",
              "      <th>LP_1</th>\n",
              "      <th>LP_2</th>\n",
              "      <th>LP_3</th>\n",
              "      <th>LP_4</th>\n",
              "    </tr>\n",
              "  </thead>\n",
              "  <tbody>\n",
              "    <tr>\n",
              "      <th>0</th>\n",
              "      <td>0</td>\n",
              "      <td>0</td>\n",
              "      <td>0</td>\n",
              "      <td>1</td>\n",
              "    </tr>\n",
              "    <tr>\n",
              "      <th>1</th>\n",
              "      <td>0</td>\n",
              "      <td>0</td>\n",
              "      <td>0</td>\n",
              "      <td>1</td>\n",
              "    </tr>\n",
              "    <tr>\n",
              "      <th>2</th>\n",
              "      <td>0</td>\n",
              "      <td>0</td>\n",
              "      <td>0</td>\n",
              "      <td>1</td>\n",
              "    </tr>\n",
              "    <tr>\n",
              "      <th>3</th>\n",
              "      <td>0</td>\n",
              "      <td>0</td>\n",
              "      <td>0</td>\n",
              "      <td>1</td>\n",
              "    </tr>\n",
              "    <tr>\n",
              "      <th>4</th>\n",
              "      <td>0</td>\n",
              "      <td>0</td>\n",
              "      <td>1</td>\n",
              "      <td>0</td>\n",
              "    </tr>\n",
              "  </tbody>\n",
              "</table>\n",
              "</div>"
            ],
            "text/plain": [
              "   LP_1  LP_2  LP_3  LP_4\n",
              "0     0     0     0     1\n",
              "1     0     0     0     1\n",
              "2     0     0     0     1\n",
              "3     0     0     0     1\n",
              "4     0     0     1     0"
            ]
          },
          "metadata": {
            "tags": []
          },
          "execution_count": 54
        }
      ]
    },
    {
      "cell_type": "markdown",
      "metadata": {
        "colab_type": "text",
        "id": "f9tV6aM28qu5"
      },
      "source": [
        "- We'll add this **dummy variable dataframe** to the original dataset. And then drop the original variable **Loan.Purpose**. <br>"
      ]
    },
    {
      "cell_type": "code",
      "metadata": {
        "id": "uF0cScEhvIPi",
        "colab_type": "code",
        "colab": {}
      },
      "source": [
        "# Concatenating the dummy variables into the dataset.\n",
        "\n",
        "ld = pd.concat([ld,lp_dummies], 1)\n",
        "\n",
        "# Dropping the Loan.Purpose column.\n",
        "\n",
        "ld.drop(['Loan.Purpose'], 1, inplace=True)"
      ],
      "execution_count": null,
      "outputs": []
    },
    {
      "cell_type": "code",
      "metadata": {
        "id": "ysUBf1nJt5wu",
        "colab_type": "code",
        "colab": {
          "base_uri": "https://localhost:8080/",
          "height": 215
        },
        "outputId": "14d8b7d7-be49-482d-ccfd-5434d6acf8b8"
      },
      "source": [
        "ld.head()"
      ],
      "execution_count": null,
      "outputs": [
        {
          "output_type": "execute_result",
          "data": {
            "text/html": [
              "<div>\n",
              "<style scoped>\n",
              "    .dataframe tbody tr th:only-of-type {\n",
              "        vertical-align: middle;\n",
              "    }\n",
              "\n",
              "    .dataframe tbody tr th {\n",
              "        vertical-align: top;\n",
              "    }\n",
              "\n",
              "    .dataframe thead th {\n",
              "        text-align: right;\n",
              "    }\n",
              "</style>\n",
              "<table border=\"1\" class=\"dataframe\">\n",
              "  <thead>\n",
              "    <tr style=\"text-align: right;\">\n",
              "      <th></th>\n",
              "      <th>Amount.Requested</th>\n",
              "      <th>Interest.Rate</th>\n",
              "      <th>Loan.Length</th>\n",
              "      <th>Debt.To.Income.Ratio</th>\n",
              "      <th>Home.Ownership</th>\n",
              "      <th>Monthly.Income</th>\n",
              "      <th>FICO.Range</th>\n",
              "      <th>Open.CREDIT.Lines</th>\n",
              "      <th>Revolving.CREDIT.Balance</th>\n",
              "      <th>Inquiries.in.the.Last.6.Months</th>\n",
              "      <th>Employment.Length</th>\n",
              "      <th>LP_1</th>\n",
              "      <th>LP_2</th>\n",
              "      <th>LP_3</th>\n",
              "      <th>LP_4</th>\n",
              "    </tr>\n",
              "  </thead>\n",
              "  <tbody>\n",
              "    <tr>\n",
              "      <th>0</th>\n",
              "      <td>20000.0</td>\n",
              "      <td>8.90</td>\n",
              "      <td>36</td>\n",
              "      <td>14.90</td>\n",
              "      <td>MORTGAGE</td>\n",
              "      <td>6541.67</td>\n",
              "      <td>735-739</td>\n",
              "      <td>14.0</td>\n",
              "      <td>14272.0</td>\n",
              "      <td>2.0</td>\n",
              "      <td>0</td>\n",
              "      <td>0</td>\n",
              "      <td>0</td>\n",
              "      <td>0</td>\n",
              "      <td>1</td>\n",
              "    </tr>\n",
              "    <tr>\n",
              "      <th>1</th>\n",
              "      <td>19200.0</td>\n",
              "      <td>12.12</td>\n",
              "      <td>36</td>\n",
              "      <td>28.36</td>\n",
              "      <td>MORTGAGE</td>\n",
              "      <td>4583.33</td>\n",
              "      <td>715-719</td>\n",
              "      <td>12.0</td>\n",
              "      <td>11140.0</td>\n",
              "      <td>1.0</td>\n",
              "      <td>2</td>\n",
              "      <td>0</td>\n",
              "      <td>0</td>\n",
              "      <td>0</td>\n",
              "      <td>1</td>\n",
              "    </tr>\n",
              "    <tr>\n",
              "      <th>2</th>\n",
              "      <td>35000.0</td>\n",
              "      <td>21.98</td>\n",
              "      <td>60</td>\n",
              "      <td>23.81</td>\n",
              "      <td>MORTGAGE</td>\n",
              "      <td>11500.00</td>\n",
              "      <td>690-694</td>\n",
              "      <td>14.0</td>\n",
              "      <td>21977.0</td>\n",
              "      <td>1.0</td>\n",
              "      <td>2</td>\n",
              "      <td>0</td>\n",
              "      <td>0</td>\n",
              "      <td>0</td>\n",
              "      <td>1</td>\n",
              "    </tr>\n",
              "    <tr>\n",
              "      <th>3</th>\n",
              "      <td>10000.0</td>\n",
              "      <td>9.99</td>\n",
              "      <td>36</td>\n",
              "      <td>14.30</td>\n",
              "      <td>MORTGAGE</td>\n",
              "      <td>3833.33</td>\n",
              "      <td>695-699</td>\n",
              "      <td>10.0</td>\n",
              "      <td>9346.0</td>\n",
              "      <td>0.0</td>\n",
              "      <td>5</td>\n",
              "      <td>0</td>\n",
              "      <td>0</td>\n",
              "      <td>0</td>\n",
              "      <td>1</td>\n",
              "    </tr>\n",
              "    <tr>\n",
              "      <th>4</th>\n",
              "      <td>12000.0</td>\n",
              "      <td>11.71</td>\n",
              "      <td>36</td>\n",
              "      <td>18.78</td>\n",
              "      <td>RENT</td>\n",
              "      <td>3195.00</td>\n",
              "      <td>695-699</td>\n",
              "      <td>11.0</td>\n",
              "      <td>14469.0</td>\n",
              "      <td>0.0</td>\n",
              "      <td>9</td>\n",
              "      <td>0</td>\n",
              "      <td>0</td>\n",
              "      <td>1</td>\n",
              "      <td>0</td>\n",
              "    </tr>\n",
              "  </tbody>\n",
              "</table>\n",
              "</div>"
            ],
            "text/plain": [
              "   Amount.Requested  Interest.Rate  Loan.Length  ...  LP_2 LP_3  LP_4\n",
              "0           20000.0           8.90           36  ...     0    0     1\n",
              "1           19200.0          12.12           36  ...     0    0     1\n",
              "2           35000.0          21.98           60  ...     0    0     1\n",
              "3           10000.0           9.99           36  ...     0    0     1\n",
              "4           12000.0          11.71           36  ...     0    1     0\n",
              "\n",
              "[5 rows x 15 columns]"
            ]
          },
          "metadata": {
            "tags": []
          },
          "execution_count": 62
        }
      ]
    },
    {
      "cell_type": "markdown",
      "metadata": {
        "colab_type": "text",
        "id": "g1mDn_M98quw"
      },
      "source": [
        "- We can see from the table above that there are **5 different categories** in the data. Lets club them."
      ]
    },
    {
      "cell_type": "markdown",
      "metadata": {
        "colab_type": "text",
        "id": "BeoSMXuL8qu7"
      },
      "source": [
        "- Next we take care of variable **Home.Ownership**."
      ]
    },
    {
      "cell_type": "code",
      "metadata": {
        "colab_type": "code",
        "id": "fsGG_-ih8qu8",
        "colab": {
          "base_uri": "https://localhost:8080/",
          "height": 101
        },
        "outputId": "7c2bb279-71dc-48a9-a579-9f4f7f616377"
      },
      "source": [
        "ld['Home.Ownership'].value_counts()"
      ],
      "execution_count": null,
      "outputs": [
        {
          "output_type": "execute_result",
          "data": {
            "text/plain": [
              "RENT        1105\n",
              "MORTGAGE    1098\n",
              "OWN          187\n",
              "OTHER          5\n",
              "Name: Home.Ownership, dtype: int64"
            ]
          },
          "metadata": {
            "tags": []
          },
          "execution_count": 63
        }
      ]
    },
    {
      "cell_type": "code",
      "metadata": {
        "colab_type": "code",
        "id": "Bv9RdmV98qu_",
        "colab": {}
      },
      "source": [
        "# Creating two new columns representing the values MORTGAGE and RENT from the Home.Ownership column.\n",
        "\n",
        "ld['ho_mort'] = np.where(ld['Home.Ownership'] == 'MORTGAGE', 1, 0)\n",
        "ld['ho_rent'] = np.where(ld['Home.Ownership'] == 'RENT', 1, 0)\n",
        "\n",
        "# Dropping the Home.Ownership column.\n",
        "\n",
        "ld.drop(['Home.Ownership'], 1, inplace=True)"
      ],
      "execution_count": null,
      "outputs": []
    },
    {
      "cell_type": "code",
      "metadata": {
        "id": "xOEEbukCuL8j",
        "colab_type": "code",
        "colab": {
          "base_uri": "https://localhost:8080/",
          "height": 215
        },
        "outputId": "fa2bc2f4-f641-400e-d795-7e8331ca4381"
      },
      "source": [
        "ld.head()"
      ],
      "execution_count": null,
      "outputs": [
        {
          "output_type": "execute_result",
          "data": {
            "text/html": [
              "<div>\n",
              "<style scoped>\n",
              "    .dataframe tbody tr th:only-of-type {\n",
              "        vertical-align: middle;\n",
              "    }\n",
              "\n",
              "    .dataframe tbody tr th {\n",
              "        vertical-align: top;\n",
              "    }\n",
              "\n",
              "    .dataframe thead th {\n",
              "        text-align: right;\n",
              "    }\n",
              "</style>\n",
              "<table border=\"1\" class=\"dataframe\">\n",
              "  <thead>\n",
              "    <tr style=\"text-align: right;\">\n",
              "      <th></th>\n",
              "      <th>Amount.Requested</th>\n",
              "      <th>Interest.Rate</th>\n",
              "      <th>Loan.Length</th>\n",
              "      <th>Debt.To.Income.Ratio</th>\n",
              "      <th>Monthly.Income</th>\n",
              "      <th>FICO.Range</th>\n",
              "      <th>Open.CREDIT.Lines</th>\n",
              "      <th>Revolving.CREDIT.Balance</th>\n",
              "      <th>Inquiries.in.the.Last.6.Months</th>\n",
              "      <th>Employment.Length</th>\n",
              "      <th>LP_1</th>\n",
              "      <th>LP_2</th>\n",
              "      <th>LP_3</th>\n",
              "      <th>LP_4</th>\n",
              "      <th>ho_mort</th>\n",
              "      <th>ho_rent</th>\n",
              "    </tr>\n",
              "  </thead>\n",
              "  <tbody>\n",
              "    <tr>\n",
              "      <th>0</th>\n",
              "      <td>20000.0</td>\n",
              "      <td>8.90</td>\n",
              "      <td>36</td>\n",
              "      <td>14.90</td>\n",
              "      <td>6541.67</td>\n",
              "      <td>735-739</td>\n",
              "      <td>14.0</td>\n",
              "      <td>14272.0</td>\n",
              "      <td>2.0</td>\n",
              "      <td>0</td>\n",
              "      <td>0</td>\n",
              "      <td>0</td>\n",
              "      <td>0</td>\n",
              "      <td>1</td>\n",
              "      <td>1</td>\n",
              "      <td>0</td>\n",
              "    </tr>\n",
              "    <tr>\n",
              "      <th>1</th>\n",
              "      <td>19200.0</td>\n",
              "      <td>12.12</td>\n",
              "      <td>36</td>\n",
              "      <td>28.36</td>\n",
              "      <td>4583.33</td>\n",
              "      <td>715-719</td>\n",
              "      <td>12.0</td>\n",
              "      <td>11140.0</td>\n",
              "      <td>1.0</td>\n",
              "      <td>2</td>\n",
              "      <td>0</td>\n",
              "      <td>0</td>\n",
              "      <td>0</td>\n",
              "      <td>1</td>\n",
              "      <td>1</td>\n",
              "      <td>0</td>\n",
              "    </tr>\n",
              "    <tr>\n",
              "      <th>2</th>\n",
              "      <td>35000.0</td>\n",
              "      <td>21.98</td>\n",
              "      <td>60</td>\n",
              "      <td>23.81</td>\n",
              "      <td>11500.00</td>\n",
              "      <td>690-694</td>\n",
              "      <td>14.0</td>\n",
              "      <td>21977.0</td>\n",
              "      <td>1.0</td>\n",
              "      <td>2</td>\n",
              "      <td>0</td>\n",
              "      <td>0</td>\n",
              "      <td>0</td>\n",
              "      <td>1</td>\n",
              "      <td>1</td>\n",
              "      <td>0</td>\n",
              "    </tr>\n",
              "    <tr>\n",
              "      <th>3</th>\n",
              "      <td>10000.0</td>\n",
              "      <td>9.99</td>\n",
              "      <td>36</td>\n",
              "      <td>14.30</td>\n",
              "      <td>3833.33</td>\n",
              "      <td>695-699</td>\n",
              "      <td>10.0</td>\n",
              "      <td>9346.0</td>\n",
              "      <td>0.0</td>\n",
              "      <td>5</td>\n",
              "      <td>0</td>\n",
              "      <td>0</td>\n",
              "      <td>0</td>\n",
              "      <td>1</td>\n",
              "      <td>1</td>\n",
              "      <td>0</td>\n",
              "    </tr>\n",
              "    <tr>\n",
              "      <th>4</th>\n",
              "      <td>12000.0</td>\n",
              "      <td>11.71</td>\n",
              "      <td>36</td>\n",
              "      <td>18.78</td>\n",
              "      <td>3195.00</td>\n",
              "      <td>695-699</td>\n",
              "      <td>11.0</td>\n",
              "      <td>14469.0</td>\n",
              "      <td>0.0</td>\n",
              "      <td>9</td>\n",
              "      <td>0</td>\n",
              "      <td>0</td>\n",
              "      <td>1</td>\n",
              "      <td>0</td>\n",
              "      <td>0</td>\n",
              "      <td>1</td>\n",
              "    </tr>\n",
              "  </tbody>\n",
              "</table>\n",
              "</div>"
            ],
            "text/plain": [
              "   Amount.Requested  Interest.Rate  Loan.Length  ...  LP_4  ho_mort ho_rent\n",
              "0           20000.0           8.90           36  ...     1        1       0\n",
              "1           19200.0          12.12           36  ...     1        1       0\n",
              "2           35000.0          21.98           60  ...     1        1       0\n",
              "3           10000.0           9.99           36  ...     1        1       0\n",
              "4           12000.0          11.71           36  ...     0        0       1\n",
              "\n",
              "[5 rows x 16 columns]"
            ]
          },
          "metadata": {
            "tags": []
          },
          "execution_count": 65
        }
      ]
    },
    {
      "cell_type": "markdown",
      "metadata": {
        "colab_type": "text",
        "id": "IGQtYztg8qvE"
      },
      "source": [
        "- We have ignored the values **OTHER** and **NONE**, and considered that there are only **3 categories** and created **2 dummies**. \n",
        "\n",
        "  - We did this because of very **low frequencies** of **OTHER** and **NONE**.\n",
        "  \n",
        "  - Also the value **OWN** will be represented jointly by the **two new columns**. "
      ]
    },
    {
      "cell_type": "markdown",
      "metadata": {
        "colab_type": "text",
        "id": "3VTF-Sj58qvE"
      },
      "source": [
        "- Preprocessing **FICO.Range** column."
      ]
    },
    {
      "cell_type": "markdown",
      "metadata": {
        "colab_type": "text",
        "id": "cmPBDCfi8qvK"
      },
      "source": [
        "- If you look at first few values of variable **FICO.Range**, you can see that it is present in range, so we are taking the average of the range."
      ]
    },
    {
      "cell_type": "code",
      "metadata": {
        "id": "1LGMUDp_j6dD",
        "colab_type": "code",
        "colab": {}
      },
      "source": [
        "# Using str.extract method to extract the FICO.Range values.\n",
        "# The regular expression extracts digits before and after the '-'.\n",
        "# The str.extract method will give a dataframe having two columns one for the value before '-' and one for the value after '-'.\n",
        "# We can access both these values using their respective column indexes and calculate their mean by converting to int datatype.\n",
        "\n",
        "# Mean of FICO.Range values:\n",
        "\n",
        "ld['fico'] = (ld['FICO.Range'].str.extract('([\\d]+)-([\\d]+)')[0].astype(int) \n",
        "              + ld['FICO.Range'].str.extract('([\\d]+)-([\\d]+)')[1].astype(int)) / 2"
      ],
      "execution_count": null,
      "outputs": []
    },
    {
      "cell_type": "code",
      "metadata": {
        "colab_type": "code",
        "id": "YexPpLqf8qvP",
        "colab": {
          "base_uri": "https://localhost:8080/",
          "height": 215
        },
        "outputId": "d99c51d8-4bbf-42e0-dc26-4038bf202e7a"
      },
      "source": [
        "# Dropping the FICO.Range column.\n",
        "\n",
        "ld.drop(['FICO.Range'], 1, inplace=True)\n",
        "ld.head()"
      ],
      "execution_count": null,
      "outputs": [
        {
          "output_type": "execute_result",
          "data": {
            "text/html": [
              "<div>\n",
              "<style scoped>\n",
              "    .dataframe tbody tr th:only-of-type {\n",
              "        vertical-align: middle;\n",
              "    }\n",
              "\n",
              "    .dataframe tbody tr th {\n",
              "        vertical-align: top;\n",
              "    }\n",
              "\n",
              "    .dataframe thead th {\n",
              "        text-align: right;\n",
              "    }\n",
              "</style>\n",
              "<table border=\"1\" class=\"dataframe\">\n",
              "  <thead>\n",
              "    <tr style=\"text-align: right;\">\n",
              "      <th></th>\n",
              "      <th>Amount.Requested</th>\n",
              "      <th>Interest.Rate</th>\n",
              "      <th>Loan.Length</th>\n",
              "      <th>Debt.To.Income.Ratio</th>\n",
              "      <th>Monthly.Income</th>\n",
              "      <th>Open.CREDIT.Lines</th>\n",
              "      <th>Revolving.CREDIT.Balance</th>\n",
              "      <th>Inquiries.in.the.Last.6.Months</th>\n",
              "      <th>Employment.Length</th>\n",
              "      <th>LP_1</th>\n",
              "      <th>LP_2</th>\n",
              "      <th>LP_3</th>\n",
              "      <th>LP_4</th>\n",
              "      <th>ho_mort</th>\n",
              "      <th>ho_rent</th>\n",
              "      <th>fico</th>\n",
              "    </tr>\n",
              "  </thead>\n",
              "  <tbody>\n",
              "    <tr>\n",
              "      <th>0</th>\n",
              "      <td>20000.0</td>\n",
              "      <td>8.90</td>\n",
              "      <td>36</td>\n",
              "      <td>14.90</td>\n",
              "      <td>6541.67</td>\n",
              "      <td>14.0</td>\n",
              "      <td>14272.0</td>\n",
              "      <td>2.0</td>\n",
              "      <td>0</td>\n",
              "      <td>0</td>\n",
              "      <td>0</td>\n",
              "      <td>0</td>\n",
              "      <td>1</td>\n",
              "      <td>1</td>\n",
              "      <td>0</td>\n",
              "      <td>737.0</td>\n",
              "    </tr>\n",
              "    <tr>\n",
              "      <th>1</th>\n",
              "      <td>19200.0</td>\n",
              "      <td>12.12</td>\n",
              "      <td>36</td>\n",
              "      <td>28.36</td>\n",
              "      <td>4583.33</td>\n",
              "      <td>12.0</td>\n",
              "      <td>11140.0</td>\n",
              "      <td>1.0</td>\n",
              "      <td>2</td>\n",
              "      <td>0</td>\n",
              "      <td>0</td>\n",
              "      <td>0</td>\n",
              "      <td>1</td>\n",
              "      <td>1</td>\n",
              "      <td>0</td>\n",
              "      <td>717.0</td>\n",
              "    </tr>\n",
              "    <tr>\n",
              "      <th>2</th>\n",
              "      <td>35000.0</td>\n",
              "      <td>21.98</td>\n",
              "      <td>60</td>\n",
              "      <td>23.81</td>\n",
              "      <td>11500.00</td>\n",
              "      <td>14.0</td>\n",
              "      <td>21977.0</td>\n",
              "      <td>1.0</td>\n",
              "      <td>2</td>\n",
              "      <td>0</td>\n",
              "      <td>0</td>\n",
              "      <td>0</td>\n",
              "      <td>1</td>\n",
              "      <td>1</td>\n",
              "      <td>0</td>\n",
              "      <td>692.0</td>\n",
              "    </tr>\n",
              "    <tr>\n",
              "      <th>3</th>\n",
              "      <td>10000.0</td>\n",
              "      <td>9.99</td>\n",
              "      <td>36</td>\n",
              "      <td>14.30</td>\n",
              "      <td>3833.33</td>\n",
              "      <td>10.0</td>\n",
              "      <td>9346.0</td>\n",
              "      <td>0.0</td>\n",
              "      <td>5</td>\n",
              "      <td>0</td>\n",
              "      <td>0</td>\n",
              "      <td>0</td>\n",
              "      <td>1</td>\n",
              "      <td>1</td>\n",
              "      <td>0</td>\n",
              "      <td>697.0</td>\n",
              "    </tr>\n",
              "    <tr>\n",
              "      <th>4</th>\n",
              "      <td>12000.0</td>\n",
              "      <td>11.71</td>\n",
              "      <td>36</td>\n",
              "      <td>18.78</td>\n",
              "      <td>3195.00</td>\n",
              "      <td>11.0</td>\n",
              "      <td>14469.0</td>\n",
              "      <td>0.0</td>\n",
              "      <td>9</td>\n",
              "      <td>0</td>\n",
              "      <td>0</td>\n",
              "      <td>1</td>\n",
              "      <td>0</td>\n",
              "      <td>0</td>\n",
              "      <td>1</td>\n",
              "      <td>697.0</td>\n",
              "    </tr>\n",
              "  </tbody>\n",
              "</table>\n",
              "</div>"
            ],
            "text/plain": [
              "   Amount.Requested  Interest.Rate  Loan.Length  ...  ho_mort  ho_rent   fico\n",
              "0           20000.0           8.90           36  ...        1        0  737.0\n",
              "1           19200.0          12.12           36  ...        1        0  717.0\n",
              "2           35000.0          21.98           60  ...        1        0  692.0\n",
              "3           10000.0           9.99           36  ...        1        0  697.0\n",
              "4           12000.0          11.71           36  ...        0        1  697.0\n",
              "\n",
              "[5 rows x 16 columns]"
            ]
          },
          "metadata": {
            "tags": []
          },
          "execution_count": 68
        }
      ]
    },
    {
      "cell_type": "markdown",
      "metadata": {
        "colab_type": "text",
        "id": "zAQMGDMB8qvX"
      },
      "source": [
        "<a id=section402></a>\n",
        "### 4.2 Exploratory Data Analysis"
      ]
    },
    {
      "cell_type": "markdown",
      "metadata": {
        "colab_type": "text",
        "id": "P1nf8Pol8qvY"
      },
      "source": [
        "<a id=section40201></a>\n",
        "#### 4.2.1 Removing Outliers"
      ]
    },
    {
      "cell_type": "code",
      "metadata": {
        "colab_type": "code",
        "id": "pPJkxVIv8qvZ",
        "colab": {
          "base_uri": "https://localhost:8080/",
          "height": 515
        },
        "outputId": "d60341da-61b0-4a4e-b6f7-ef294f4c08ab"
      },
      "source": [
        "# Plotting a boxplot for Monthly.Income\n",
        "\n",
        "ld['Monthly.Income'].plot(kind='box', figsize=(8,8))\n",
        "plt.ylabel('Income')\n",
        "plt.title('Outlier Detection for Monthly.Income')"
      ],
      "execution_count": null,
      "outputs": [
        {
          "output_type": "execute_result",
          "data": {
            "text/plain": [
              "Text(0.5, 1.0, 'Outlier Detection for Monthly.Income')"
            ]
          },
          "metadata": {
            "tags": []
          },
          "execution_count": 69
        },
        {
          "output_type": "display_data",
          "data": {
            "image/png": "[encoded data removed]",
            "text/plain": [
              "<Figure size 576x576 with 1 Axes>"
            ]
          },
          "metadata": {
            "tags": [],
            "needs_background": "light"
          }
        }
      ]
    },
    {
      "cell_type": "markdown",
      "metadata": {
        "colab_type": "text",
        "id": "DL3ULx_Z8qvc"
      },
      "source": [
        "- The **boxplot** of **Monthly.Income** shows the presence of **outliers** in the data.\n",
        "\n",
        "\n",
        "- The values above **35000** will be dropped."
      ]
    },
    {
      "cell_type": "code",
      "metadata": {
        "colab_type": "code",
        "id": "i8QFW_Gj8qvd",
        "colab": {}
      },
      "source": [
        "# Dropping values having Monthly.Income more than 35000.\n",
        "\n",
        "ld.drop(ld[ld['Monthly.Income'] > 35000].index, inplace=True)"
      ],
      "execution_count": null,
      "outputs": []
    },
    {
      "cell_type": "code",
      "metadata": {
        "colab_type": "code",
        "id": "URfB1gzd8qvh",
        "colab": {
          "base_uri": "https://localhost:8080/",
          "height": 515
        },
        "outputId": "5815d93b-8225-48f5-b2f5-c9f7014fd560"
      },
      "source": [
        "# Plotting a boxplot for Revolving.CREDIT.Balance\n",
        "\n",
        "ld['Revolving.CREDIT.Balance'].plot(kind='box', figsize=(8,8))\n",
        "plt.ylabel('Balance')\n",
        "plt.title('Outlier Detection for Revolving.CREDIT.Balance')"
      ],
      "execution_count": null,
      "outputs": [
        {
          "output_type": "execute_result",
          "data": {
            "text/plain": [
              "Text(0.5, 1.0, 'Outlier Detection for Revolving.CREDIT.Balance')"
            ]
          },
          "metadata": {
            "tags": []
          },
          "execution_count": 71
        },
        {
          "output_type": "display_data",
          "data": {
            "image/png": "[encoded data removed]",
            "text/plain": [
              "<Figure size 576x576 with 1 Axes>"
            ]
          },
          "metadata": {
            "tags": [],
            "needs_background": "light"
          }
        }
      ]
    },
    {
      "cell_type": "markdown",
      "metadata": {
        "colab_type": "text",
        "id": "fYzNvhHG8qvl"
      },
      "source": [
        "- The **boxplot** of **Revolving.CREDIT.Balance** shows the presence of **outliers** in the data.\n",
        "\n",
        "\n",
        "- The values above **150000** will be dropped."
      ]
    },
    {
      "cell_type": "code",
      "metadata": {
        "colab_type": "code",
        "id": "TPba4Lvx8qvl",
        "colab": {}
      },
      "source": [
        "# Dropping values having Revolving.CREDIT.Balance more than 150000.\n",
        "\n",
        "ld.drop(ld[ld['Revolving.CREDIT.Balance'] > 150000].index, inplace=True)"
      ],
      "execution_count": null,
      "outputs": []
    },
    {
      "cell_type": "code",
      "metadata": {
        "colab_type": "code",
        "id": "VoIgjsoV8qvn",
        "colab": {
          "base_uri": "https://localhost:8080/",
          "height": 515
        },
        "outputId": "f830f73f-ee57-43ed-85aa-126def6e6fb7"
      },
      "source": [
        "# Plotting a boxplot for Open.CREDIT.Lines\n",
        "\n",
        "ld['Open.CREDIT.Lines'].plot(kind='box', figsize=(8,8))\n",
        "plt.ylabel('Number of Open Credit Lines')\n",
        "plt.title('Outlier Detection for Open.CREDIT.Lines')"
      ],
      "execution_count": null,
      "outputs": [
        {
          "output_type": "execute_result",
          "data": {
            "text/plain": [
              "Text(0.5, 1.0, 'Outlier Detection for Open.CREDIT.Lines')"
            ]
          },
          "metadata": {
            "tags": []
          },
          "execution_count": 73
        },
        {
          "output_type": "display_data",
          "data": {
            "image/png": "[encoded data removed]",
            "text/plain": [
              "<Figure size 576x576 with 1 Axes>"
            ]
          },
          "metadata": {
            "tags": [],
            "needs_background": "light"
          }
        }
      ]
    },
    {
      "cell_type": "markdown",
      "metadata": {
        "colab_type": "text",
        "id": "Q-SX7pZY8qvo"
      },
      "source": [
        "- The **boxplot** of **Open.CREDIT.Lines** shows the presence of **outliers** in the data.\n",
        "\n",
        "\n",
        "- The values above **30** will be dropped."
      ]
    },
    {
      "cell_type": "code",
      "metadata": {
        "colab_type": "code",
        "id": "3VAbLxza8qvp",
        "colab": {}
      },
      "source": [
        "# Dropping values having Open.CREDIT.Lines more than 30.\n",
        "\n",
        "ld.drop(ld[ld['Open.CREDIT.Lines'] > 30].index, inplace=True)"
      ],
      "execution_count": null,
      "outputs": []
    },
    {
      "cell_type": "code",
      "metadata": {
        "colab_type": "code",
        "id": "7bL-aFUK8qvr",
        "colab": {
          "base_uri": "https://localhost:8080/",
          "height": 607
        },
        "outputId": "f4a9c6d1-a078-4583-a4ab-e2d9400208c8"
      },
      "source": [
        "# Plotting a boxplot showing the above columns after outlier removal.\n",
        "\n",
        "ld[['Monthly.Income', 'Revolving.CREDIT.Balance', 'Open.CREDIT.Lines']].plot(kind='box', figsize=(15,8), subplots=True, \n",
        "                                                                             sharex=True, \n",
        "                                                                             title='Monthly.Income, Revolving.CREDIT.Balance and Open.CREDIT.Lines after outlier removal')"
      ],
      "execution_count": null,
      "outputs": [
        {
          "output_type": "execute_result",
          "data": {
            "text/plain": [
              "Monthly.Income                 AxesSubplot(0.125,0.125;0.227941x0.755)\n",
              "Revolving.CREDIT.Balance    AxesSubplot(0.398529,0.125;0.227941x0.755)\n",
              "Open.CREDIT.Lines           AxesSubplot(0.672059,0.125;0.227941x0.755)\n",
              "dtype: object"
            ]
          },
          "metadata": {
            "tags": []
          },
          "execution_count": 75
        },
        {
          "output_type": "display_data",
          "data": {
            "image/png": "[encoded data removed]",
            "text/plain": [
              "<Figure size 1080x576 with 3 Axes>"
            ]
          },
          "metadata": {
            "tags": [],
            "needs_background": "light"
          }
        }
      ]
    },
    {
      "cell_type": "markdown",
      "metadata": {
        "colab_type": "text",
        "id": "uTwyRXaC8qvx"
      },
      "source": [
        "- Here we can see the difference in the **boxplots after removing** the **outliers**.\n",
        "\n",
        "  - **No extreme values** can be seen in the **boxplots** in all the 3 columns."
      ]
    },
    {
      "cell_type": "markdown",
      "metadata": {
        "colab_type": "text",
        "id": "5IwDNF348qvx"
      },
      "source": [
        "---"
      ]
    },
    {
      "cell_type": "markdown",
      "metadata": {
        "colab_type": "text",
        "id": "8mtr6mL58qvy"
      },
      "source": [
        "<a id=section40202></a>\n",
        "#### 4.2.2 Pandas Profiling after Data Preprocessing"
      ]
    },
    {
      "cell_type": "markdown",
      "metadata": {
        "colab_type": "text",
        "id": "5d8GCBe-8qvy"
      },
      "source": [
        "- Here, we will perform **Pandas Profiling after preprocessing** our dataset, so we will name the output file as __ld_after_preprocessing.html__."
      ]
    },
    {
      "cell_type": "code",
      "metadata": {
        "colab_type": "code",
        "id": "1wY_qLQ58qvz",
        "scrolled": true,
        "colab": {
          "base_uri": "https://localhost:8080/",
          "height": 212,
          "referenced_widgets": [
            "71a40f2a809243ab97d91d7158b1bb38",
            "4a1e7138c0fc42768940ba0fd6c8d543",
            "df1c10ca1ac5488d898352cc3ef8f1b0",
            "475c818903a540fca1a99c0cc76abed4",
            "f36f04fae1244863b61fc4a49cc0e57e",
            "142a8b3034fd429a8263a70e17bc6bd6",
            "cc9657f235e14133954813da273c7afe",
            "f15d721445fb4ff182e6499e5e5fc6d8",
            "17ee4c8e472f4a45812f0ec1ae270024",
            "71349304acf6457e9f2439d4ae10bd56",
            "1b311c4267e6470eaa1f166a40f70c3a",
            "d12886cb7c1343c48d2080447332d9e1",
            "a661f3e0300e449091e6e43b6fe87452",
            "4a8f9981e00e45bab6f156fc8b93539d",
            "96e4996aa7b94669b00ade8cf12f189e",
            "cec2f3ee008e4d0c8d44378808646c07",
            "2d21de33924e48eaa1070bfd715428e3",
            "f627654436b14a56b6241e1cd211dfcc",
            "907151a2df3b4c0d82ceb1437a5ef1b8",
            "e27a132b4e8d49598771c10d3e83e266",
            "80dc7bffe28c4b4f8c49b8f6a3f76d31",
            "0fac079bd2284fc9a6a227a6201f61d4",
            "6a634eb05e8343fd844c818d6b3498a4",
            "9ed3a08bf299446682105aa41729fc11",
            "da6f9a2c214f4564ab4fea6ae76d1f08",
            "eb75e9ba130a43b2b4b05c14a146a364",
            "e64acbd3acba4e969c9f801c92cc6549",
            "a16b5d83c11d4c3ba7fac3881df28304",
            "efa57fce38e1432bbe37ba1b19597cb7",
            "458e8fdafd8543d5883d6e9ab6c94581",
            "5fbb79f064174690a5313a68d2ee53e7",
            "0bd938ea3c0e4b19a9c0e2b1886f572a"
          ]
        },
        "outputId": "5e5e69e1-0a1d-45db-c677-4f52c5783561"
      },
      "source": [
        "# To output pandas profiling report to an external html file.\n",
        "\n",
        "profile = ld.profile_report(title='Pandas Profiling after Data Preprocessing')\n",
        "profile.to_file(output_file=\"ld_after_preprocessing.html\")\n",
        "\n",
        "# To output the pandas profiling report on the notebook.\n",
        "\n",
        "#ld.profile_report(title='Pandas Profiling after Data Preprocessing', style={'full_width':True})"
      ],
      "execution_count": null,
      "outputs": [
        {
          "output_type": "display_data",
          "data": {
            "application/vnd.jupyter.widget-view+json": {
              "model_id": "71a40f2a809243ab97d91d7158b1bb38",
              "version_minor": 0,
              "version_major": 2
            },
            "text/plain": [
              "HBox(children=(FloatProgress(value=0.0, description='Summarize dataset', max=31.0, style=ProgressStyle(descrip…"
            ]
          },
          "metadata": {
            "tags": []
          }
        },
        {
          "output_type": "stream",
          "text": [
            "\n"
          ],
          "name": "stdout"
        },
        {
          "output_type": "display_data",
          "data": {
            "application/vnd.jupyter.widget-view+json": {
              "model_id": "17ee4c8e472f4a45812f0ec1ae270024",
              "version_minor": 0,
              "version_major": 2
            },
            "text/plain": [
              "HBox(children=(FloatProgress(value=0.0, description='Generate report structure', max=1.0, style=ProgressStyle(…"
            ]
          },
          "metadata": {
            "tags": []
          }
        },
        {
          "output_type": "stream",
          "text": [
            "\n"
          ],
          "name": "stdout"
        },
        {
          "output_type": "display_data",
          "data": {
            "application/vnd.jupyter.widget-view+json": {
              "model_id": "2d21de33924e48eaa1070bfd715428e3",
              "version_minor": 0,
              "version_major": 2
            },
            "text/plain": [
              "HBox(children=(FloatProgress(value=0.0, description='Render HTML', max=1.0, style=ProgressStyle(description_wi…"
            ]
          },
          "metadata": {
            "tags": []
          }
        },
        {
          "output_type": "stream",
          "text": [
            "\n"
          ],
          "name": "stdout"
        },
        {
          "output_type": "display_data",
          "data": {
            "application/vnd.jupyter.widget-view+json": {
              "model_id": "da6f9a2c214f4564ab4fea6ae76d1f08",
              "version_minor": 0,
              "version_major": 2
            },
            "text/plain": [
              "HBox(children=(FloatProgress(value=0.0, description='Export report to file', max=1.0, style=ProgressStyle(desc…"
            ]
          },
          "metadata": {
            "tags": []
          }
        },
        {
          "output_type": "stream",
          "text": [
            "\n"
          ],
          "name": "stdout"
        }
      ]
    },
    {
      "cell_type": "markdown",
      "metadata": {
        "colab_type": "text",
        "id": "csg4h3u38qv6"
      },
      "source": [
        "**Observations from Pandas Profiling after Data Processing** <br><br>\n",
        "__Dataset info__:\n",
        "- Number of variables: 16\n",
        "- Number of observations: 2487\n",
        "- Missing Cells: 0 (0.0%)\n",
        "\n",
        "\n",
        "__Variables types__: \n",
        "- Numeric = 10\n",
        "- Categorical = 0\n",
        "- Boolean = 7\n",
        "\n",
        "\n",
        "<br>\n",
        "\n",
        "- **fico** column has a **skewness** of **0.81796** and **kurtosis** of **0.13439**.\n",
        "  \n",
        "  - The distribution is **positive (right) skewed**.\n",
        "  \n",
        "  - The value of **kurtosis** is small which implies that the tail of the distribution is short and no outliers are present in the data.\n",
        "  \n",
        "  - **95%** samples lie at a **fico** value **less than 777** and the **maximum** value is **832**.\n",
        "  \n",
        "  - **Interquartile range (IQR)** is **45** and **mean** is **707.85**, so extreme outliers will be after ```mean + (3 * IQR)``` ie. **842.85**\n",
        "  \n",
        "  \n",
        "- There is a **negative correlation** between the **Interest.Rate** and **fico** values.\n",
        "\n",
        "  - This can be seen from the **Pearson's r correlation** plot."
      ]
    },
    {
      "cell_type": "markdown",
      "metadata": {
        "colab_type": "text",
        "id": "r0GnFNJi8qv7"
      },
      "source": [
        "---"
      ]
    },
    {
      "cell_type": "code",
      "metadata": {
        "colab_type": "code",
        "id": "H58pEDUv8qv7",
        "colab": {
          "base_uri": "https://localhost:8080/",
          "height": 420
        },
        "outputId": "4b981e68-6190-4300-c37a-5ef2afe47f1a"
      },
      "source": [
        "# Plotting Interest.Rate\n",
        "\n",
        "ld['Interest.Rate'].plot(kind='kde', figsize=(14,6))\n",
        "plt.xlabel('Interest Rate')\n",
        "plt.title('Distribution of Interest.Rate')"
      ],
      "execution_count": null,
      "outputs": [
        {
          "output_type": "execute_result",
          "data": {
            "text/plain": [
              "Text(0.5, 1.0, 'Distribution of Interest.Rate')"
            ]
          },
          "metadata": {
            "tags": []
          },
          "execution_count": 77
        },
        {
          "output_type": "display_data",
          "data": {
            "image/png": "[encoded data removed]",
            "text/plain": [
              "<Figure size 1008x432 with 1 Axes>"
            ]
          },
          "metadata": {
            "tags": [],
            "needs_background": "light"
          }
        }
      ]
    },
    {
      "cell_type": "markdown",
      "metadata": {
        "colab_type": "text",
        "id": "FrvHxhB98qv9"
      },
      "source": [
        "- This plot shows the distribution of our **dependent** variable **Interest.Rate**\n",
        "\n",
        "\n",
        "- **Interest.Rate** is **normally** distributed."
      ]
    },
    {
      "cell_type": "markdown",
      "metadata": {
        "colab_type": "text",
        "id": "hZzrLbbL8qv_"
      },
      "source": [
        "- From this **regplot** between **Interest.Rate** and **Amount.Requested**, it can be seen that for a **lower** value of **Amount.Requested** the **Interest.Rate** is lower.\n",
        "\n",
        "\n",
        "- **Lenders** tend to provide **lower interest rates** for **smaller loan amounts** because of **lower level of risk** involved with the repayment of the loan. "
      ]
    },
    {
      "cell_type": "code",
      "metadata": {
        "colab_type": "code",
        "id": "dP1qAWl08qv_",
        "colab": {
          "base_uri": "https://localhost:8080/",
          "height": 493
        },
        "outputId": "87ec32f4-75fa-4581-e68f-b2d9d377e557"
      },
      "source": [
        "# Plotting Loan.Length's pie chart\n",
        "\n",
        "ld['Loan.Length'].value_counts().plot(kind='pie', labels=['36 months','60 months'], explode = (0.1, 0.2), \n",
        "                                      autopct='%3.1f%%', shadow=True, startangle=140, legend=True, figsize=(8,8))"
      ],
      "execution_count": null,
      "outputs": [
        {
          "output_type": "execute_result",
          "data": {
            "text/plain": [
              "<matplotlib.axes._subplots.AxesSubplot at 0x7f27d794a5f8>"
            ]
          },
          "metadata": {
            "tags": []
          },
          "execution_count": 78
        },
        {
          "output_type": "display_data",
          "data": {
            "image/png": "[encoded data removed]",
            "text/plain": [
              "<Figure size 576x576 with 1 Axes>"
            ]
          },
          "metadata": {
            "tags": []
          }
        }
      ]
    },
    {
      "cell_type": "markdown",
      "metadata": {
        "colab_type": "text",
        "id": "-THcdX2X8qwB"
      },
      "source": [
        "- In this pie chart we can see that **36 months** has a **78.1%** share and **60 months** has a **21.9%** share.\n",
        "\n",
        "\n",
        "- This signifies that people prefer __short-term loans__ more."
      ]
    },
    {
      "cell_type": "code",
      "metadata": {
        "colab_type": "code",
        "id": "t_d8przv8qwI",
        "colab": {
          "base_uri": "https://localhost:8080/",
          "height": 529
        },
        "outputId": "99f90fd5-ea48-4d04-ae08-edfea1bbe4d2"
      },
      "source": [
        "# Ploting Interest.Rate vs Monthly.Income \n",
        "\n",
        "plt.figure(figsize=(12,8))\n",
        "sns.scatterplot(data=ld, x='Monthly.Income', y='Interest.Rate', color='green')\n",
        "plt.title('Interest.Rate vs Monthly.Income')"
      ],
      "execution_count": null,
      "outputs": [
        {
          "output_type": "execute_result",
          "data": {
            "text/plain": [
              "Text(0.5, 1.0, 'Interest.Rate vs Monthly.Income')"
            ]
          },
          "metadata": {
            "tags": []
          },
          "execution_count": 79
        },
        {
          "output_type": "display_data",
          "data": {
            "image/png": "[encoded data removed]",
            "text/plain": [
              "<Figure size 864x576 with 1 Axes>"
            ]
          },
          "metadata": {
            "tags": [],
            "needs_background": "light"
          }
        }
      ]
    },
    {
      "cell_type": "markdown",
      "metadata": {
        "colab_type": "text",
        "id": "v8i9AyzL8qwL"
      },
      "source": [
        "- In this **scatterplot** between **Interest.Rate** and **Monthly.Income**, we can see that applicants with a **lower monthly income** are the ones who apply for loans the most.\n",
        "\n",
        "\n",
        "- Also **lenders** tend to provide **lower interest rate** to people with **higher monthly income** because of the **lower level of risk** involved with repayment."
      ]
    },
    {
      "cell_type": "code",
      "metadata": {
        "colab_type": "code",
        "id": "mBJ8c74q8qwf",
        "colab": {
          "base_uri": "https://localhost:8080/",
          "height": 483
        },
        "outputId": "0061b16a-ce51-491d-89d0-eb7e846905e6"
      },
      "source": [
        "# Plotting Employment.Length\n",
        "\n",
        "ld['Employment.Length'].value_counts().plot(kind='pie', autopct='%3.1f%%', wedgeprops=dict(width=0.2),\n",
        "                                            shadow=True,startangle=140, legend=True, figsize=(10,8), cmap='inferno')"
      ],
      "execution_count": null,
      "outputs": [
        {
          "output_type": "execute_result",
          "data": {
            "text/plain": [
              "<matplotlib.axes._subplots.AxesSubplot at 0x7f27d79509b0>"
            ]
          },
          "metadata": {
            "tags": []
          },
          "execution_count": 80
        },
        {
          "output_type": "display_data",
          "data": {
            "image/png": "[encoded data removed]",
            "text/plain": [
              "<Figure size 720x576 with 1 Axes>"
            ]
          },
          "metadata": {
            "tags": []
          }
        }
      ]
    },
    {
      "cell_type": "markdown",
      "metadata": {
        "colab_type": "text",
        "id": "k8CYdrmF8qwi"
      },
      "source": [
        "- From this **Doughnut** plot we can see the distribution of **Employment.Length** for its various unique values.\n",
        "\n",
        "\n",
        "- The value **10** and __0__ have the largest share of **26.0%** and **13.1%** respectively."
      ]
    },
    {
      "cell_type": "code",
      "metadata": {
        "colab_type": "code",
        "id": "haDJCwT-8qwi",
        "colab": {
          "base_uri": "https://localhost:8080/",
          "height": 951
        },
        "outputId": "77aa9c0f-fa6d-4095-e406-a9bced372cda"
      },
      "source": [
        "# Plotting the correlation matrix\n",
        "\n",
        "corr_mat = ld.corr()\n",
        "plt.figure(figsize=(14,14))\n",
        "sns.heatmap(corr_mat, annot=True, cmap='viridis')"
      ],
      "execution_count": null,
      "outputs": [
        {
          "output_type": "execute_result",
          "data": {
            "text/plain": [
              "<matplotlib.axes._subplots.AxesSubplot at 0x7f27d78644e0>"
            ]
          },
          "metadata": {
            "tags": []
          },
          "execution_count": 81
        },
        {
          "output_type": "display_data",
          "data": {
            "image/png": "[encoded data removed]",
            "text/plain": [
              "<Figure size 1008x1008 with 2 Axes>"
            ]
          },
          "metadata": {
            "tags": [],
            "needs_background": "light"
          }
        }
      ]
    },
    {
      "cell_type": "markdown",
      "metadata": {
        "colab_type": "text",
        "id": "40FeIZGW8qwm"
      },
      "source": [
        "**Observations from Correlation Matrix** <br>\n",
        "- The **diagonal** of above matrix shows the **auto-correlation** of variable. It is always equal to 1. \n",
        "\n",
        "\n",
        "- **Correlations** can vary from **-1 to +1**. Closer to **+1 means strong positive correlation** and close **-1 means strong negative correlation**. Closer to **0 means not very strongly correlated**. Variables with strong correlations are mostly probable candidates for model builing.\n",
        "\n",
        "\n",
        "- You can observe from the plot that there is **negative correlation** between **Interest.Rate** and **fico** with a value **-0.71** which implies that as the value of **fico increases** the value of **Interest.Rate decreases**.\n",
        "\n",
        "\n",
        "- There is a **negative correlation** between **ho_mort** and **ho_rent** columns with a value **-0.85** because both of these column are the **dummy variables** of the column **Home.Ownership** from the original dataset. \n",
        "  \n",
        "  - Since both these columns consists of **91.7%** of the total values in the **Home.Ownership** column and are the **opposite** of each other, that's why they show such a **strong negative correlation**.\n",
        "  \n",
        "  - We **can't drop** one of these columns because **jointly** they give information about the **third major category (OWN)** of the **Home.Ownership** column.\n",
        "  \n",
        "\n",
        "- There's also a **negative correlation** between **LP_3** and **LP_4** columns with a value **-0.7** because both of these column are the **dummy variables** of the column **Loan.Purpose** from the original dataset. \n",
        "  \n",
        "  - Since both these columns consists of **78.4%** of the total values in the **Loan.Purpose** column and are the **opposite** of each other, that's why they show such a **strong negative correlation**.\n",
        "  \n",
        "  - We **can't drop** one of these columns because **jointly** they give information about the **remaining categories** of the **Loan.Purpose** column ."
      ]
    },
    {
      "cell_type": "markdown",
      "metadata": {
        "colab_type": "text",
        "id": "Ty8YACSn8qwu"
      },
      "source": [
        "<a id=section6></a>\n",
        "## 6. Data train/test split\n",
        "<center>\n",
        "<img src=\"https://raw.githubusercontent.com/insaid2018/Term-2/master/images/train%20test%20split.png\" width=\"300\" height=\"300\" />\n",
        "<center>"
      ]
    },
    {
      "cell_type": "markdown",
      "metadata": {
        "colab_type": "text",
        "id": "5NvBgNa28qwv"
      },
      "source": [
        "We now **split** our **data** into two random parts: \n",
        "\n",
        "- One to **build model** on. \n",
        "- Another to **test** its **performance**. \n",
        "\n",
        "Option **\"random_state\"** is used to make our random operation reproducible."
      ]
    },
    {
      "cell_type": "code",
      "metadata": {
        "id": "iKjtpbHfbKao",
        "colab_type": "code",
        "colab": {}
      },
      "source": [
        "from sklearn.model_selection import train_test_split"
      ],
      "execution_count": null,
      "outputs": []
    },
    {
      "cell_type": "code",
      "metadata": {
        "colab_type": "code",
        "id": "xwuNoMIz8qwv",
        "colab": {}
      },
      "source": [
        "# Splitting the dataset into training and test sets.\n",
        "\n",
        "ld_train, ld_test = train_test_split(ld, test_size = 0.2, random_state = 2)"
      ],
      "execution_count": null,
      "outputs": []
    },
    {
      "cell_type": "markdown",
      "metadata": {
        "colab_type": "text",
        "id": "5KcS3Bzg8qwx"
      },
      "source": [
        "- Now, we'll separate predictors and response for both the datasets. \n",
        "\n",
        "\n",
        "\n",
        "- We'll also **drop ID** from predictor's list because it doesnt make sense to include an ID variable in the model. \n",
        "\n",
        "\n",
        "- Variable **\"Amount.Funded.By.Investors\"** will also be **dropped** because it wont be available until the loan has been processed.\n",
        "\n",
        "\n",
        "- We can use only those variables which are present at the point of the business process where we want to apply our model."
      ]
    },
    {
      "cell_type": "code",
      "metadata": {
        "colab_type": "code",
        "id": "WK7h8oGY8qwx",
        "colab": {}
      },
      "source": [
        "# Dropping Interest.Rate from x_train and x_test matrices, and creating y_train and y_test vectors for Interest.Rate values.\n",
        "\n",
        "x_train = ld_train.drop(['Interest.Rate'], 1)\n",
        "y_train = ld_train['Interest.Rate']\n",
        "x_test = ld_test.drop(['Interest.Rate'], 1)\n",
        "y_test = ld_test['Interest.Rate']"
      ],
      "execution_count": null,
      "outputs": []
    },
    {
      "cell_type": "code",
      "metadata": {
        "colab_type": "code",
        "id": "pmi8stid8qwy",
        "colab": {
          "base_uri": "https://localhost:8080/",
          "height": 118
        },
        "outputId": "5163913f-d9c3-4ce9-8ced-76f615d7734a"
      },
      "source": [
        "ld.columns"
      ],
      "execution_count": null,
      "outputs": [
        {
          "output_type": "execute_result",
          "data": {
            "text/plain": [
              "Index(['Amount.Requested', 'Interest.Rate', 'Loan.Length',\n",
              "       'Debt.To.Income.Ratio', 'Monthly.Income', 'Open.CREDIT.Lines',\n",
              "       'Revolving.CREDIT.Balance', 'Inquiries.in.the.Last.6.Months',\n",
              "       'Employment.Length', 'LP_1', 'LP_2', 'LP_3', 'LP_4', 'ho_mort',\n",
              "       'ho_rent', 'fico'],\n",
              "      dtype='object')"
            ]
          },
          "metadata": {
            "tags": []
          },
          "execution_count": 85
        }
      ]
    },
    {
      "cell_type": "code",
      "metadata": {
        "colab_type": "code",
        "id": "3dLgbNwv8qw2",
        "colab": {
          "base_uri": "https://localhost:8080/",
          "height": 101
        },
        "outputId": "5206bd3d-6ba9-4fa2-b44a-a1fd0ca55038"
      },
      "source": [
        "# Creating a list of the names of x_train columns for future use. \n",
        "\n",
        "features = x_train.columns\n",
        "features"
      ],
      "execution_count": null,
      "outputs": [
        {
          "output_type": "execute_result",
          "data": {
            "text/plain": [
              "Index(['Amount.Requested', 'Loan.Length', 'Debt.To.Income.Ratio',\n",
              "       'Monthly.Income', 'Open.CREDIT.Lines', 'Revolving.CREDIT.Balance',\n",
              "       'Inquiries.in.the.Last.6.Months', 'Employment.Length', 'LP_1', 'LP_2',\n",
              "       'LP_3', 'LP_4', 'ho_mort', 'ho_rent', 'fico'],\n",
              "      dtype='object')"
            ]
          },
          "metadata": {
            "tags": []
          },
          "execution_count": 86
        }
      ]
    },
    {
      "cell_type": "code",
      "metadata": {
        "colab_type": "code",
        "id": "g-rAoYf-8qw3",
        "colab": {
          "base_uri": "https://localhost:8080/",
          "height": 84
        },
        "outputId": "78761be3-f39d-4fde-8c1b-53980078f8f3"
      },
      "source": [
        "# Checking the shapes of training and test sets.\n",
        "\n",
        "print('Shape of x_train: ', x_train.shape)\n",
        "print('Shape of y_train: ', y_train.shape)\n",
        "print('Shape of x_test: ', x_test.shape)\n",
        "print('Shape of y_test: ', y_test.shape)"
      ],
      "execution_count": null,
      "outputs": [
        {
          "output_type": "stream",
          "text": [
            "Shape of x_train:  (1906, 15)\n",
            "Shape of y_train:  (1906,)\n",
            "Shape of x_test:  (477, 15)\n",
            "Shape of y_test:  (477,)\n"
          ],
          "name": "stdout"
        }
      ]
    },
    {
      "cell_type": "markdown",
      "metadata": {
        "colab_type": "text",
        "id": "dr17CWr08qw8"
      },
      "source": [
        "<a id=section701></a>\n",
        "### 6. Modelling in Scikit-Learn\n",
        "\n",
        "To apply any machine learning algorithm on your dataset, basically there are **4 steps**:\n",
        "\n",
        "1. **Load the algorithm**\n",
        "2. **Instantiate and Fit the model to the training dataset**\n",
        "3. **Prediction on the test set**\n",
        "4. **Calculating Root mean square error**\n",
        "\n",
        "The code block given below shows how these steps are carried out:\n",
        "\n",
        "```from sklearn.linear_model import LinearRegression\n",
        "    linreg = LinearRegression()\n",
        "    linreg.fit(x_train, y_train) \n",
        "    RMSE_test = np.sqrt(metrics.mean_squared_error(y_test, y_pred_test))```"
      ]
    },
    {
      "cell_type": "markdown",
      "metadata": {
        "colab_type": "text",
        "id": "HCTX8zew8qw7"
      },
      "source": [
        "<a id=section7></a>\n",
        "### 6.1 Linear Regression Model"
      ]
    },
    {
      "cell_type": "markdown",
      "metadata": {
        "colab_type": "text",
        "id": "qmVCdUY78qw9"
      },
      "source": [
        "- The code below creates an object of class **LinearRegression** named **linreg**. We can use this object to access all functions realted to LinearRegression."
      ]
    },
    {
      "cell_type": "code",
      "metadata": {
        "colab_type": "code",
        "id": "H62rEPyc8qw9",
        "colab": {
          "base_uri": "https://localhost:8080/",
          "height": 34
        },
        "outputId": "105a33fc-4932-4129-9b19-454c8eddebdd"
      },
      "source": [
        "# Creating our linear regression model and fitting the data into it.\n",
        "\n",
        "from sklearn.linear_model import LinearRegression\n",
        "linreg = LinearRegression()\n",
        "linreg.fit(x_train, y_train)"
      ],
      "execution_count": null,
      "outputs": [
        {
          "output_type": "execute_result",
          "data": {
            "text/plain": [
              "LinearRegression(copy_X=True, fit_intercept=True, n_jobs=None, normalize=False)"
            ]
          },
          "metadata": {
            "tags": []
          },
          "execution_count": 88
        }
      ]
    },
    {
      "cell_type": "markdown",
      "metadata": {
        "colab_type": "text",
        "id": "UcsIkY6u8qxB"
      },
      "source": [
        "---"
      ]
    },
    {
      "cell_type": "markdown",
      "metadata": {
        "colab_type": "text",
        "id": "W604A9478qxB"
      },
      "source": [
        "<a id=section702></a>\n",
        "Using the Model for Prediction"
      ]
    },
    {
      "cell_type": "code",
      "metadata": {
        "colab_type": "code",
        "id": "3-hKxOed8qxC",
        "colab": {
          "base_uri": "https://localhost:8080/",
          "height": 50
        },
        "outputId": "c1ab578a-da92-413e-d181-a824ee92de3c"
      },
      "source": [
        "# Making predictions on the train set.\n",
        "\n",
        "y_pred_train = linreg.predict(x_train)\n",
        "y_pred_train[:10]"
      ],
      "execution_count": null,
      "outputs": [
        {
          "output_type": "execute_result",
          "data": {
            "text/plain": [
              "array([16.7868, 13.9016, 15.0468, 13.2561, 15.5683, 14.8874,  9.9094,\n",
              "       12.9549, 15.6468, 13.8867])"
            ]
          },
          "metadata": {
            "tags": []
          },
          "execution_count": 89
        }
      ]
    },
    {
      "cell_type": "markdown",
      "metadata": {
        "colab_type": "text",
        "id": "KG43_EZ78qxG"
      },
      "source": [
        "- Next we **predict** response on our test data, calculate **errors** on those prediction and then **RMSE** for those **residuals**. \n",
        "\n",
        "\n",
        "- That is the measure of performance on the test data. We can use this measure to compare other models that we'll build."
      ]
    },
    {
      "cell_type": "code",
      "metadata": {
        "colab_type": "code",
        "id": "6Cu5yO8E8qxG",
        "colab": {
          "base_uri": "https://localhost:8080/",
          "height": 50
        },
        "outputId": "0c3013a6-08ea-4f5f-d526-a576f2b81e40"
      },
      "source": [
        "# Making predictions on the test set.\n",
        "\n",
        "y_pred_test = linreg.predict(x_test)\n",
        "y_pred_test[:10]"
      ],
      "execution_count": null,
      "outputs": [
        {
          "output_type": "execute_result",
          "data": {
            "text/plain": [
              "array([ 6.7959, 11.5747, 13.6689, 16.2871, 17.8316,  8.7428, 15.698 ,\n",
              "        7.5109, 21.9314, 11.1066])"
            ]
          },
          "metadata": {
            "tags": []
          },
          "execution_count": 90
        }
      ]
    },
    {
      "cell_type": "code",
      "metadata": {
        "colab_type": "code",
        "id": "GA_UTOHJ8qxJ",
        "colab": {
          "base_uri": "https://localhost:8080/",
          "height": 34
        },
        "outputId": "601a48b3-849a-456e-f35a-5bd3f7dddd61"
      },
      "source": [
        "# To get the intercept of the model.\n",
        "\n",
        "linreg.intercept_"
      ],
      "execution_count": null,
      "outputs": [
        {
          "output_type": "execute_result",
          "data": {
            "text/plain": [
              "69.20639255266147"
            ]
          },
          "metadata": {
            "tags": []
          },
          "execution_count": 91
        }
      ]
    },
    {
      "cell_type": "code",
      "metadata": {
        "colab_type": "code",
        "id": "oXuZa3lY8qxK",
        "colab": {
          "base_uri": "https://localhost:8080/",
          "height": 269
        },
        "outputId": "784494c1-212e-49a2-ccb1-02b5afb345e0"
      },
      "source": [
        "# To get the coefficients of the model.\n",
        "\n",
        "coefs = linreg.coef_\n",
        "features = x_train.columns\n",
        "\n",
        "list(zip(features,coefs))"
      ],
      "execution_count": null,
      "outputs": [
        {
          "output_type": "execute_result",
          "data": {
            "text/plain": [
              "[('Amount.Requested', 0.00015699005549043763),\n",
              " ('Loan.Length', 0.13667067593740925),\n",
              " ('Debt.To.Income.Ratio', -0.00014175031401156117),\n",
              " ('Monthly.Income', -2.614926211664398e-05),\n",
              " ('Open.CREDIT.Lines', -0.05413825582180609),\n",
              " ('Revolving.CREDIT.Balance', -5.183103627653951e-06),\n",
              " ('Inquiries.in.the.Last.6.Months', 0.3616627355612971),\n",
              " ('Employment.Length', 0.01207897459873547),\n",
              " ('LP_1', -0.5667017983276365),\n",
              " ('LP_2', -0.8968834220844306),\n",
              " ('LP_3', -0.699834546060847),\n",
              " ('LP_4', -0.8493479746562882),\n",
              " ('ho_mort', -0.28241504189158684),\n",
              " ('ho_rent', -0.09536511582337542),\n",
              " ('fico', -0.08815836439736491)]"
            ]
          },
          "metadata": {
            "tags": []
          },
          "execution_count": 92
        }
      ]
    },
    {
      "cell_type": "markdown",
      "metadata": {
        "colab_type": "text",
        "id": "2vCLPzos8qxM"
      },
      "source": [
        "---"
      ]
    },
    {
      "cell_type": "markdown",
      "metadata": {
        "colab_type": "text",
        "id": "_EdMZLRS8qxW"
      },
      "source": [
        "Model Evaluation"
      ]
    },
    {
      "cell_type": "markdown",
      "metadata": {
        "colab_type": "text",
        "id": "07VX9KKq8qxZ"
      },
      "source": [
        "<a id=section801></a>\n",
        "Mean Absolute Error (MAE)\n",
        "\n",
        "- __Mean Absolute Error__ (MAE) is the mean of the absolute value of the errors:\n",
        "\n",
        "$$\\frac 1n\\sum_{i=1}^n|y_i-\\hat{y}_i|$$"
      ]
    },
    {
      "cell_type": "code",
      "metadata": {
        "id": "zgzIAkLLbbvf",
        "colab_type": "code",
        "colab": {}
      },
      "source": [
        "from sklearn import metrics"
      ],
      "execution_count": null,
      "outputs": []
    },
    {
      "cell_type": "code",
      "metadata": {
        "colab_type": "code",
        "id": "TNvY1nI88qxZ",
        "colab": {}
      },
      "source": [
        "# Calculating the Mean Absolute Error on training and test set.\n",
        "\n",
        "MAE_train = metrics.mean_absolute_error(y_train, y_pred_train)"
      ],
      "execution_count": null,
      "outputs": []
    },
    {
      "cell_type": "code",
      "metadata": {
        "colab_type": "code",
        "id": "a99o6Y_K8qxa",
        "colab": {
          "base_uri": "https://localhost:8080/",
          "height": 34
        },
        "outputId": "07eaf603-b4be-4d0a-a5c5-d2f31797a2ba"
      },
      "source": [
        "print('MAE of the model is {}'.format(MAE_train))"
      ],
      "execution_count": null,
      "outputs": [
        {
          "output_type": "stream",
          "text": [
            "MAE of the model is 1.5357820853549817\n"
          ],
          "name": "stdout"
        }
      ]
    },
    {
      "cell_type": "markdown",
      "metadata": {
        "colab_type": "text",
        "id": "QLrmMOTj8qxb"
      },
      "source": [
        "---"
      ]
    },
    {
      "cell_type": "markdown",
      "metadata": {
        "colab_type": "text",
        "id": "uiLAkQ-v8qxc"
      },
      "source": [
        "Mean Squared Error (MSE)\n",
        "\n",
        "- __Mean Squared Error__ (MSE) is the mean of the squared errors:\n",
        "\n",
        "$$\\frac 1n\\sum_{i=1}^n(y_i-\\hat{y}_i)^2$$"
      ]
    },
    {
      "cell_type": "code",
      "metadata": {
        "colab_type": "code",
        "id": "i5NA0O3o8qxc",
        "colab": {}
      },
      "source": [
        "# Calculating the Mean Squared Error on training and test set.\n",
        "\n",
        "MSE_train = metrics.mean_squared_error(y_train, y_pred_train)"
      ],
      "execution_count": null,
      "outputs": []
    },
    {
      "cell_type": "code",
      "metadata": {
        "colab_type": "code",
        "id": "4b9Pqx5Q8qxe",
        "colab": {
          "base_uri": "https://localhost:8080/",
          "height": 34
        },
        "outputId": "82f8fdc2-6644-4301-dfa3-dbbcd718b889"
      },
      "source": [
        "print('MSE of the model is {}'.format(MSE_train))"
      ],
      "execution_count": null,
      "outputs": [
        {
          "output_type": "stream",
          "text": [
            "MSE of the model is 3.946103087805356\n"
          ],
          "name": "stdout"
        }
      ]
    },
    {
      "cell_type": "markdown",
      "metadata": {
        "colab_type": "text",
        "id": "rMdkVB4U8qxg"
      },
      "source": [
        "---"
      ]
    },
    {
      "cell_type": "markdown",
      "metadata": {
        "colab_type": "text",
        "id": "vSeoom4b8qxh"
      },
      "source": [
        "Root Mean Squared Error (RMSE)\n",
        "\n",
        "- __Root Mean Squared Error__ (RMSE) is the square root of the mean of the squared errors:\n",
        "\n",
        "$$\\sqrt{\\frac 1n\\sum_{i=1}^n(y_i-\\hat{y}_i)^2}$$"
      ]
    },
    {
      "cell_type": "code",
      "metadata": {
        "colab_type": "code",
        "id": "CMxMVFdr8qxh",
        "colab": {}
      },
      "source": [
        "# Calculating the Root Mean Squared Error on training and test set.\n",
        "\n",
        "RMSE_train = np.sqrt( metrics.mean_squared_error(y_train, y_pred_train))"
      ],
      "execution_count": null,
      "outputs": []
    },
    {
      "cell_type": "code",
      "metadata": {
        "colab_type": "code",
        "id": "k0L-fg0C8qxi",
        "colab": {
          "base_uri": "https://localhost:8080/",
          "height": 34
        },
        "outputId": "6e06e41f-8497-4c11-fa96-8e9b5493259b"
      },
      "source": [
        "print('RMSE of the model is {}'.format(RMSE_train))"
      ],
      "execution_count": null,
      "outputs": [
        {
          "output_type": "stream",
          "text": [
            "RMSE of the model is 1.9864800748573734\n"
          ],
          "name": "stdout"
        }
      ]
    },
    {
      "cell_type": "markdown",
      "metadata": {
        "colab_type": "text",
        "id": "mr552UIr8qxk"
      },
      "source": [
        "Comparing these metrics:\n",
        "\n",
        "- __MAE__(Mean Absolute Error) is the easiest to understand, because it's the __average error.__ \n",
        "\n",
        "\n",
        "- __MSE__ (Mean Squared Error) is more popular than MAE, because MSE \"punishes\" larger errors.\n",
        "\n",
        "\n",
        "- __RMSE__ ( Root Mean Squared Error) is even more popular than MSE, because RMSE is _interpretable_ in the \"y\" units.\n",
        "    - Easier to put in context as it's the same units as our response variable."
      ]
    },
    {
      "cell_type": "markdown",
      "metadata": {
        "colab_type": "text",
        "id": "F2UukWk58qxl"
      },
      "source": [
        "---"
      ]
    },
    {
      "cell_type": "code",
      "metadata": {
        "colab_type": "code",
        "id": "L-H1GaaQ8qxs",
        "scrolled": true,
        "colab": {
          "base_uri": "https://localhost:8080/",
          "height": 34
        },
        "outputId": "3fea898d-3440-4b93-e7fe-44ad66297d75"
      },
      "source": [
        "# Calculating R squared value using the metrics.r2_score() method.\n",
        "\n",
        "R_squared_train = metrics.r2_score(y_train, y_pred_train)\n",
        "R_squared_test = metrics.r2_score(y_test, y_pred_test)\n",
        "\n",
        "print('R squared value of the model is {}'.format(R_squared_train))"
      ],
      "execution_count": null,
      "outputs": [
        {
          "output_type": "stream",
          "text": [
            "R squared value of the model is 0.7702153566952381\n"
          ],
          "name": "stdout"
        }
      ]
    },
    {
      "cell_type": "markdown",
      "metadata": {
        "id": "4bYecn_xhDrd",
        "colab_type": "text"
      },
      "source": [
        "### 9. Decision tree"
      ]
    },
    {
      "cell_type": "code",
      "metadata": {
        "id": "AvlAhFJ5hCB3",
        "colab_type": "code",
        "colab": {
          "base_uri": "https://localhost:8080/",
          "height": 118
        },
        "outputId": "d4e78096-2545-46ea-f3ab-23b9e01d55bc"
      },
      "source": [
        "from sklearn.tree import DecisionTreeRegressor  \n",
        "dt=DecisionTreeRegressor()\n",
        "dt.fit(x_train,y_train)"
      ],
      "execution_count": null,
      "outputs": [
        {
          "output_type": "execute_result",
          "data": {
            "text/plain": [
              "DecisionTreeRegressor(ccp_alpha=0.0, criterion='mse', max_depth=None,\n",
              "                      max_features=None, max_leaf_nodes=None,\n",
              "                      min_impurity_decrease=0.0, min_impurity_split=None,\n",
              "                      min_samples_leaf=1, min_samples_split=2,\n",
              "                      min_weight_fraction_leaf=0.0, presort='deprecated',\n",
              "                      random_state=None, splitter='best')"
            ]
          },
          "metadata": {
            "tags": []
          },
          "execution_count": 102
        }
      ]
    },
    {
      "cell_type": "code",
      "metadata": {
        "id": "xqSk2Ur4iAFk",
        "colab_type": "code",
        "colab": {
          "base_uri": "https://localhost:8080/",
          "height": 50
        },
        "outputId": "9e673178-d146-49e4-8a88-4cf7a99c0c90"
      },
      "source": [
        "y_pred_train_dt=dt.predict(x_train)\n",
        "y_pred_train_dt[:10]"
      ],
      "execution_count": null,
      "outputs": [
        {
          "output_type": "execute_result",
          "data": {
            "text/plain": [
              "array([13.87, 14.17, 15.27, 13.11, 19.99, 16.49,  8.49, 12.12, 14.59,\n",
              "       16.29])"
            ]
          },
          "metadata": {
            "tags": []
          },
          "execution_count": 103
        }
      ]
    },
    {
      "cell_type": "code",
      "metadata": {
        "id": "UhX2Xy7Sigy2",
        "colab_type": "code",
        "colab": {
          "base_uri": "https://localhost:8080/",
          "height": 50
        },
        "outputId": "684bb542-bf52-4265-898b-4975bf6c9a7a"
      },
      "source": [
        "# Making predictions on the test set.\n",
        "\n",
        "y_pred_test_dt = dt.predict(x_test)\n",
        "y_pred_test_dt[:10]"
      ],
      "execution_count": null,
      "outputs": [
        {
          "output_type": "execute_result",
          "data": {
            "text/plain": [
              "array([ 6.03,  9.76, 12.12, 17.99, 14.83,  6.03, 19.72,  8.49, 22.95,\n",
              "        9.99])"
            ]
          },
          "metadata": {
            "tags": []
          },
          "execution_count": 104
        }
      ]
    },
    {
      "cell_type": "code",
      "metadata": {
        "id": "S4S5zspOjYCl",
        "colab_type": "code",
        "colab": {}
      },
      "source": [
        "# Calculating the Mean Absolute Error on training and test set.\n",
        "\n",
        "MAE_train = metrics.mean_absolute_error(y_train, y_pred_train_dt)"
      ],
      "execution_count": null,
      "outputs": []
    },
    {
      "cell_type": "code",
      "metadata": {
        "id": "nvA5absOji4o",
        "colab_type": "code",
        "colab": {
          "base_uri": "https://localhost:8080/",
          "height": 34
        },
        "outputId": "634680dd-9528-4918-f015-6fb679b6d9da"
      },
      "source": [
        "print('MAE of the model is {}'.format(MAE_train))"
      ],
      "execution_count": null,
      "outputs": [
        {
          "output_type": "stream",
          "text": [
            "MAE of the model is 5.35889392788638e-17\n"
          ],
          "name": "stdout"
        }
      ]
    },
    {
      "cell_type": "code",
      "metadata": {
        "id": "iQYllXU-jo1U",
        "colab_type": "code",
        "colab": {}
      },
      "source": [
        "# Calculating the Mean Squared Error on training and test set.\n",
        "\n",
        "MSE_train = metrics.mean_squared_error(y_train, y_pred_train_dt)"
      ],
      "execution_count": null,
      "outputs": []
    },
    {
      "cell_type": "code",
      "metadata": {
        "id": "0RxyDWzWjt-8",
        "colab_type": "code",
        "colab": {
          "base_uri": "https://localhost:8080/",
          "height": 34
        },
        "outputId": "0b3eb73b-f4a2-4dfb-f841-75748e392cc3"
      },
      "source": [
        "print('MSE of the model is {}'.format(MSE_train))"
      ],
      "execution_count": null,
      "outputs": [
        {
          "output_type": "stream",
          "text": [
            "MSE of the model is 7.905164370263025e-32\n"
          ],
          "name": "stdout"
        }
      ]
    },
    {
      "cell_type": "code",
      "metadata": {
        "id": "tSxNb6AMj442",
        "colab_type": "code",
        "colab": {}
      },
      "source": [
        "# Calculating the Root Mean Squared Error on training and test set.\n",
        "\n",
        "RMSE_train = np.sqrt( metrics.mean_squared_error(y_train, y_pred_train_dt))"
      ],
      "execution_count": null,
      "outputs": []
    },
    {
      "cell_type": "code",
      "metadata": {
        "id": "qvkNa2EYkA8O",
        "colab_type": "code",
        "colab": {
          "base_uri": "https://localhost:8080/",
          "height": 34
        },
        "outputId": "688fdf49-e234-4970-a935-ef512d4d3396"
      },
      "source": [
        "print('RMSE of the model is {}'.format(RMSE_train))"
      ],
      "execution_count": null,
      "outputs": [
        {
          "output_type": "stream",
          "text": [
            "RMSE of the model is 2.811612414658718e-16\n"
          ],
          "name": "stdout"
        }
      ]
    },
    {
      "cell_type": "code",
      "metadata": {
        "id": "8vAmUZH5kKUv",
        "colab_type": "code",
        "colab": {
          "base_uri": "https://localhost:8080/",
          "height": 34
        },
        "outputId": "81163915-868e-485e-9fc6-9d1965c42a40"
      },
      "source": [
        "# Calculating R squared value using the metrics.r2_score() method.\n",
        "\n",
        "R_squared_train = metrics.r2_score(y_train, y_pred_train_dt)\n",
        "print('R squared value of the model is {}'.format(R_squared_train))"
      ],
      "execution_count": null,
      "outputs": [
        {
          "output_type": "stream",
          "text": [
            "R squared value of the model is 1.0\n"
          ],
          "name": "stdout"
        }
      ]
    },
    {
      "cell_type": "markdown",
      "metadata": {
        "id": "bfgveGLkkUdo",
        "colab_type": "text"
      },
      "source": [
        "### 10. Random Forest"
      ]
    },
    {
      "cell_type": "code",
      "metadata": {
        "id": "3Fu9YzjIkgzY",
        "colab_type": "code",
        "colab": {
          "base_uri": "https://localhost:8080/",
          "height": 134
        },
        "outputId": "b5ebba6d-e0e6-4d5d-8ee6-8f203af69941"
      },
      "source": [
        "from sklearn.ensemble import RandomForestRegressor\n",
        "rf=RandomForestRegressor()\n",
        "rf.fit(x_train,y_train)"
      ],
      "execution_count": null,
      "outputs": [
        {
          "output_type": "execute_result",
          "data": {
            "text/plain": [
              "RandomForestRegressor(bootstrap=True, ccp_alpha=0.0, criterion='mse',\n",
              "                      max_depth=None, max_features='auto', max_leaf_nodes=None,\n",
              "                      max_samples=None, min_impurity_decrease=0.0,\n",
              "                      min_impurity_split=None, min_samples_leaf=1,\n",
              "                      min_samples_split=2, min_weight_fraction_leaf=0.0,\n",
              "                      n_estimators=100, n_jobs=None, oob_score=False,\n",
              "                      random_state=None, verbose=0, warm_start=False)"
            ]
          },
          "metadata": {
            "tags": []
          },
          "execution_count": 112
        }
      ]
    },
    {
      "cell_type": "code",
      "metadata": {
        "id": "NuZ4hs0IkmiQ",
        "colab_type": "code",
        "colab": {
          "base_uri": "https://localhost:8080/",
          "height": 50
        },
        "outputId": "24752341-3919-4a39-d449-1c3d920ba207"
      },
      "source": [
        "y_pred_train_rf=rf.predict(x_train)\n",
        "y_pred_train_rf[:10]"
      ],
      "execution_count": null,
      "outputs": [
        {
          "output_type": "execute_result",
          "data": {
            "text/plain": [
              "array([14.3522, 14.0732, 15.4061, 12.8682, 18.8924, 15.4582,  8.4723,\n",
              "       12.1726, 15.0996, 15.5075])"
            ]
          },
          "metadata": {
            "tags": []
          },
          "execution_count": 113
        }
      ]
    },
    {
      "cell_type": "code",
      "metadata": {
        "id": "BfdeBLcFn4gT",
        "colab_type": "code",
        "colab": {
          "base_uri": "https://localhost:8080/",
          "height": 50
        },
        "outputId": "e2176140-efdb-4943-954c-f78b0fdc41ec"
      },
      "source": [
        "# Making predictions on the test set.\n",
        "\n",
        "y_pred_test_rf = rf.predict(x_test)\n",
        "y_pred_test_rf[:10]"
      ],
      "execution_count": null,
      "outputs": [
        {
          "output_type": "execute_result",
          "data": {
            "text/plain": [
              "array([ 6.5377, 10.5932, 12.6613, 19.0494, 16.9562,  7.1848, 15.9698,\n",
              "        6.959 , 20.3229, 10.2939])"
            ]
          },
          "metadata": {
            "tags": []
          },
          "execution_count": 114
        }
      ]
    },
    {
      "cell_type": "code",
      "metadata": {
        "id": "ieZGRVSxoBF8",
        "colab_type": "code",
        "colab": {
          "base_uri": "https://localhost:8080/",
          "height": 202
        },
        "outputId": "f062490d-8964-4bbf-c8ef-c3dabe164249"
      },
      "source": [
        "residual_rf = y_pred_test_rf - y_test\n",
        "residual_rf[:10]"
      ],
      "execution_count": null,
      "outputs": [
        {
          "output_type": "execute_result",
          "data": {
            "text/plain": [
              "1266    0.5077\n",
              "654     0.6832\n",
              "1782    0.5413\n",
              "674     6.9294\n",
              "1710    0.1362\n",
              "231    -1.7552\n",
              "1399    0.3498\n",
              "788    -0.0310\n",
              "157    -0.9571\n",
              "2187   -1.1961\n",
              "Name: Interest.Rate, dtype: float64"
            ]
          },
          "metadata": {
            "tags": []
          },
          "execution_count": 115
        }
      ]
    },
    {
      "cell_type": "code",
      "metadata": {
        "id": "i5-4wLNJoVO0",
        "colab_type": "code",
        "colab": {}
      },
      "source": [
        "# Calculating the Mean Absolute Errort.\n",
        "\n",
        "MAE_train = metrics.mean_absolute_error(y_train, y_pred_train_rf)"
      ],
      "execution_count": null,
      "outputs": []
    },
    {
      "cell_type": "code",
      "metadata": {
        "id": "zaSYmixaoaCE",
        "colab_type": "code",
        "colab": {
          "base_uri": "https://localhost:8080/",
          "height": 34
        },
        "outputId": "bf6e6ec8-8531-4203-b57c-4928146d5974"
      },
      "source": [
        "print('MAE of the model is {}'.format(MAE_train))"
      ],
      "execution_count": null,
      "outputs": [
        {
          "output_type": "stream",
          "text": [
            "MAE of the model is 0.49306332633787936\n"
          ],
          "name": "stdout"
        }
      ]
    },
    {
      "cell_type": "code",
      "metadata": {
        "id": "avauDumnu9sb",
        "colab_type": "code",
        "colab": {}
      },
      "source": [
        "# Calculating the Mean Squared Error \n",
        "\n",
        "MSE_train = metrics.mean_squared_error(y_train, y_pred_train_rf)"
      ],
      "execution_count": null,
      "outputs": []
    },
    {
      "cell_type": "code",
      "metadata": {
        "id": "ijRgVK6wvE62",
        "colab_type": "code",
        "colab": {
          "base_uri": "https://localhost:8080/",
          "height": 34
        },
        "outputId": "57e858a0-51d0-4164-b3e5-42b6e95cc731"
      },
      "source": [
        "print('MSE of the model is {}'.format(MSE_train))"
      ],
      "execution_count": null,
      "outputs": [
        {
          "output_type": "stream",
          "text": [
            "MSE of the model is 0.45390693980587504\n"
          ],
          "name": "stdout"
        }
      ]
    },
    {
      "cell_type": "code",
      "metadata": {
        "id": "oEUODWUAvLx1",
        "colab_type": "code",
        "colab": {}
      },
      "source": [
        "# Calculating the Root Mean Squared Error \n",
        "\n",
        "RMSE_train = np.sqrt( metrics.mean_squared_error(y_train, y_pred_train_rf))"
      ],
      "execution_count": null,
      "outputs": []
    },
    {
      "cell_type": "code",
      "metadata": {
        "id": "CEwv48_MvZLq",
        "colab_type": "code",
        "colab": {
          "base_uri": "https://localhost:8080/",
          "height": 34
        },
        "outputId": "9e8cc8b0-50b7-4d6f-d1a6-5bcc875ca043"
      },
      "source": [
        "print('RMSE of the model is {}'.format(RMSE_train))"
      ],
      "execution_count": null,
      "outputs": [
        {
          "output_type": "stream",
          "text": [
            "RMSE of the model is 0.6737261608442076\n"
          ],
          "name": "stdout"
        }
      ]
    },
    {
      "cell_type": "code",
      "metadata": {
        "id": "M0glFKkivgkO",
        "colab_type": "code",
        "colab": {
          "base_uri": "https://localhost:8080/",
          "height": 34
        },
        "outputId": "bac2c2ec-f8c7-4af3-e139-dff1b1350efa"
      },
      "source": [
        "# Calculating R- squared value on training \n",
        "\n",
        "R_squared_train = metrics.r2_score(y_train, y_pred_train_rf)\n",
        "print('R squared value of the model is {}'.format(R_squared_train))"
      ],
      "execution_count": null,
      "outputs": [
        {
          "output_type": "stream",
          "text": [
            "R squared value of the model is 0.9735686468558893\n"
          ],
          "name": "stdout"
        }
      ]
    },
    {
      "cell_type": "markdown",
      "metadata": {
        "id": "FgTdrRv5BCkS",
        "colab_type": "text"
      },
      "source": [
        "Hyper-Parameter tuning of the model"
      ]
    },
    {
      "cell_type": "code",
      "metadata": {
        "id": "MvdU9883NTW6",
        "colab_type": "code",
        "colab": {}
      },
      "source": [
        "from sklearn.model_selection import GridSearchCV\n",
        "from sklearn.model_selection import RandomizedSearchCV\n",
        "\n",
        "# Number of trees in random forest\n",
        "n_estimators = [10,50,100,200,300,500]\n",
        "# Number of features to consider at every split\n",
        "max_features = ['auto', 'log2',2,4,8,12]\n",
        "# Maximum number of levels in tree\n",
        "max_depth = [2,4,8,16,25]\n",
        "max_depth.append(None)\n",
        "random_grid = {'n_estimators': n_estimators,\n",
        "               'max_features': max_features,\n",
        "               'max_depth': max_depth,\n",
        "               }"
      ],
      "execution_count": null,
      "outputs": []
    },
    {
      "cell_type": "markdown",
      "metadata": {
        "id": "WL2_2N_OBQIM",
        "colab_type": "text"
      },
      "source": [
        "GridSearchCV"
      ]
    },
    {
      "cell_type": "code",
      "metadata": {
        "id": "g--E_LQfrtjs",
        "colab_type": "code",
        "colab": {
          "base_uri": "https://localhost:8080/",
          "height": 353
        },
        "outputId": "6cf766c7-6d47-45a8-d602-3d387a0dfa31"
      },
      "source": [
        "rf_grid = GridSearchCV(estimator = rf, param_grid=random_grid, cv = 3, n_jobs = -1 )\n",
        "rf_grid.fit(x_train,y_train)"
      ],
      "execution_count": null,
      "outputs": [
        {
          "output_type": "execute_result",
          "data": {
            "text/plain": [
              "GridSearchCV(cv=3, error_score=nan,\n",
              "             estimator=RandomForestRegressor(bootstrap=True, ccp_alpha=0.0,\n",
              "                                             criterion='mse', max_depth=None,\n",
              "                                             max_features='auto',\n",
              "                                             max_leaf_nodes=None,\n",
              "                                             max_samples=None,\n",
              "                                             min_impurity_decrease=0.0,\n",
              "                                             min_impurity_split=None,\n",
              "                                             min_samples_leaf=1,\n",
              "                                             min_samples_split=2,\n",
              "                                             min_weight_fraction_leaf=0.0,\n",
              "                                             n_estimators=100, n_jobs=None,\n",
              "                                             oob_score=False, random_state=None,\n",
              "                                             verbose=0, warm_start=False),\n",
              "             iid='deprecated', n_jobs=-1,\n",
              "             param_grid={'max_depth': [2, 4, 8, 16, 25, None],\n",
              "                         'max_features': ['auto', 'log2', 2, 4, 8, 12],\n",
              "                         'n_estimators': [10, 50, 100, 200, 300, 500]},\n",
              "             pre_dispatch='2*n_jobs', refit=True, return_train_score=False,\n",
              "             scoring=None, verbose=0)"
            ]
          },
          "metadata": {
            "tags": []
          },
          "execution_count": 124
        }
      ]
    },
    {
      "cell_type": "code",
      "metadata": {
        "id": "U25vOPXX7MUc",
        "colab_type": "code",
        "colab": {
          "base_uri": "https://localhost:8080/",
          "height": 34
        },
        "outputId": "56530bcf-d4f5-4364-8ea0-06a8ab33f98f"
      },
      "source": [
        "rf_grid.score(x_train,y_train)"
      ],
      "execution_count": null,
      "outputs": [
        {
          "output_type": "execute_result",
          "data": {
            "text/plain": [
              "0.9753626597407492"
            ]
          },
          "metadata": {
            "tags": []
          },
          "execution_count": 125
        }
      ]
    },
    {
      "cell_type": "code",
      "metadata": {
        "id": "GDGWjsf97VcJ",
        "colab_type": "code",
        "colab": {
          "base_uri": "https://localhost:8080/",
          "height": 34
        },
        "outputId": "fbc4c868-4679-4693-e289-78d7eceb49bc"
      },
      "source": [
        "rf_grid.best_params_"
      ],
      "execution_count": null,
      "outputs": [
        {
          "output_type": "execute_result",
          "data": {
            "text/plain": [
              "{'max_depth': 25, 'max_features': 8, 'n_estimators': 500}"
            ]
          },
          "metadata": {
            "tags": []
          },
          "execution_count": 126
        }
      ]
    },
    {
      "cell_type": "code",
      "metadata": {
        "id": "ixmlWOazNXIe",
        "colab_type": "code",
        "colab": {
          "base_uri": "https://localhost:8080/",
          "height": 487
        },
        "outputId": "86210481-7d12-4ccb-c366-d24d02c370cf"
      },
      "source": [
        "rf_random = RandomizedSearchCV(estimator = rf, param_distributions = random_grid, n_iter = 10, cv = 3, verbose=2, random_state=100, n_jobs = -1)\n",
        "# Fit the random search model\n",
        "rf_random.fit(x_train, y_train)"
      ],
      "execution_count": null,
      "outputs": [
        {
          "output_type": "stream",
          "text": [
            "Fitting 3 folds for each of 10 candidates, totalling 30 fits\n"
          ],
          "name": "stdout"
        },
        {
          "output_type": "stream",
          "text": [
            "[Parallel(n_jobs=-1)]: Using backend LokyBackend with 2 concurrent workers.\n",
            "[Parallel(n_jobs=-1)]: Done  30 out of  30 | elapsed:   28.2s finished\n"
          ],
          "name": "stderr"
        },
        {
          "output_type": "execute_result",
          "data": {
            "text/plain": [
              "RandomizedSearchCV(cv=3, error_score=nan,\n",
              "                   estimator=RandomForestRegressor(bootstrap=True,\n",
              "                                                   ccp_alpha=0.0,\n",
              "                                                   criterion='mse',\n",
              "                                                   max_depth=None,\n",
              "                                                   max_features='auto',\n",
              "                                                   max_leaf_nodes=None,\n",
              "                                                   max_samples=None,\n",
              "                                                   min_impurity_decrease=0.0,\n",
              "                                                   min_impurity_split=None,\n",
              "                                                   min_samples_leaf=1,\n",
              "                                                   min_samples_split=2,\n",
              "                                                   min_weight_fraction_leaf=0.0,\n",
              "                                                   n_estimators=100,\n",
              "                                                   n_jobs=None, oob_score=False,\n",
              "                                                   random_state=None, verbose=0,\n",
              "                                                   warm_start=False),\n",
              "                   iid='deprecated', n_iter=10, n_jobs=-1,\n",
              "                   param_distributions={'max_depth': [2, 4, 8, 16, 25, None],\n",
              "                                        'max_features': ['auto', 'log2', 2, 4,\n",
              "                                                         8, 12],\n",
              "                                        'n_estimators': [10, 50, 100, 200, 300,\n",
              "                                                         500]},\n",
              "                   pre_dispatch='2*n_jobs', random_state=100, refit=True,\n",
              "                   return_train_score=False, scoring=None, verbose=2)"
            ]
          },
          "metadata": {
            "tags": []
          },
          "execution_count": 127
        }
      ]
    },
    {
      "cell_type": "code",
      "metadata": {
        "id": "NUyLNknEreZW",
        "colab_type": "code",
        "colab": {
          "base_uri": "https://localhost:8080/",
          "height": 34
        },
        "outputId": "1978a912-be00-4bc3-a6ab-44efa0340188"
      },
      "source": [
        "rf_random.best_params_"
      ],
      "execution_count": null,
      "outputs": [
        {
          "output_type": "execute_result",
          "data": {
            "text/plain": [
              "{'max_depth': None, 'max_features': 8, 'n_estimators': 100}"
            ]
          },
          "metadata": {
            "tags": []
          },
          "execution_count": 128
        }
      ]
    },
    {
      "cell_type": "code",
      "metadata": {
        "id": "P7Lr8mZUUH3i",
        "colab_type": "code",
        "colab": {
          "base_uri": "https://localhost:8080/",
          "height": 34
        },
        "outputId": "ffe994b1-6a72-452a-eb65-d236874c48f8"
      },
      "source": [
        "rf_random.score(x_train,y_train)"
      ],
      "execution_count": null,
      "outputs": [
        {
          "output_type": "execute_result",
          "data": {
            "text/plain": [
              "0.9756291508837123"
            ]
          },
          "metadata": {
            "tags": []
          },
          "execution_count": 129
        }
      ]
    },
    {
      "cell_type": "code",
      "metadata": {
        "id": "A3s9hMVqU6U-",
        "colab_type": "code",
        "colab": {
          "base_uri": "https://localhost:8080/",
          "height": 34
        },
        "outputId": "554fe4b3-9d0f-45cc-adbb-bccaa0336eca"
      },
      "source": [
        "rf.score(x_train,y_train)"
      ],
      "execution_count": null,
      "outputs": [
        {
          "output_type": "execute_result",
          "data": {
            "text/plain": [
              "0.9735686468558893"
            ]
          },
          "metadata": {
            "tags": []
          },
          "execution_count": 130
        }
      ]
    },
    {
      "cell_type": "markdown",
      "metadata": {
        "colab_type": "text",
        "id": "tHfIaYsL8qxv"
      },
      "source": [
        "<a id=section9></a>\n",
        "## Conclusion"
      ]
    },
    {
      "cell_type": "markdown",
      "metadata": {
        "colab_type": "text",
        "id": "JIyRZEym8qxw"
      },
      "source": [
        "- **R squared** values for __Training set is 0.77__ \n",
        "  - Since the difference in **R squared** values for __training and test__ is **very small**, it indicates that our model is **not overfitting** on the **training set** and is **generalizing** well on the **test set**. \n",
        "  - This implies that our model will be able to **make good predictions on new data** and will help the __Loan Aggregator Agency__ to assign suitable **Interest.Rate** to the new applicants based on their applications.\n",
        "\n",
        "\n",
        "- Further improvements can be made on the model by using some **Feature Selection** methods or by using much **powerful algorithms** like: \n",
        "  -  **SVM**\n",
        "  - **Ensemble Learning Algorithms** \n",
        "  - **Artificial Neural Networks(ANNs)**\n",
        "  - etc..\n",
        "  \n",
        "  which you will study as the course goes on."
      ]
    }
  ]
}